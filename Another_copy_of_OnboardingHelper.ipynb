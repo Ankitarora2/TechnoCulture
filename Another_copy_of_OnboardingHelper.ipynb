{
  "nbformat": 4,
  "nbformat_minor": 0,
  "metadata": {
    "colab": {
      "provenance": [],
      "gpuType": "T4",
      "include_colab_link": true
    },
    "kernelspec": {
      "name": "python3",
      "display_name": "Python 3"
    },
    "language_info": {
      "name": "python"
    },
    "accelerator": "GPU"
  },
  "cells": [
    {
      "cell_type": "markdown",
      "metadata": {
        "id": "view-in-github",
        "colab_type": "text"
      },
      "source": [
        "<a href=\"https://colab.research.google.com/github/Ankitarora2/TechnoCulture/blob/main/Another_copy_of_OnboardingHelper.ipynb\" target=\"_parent\"><img src=\"https://colab.research.google.com/assets/colab-badge.svg\" alt=\"Open In Colab\"/></a>"
      ]
    },
    {
      "cell_type": "markdown",
      "source": [
        "# Serve the model using vLLM"
      ],
      "metadata": {
        "id": "IoWlaISn36OH"
      }
    },
    {
      "cell_type": "code",
      "execution_count": 1,
      "metadata": {
        "id": "iRD5aN86v6ED",
        "colab": {
          "base_uri": "https://localhost:8080/"
        },
        "outputId": "b8ded987-3469-4e34-fdea-ecc6b24ed435"
      },
      "outputs": [
        {
          "output_type": "stream",
          "name": "stdout",
          "text": [
            "Collecting dspy-ai\n",
            "  Downloading dspy_ai-2.1.10-py3-none-any.whl (152 kB)\n",
            "\u001b[?25l     \u001b[90m━━━━━━━━━━━━━━━━━━━━━━━━━━━━━━━━━━━━━━━━\u001b[0m \u001b[32m0.0/152.6 kB\u001b[0m \u001b[31m?\u001b[0m eta \u001b[36m-:--:--\u001b[0m\r\u001b[2K     \u001b[90m━━━━━━━━━━━━━━━━━━━━━━━━━━━━━━━━━━━━━━━━\u001b[0m \u001b[32m152.6/152.6 kB\u001b[0m \u001b[31m4.6 MB/s\u001b[0m eta \u001b[36m0:00:00\u001b[0m\n",
            "\u001b[?25hCollecting vllm\n",
            "  Downloading vllm-0.3.0-cp310-cp310-manylinux1_x86_64.whl (38.0 MB)\n",
            "\u001b[2K     \u001b[90m━━━━━━━━━━━━━━━━━━━━━━━━━━━━━━━━━━━━━━━━\u001b[0m \u001b[32m38.0/38.0 MB\u001b[0m \u001b[31m39.7 MB/s\u001b[0m eta \u001b[36m0:00:00\u001b[0m\n",
            "\u001b[?25hCollecting backoff~=2.2.1 (from dspy-ai)\n",
            "  Downloading backoff-2.2.1-py3-none-any.whl (15 kB)\n",
            "Requirement already satisfied: joblib~=1.3.2 in /usr/local/lib/python3.10/dist-packages (from dspy-ai) (1.3.2)\n",
            "Collecting openai<2.0.0,>=0.28.1 (from dspy-ai)\n",
            "  Downloading openai-1.12.0-py3-none-any.whl (226 kB)\n",
            "\u001b[2K     \u001b[90m━━━━━━━━━━━━━━━━━━━━━━━━━━━━━━━━━━━━━━━━\u001b[0m \u001b[32m226.7/226.7 kB\u001b[0m \u001b[31m28.8 MB/s\u001b[0m eta \u001b[36m0:00:00\u001b[0m\n",
            "\u001b[?25hCollecting pandas~=2.1.1 (from dspy-ai)\n",
            "  Downloading pandas-2.1.4-cp310-cp310-manylinux_2_17_x86_64.manylinux2014_x86_64.whl (12.3 MB)\n",
            "\u001b[2K     \u001b[90m━━━━━━━━━━━━━━━━━━━━━━━━━━━━━━━━━━━━━━━━\u001b[0m \u001b[32m12.3/12.3 MB\u001b[0m \u001b[31m99.7 MB/s\u001b[0m eta \u001b[36m0:00:00\u001b[0m\n",
            "\u001b[?25hCollecting regex~=2023.10.3 (from dspy-ai)\n",
            "  Downloading regex-2023.10.3-cp310-cp310-manylinux_2_17_x86_64.manylinux2014_x86_64.whl (773 kB)\n",
            "\u001b[2K     \u001b[90m━━━━━━━━━━━━━━━━━━━━━━━━━━━━━━━━━━━━━━━━\u001b[0m \u001b[32m773.9/773.9 kB\u001b[0m \u001b[31m38.0 MB/s\u001b[0m eta \u001b[36m0:00:00\u001b[0m\n",
            "\u001b[?25hCollecting ujson~=5.8.0 (from dspy-ai)\n",
            "  Downloading ujson-5.8.0-cp310-cp310-manylinux_2_17_x86_64.manylinux2014_x86_64.whl (53 kB)\n",
            "\u001b[2K     \u001b[90m━━━━━━━━━━━━━━━━━━━━━━━━━━━━━━━━━━━━━━━━\u001b[0m \u001b[32m53.9/53.9 kB\u001b[0m \u001b[31m7.4 MB/s\u001b[0m eta \u001b[36m0:00:00\u001b[0m\n",
            "\u001b[?25hRequirement already satisfied: tqdm~=4.66.1 in /usr/local/lib/python3.10/dist-packages (from dspy-ai) (4.66.1)\n",
            "Collecting datasets~=2.14.6 (from dspy-ai)\n",
            "  Downloading datasets-2.14.7-py3-none-any.whl (520 kB)\n",
            "\u001b[2K     \u001b[90m━━━━━━━━━━━━━━━━━━━━━━━━━━━━━━━━━━━━━━━━\u001b[0m \u001b[32m520.4/520.4 kB\u001b[0m \u001b[31m41.2 MB/s\u001b[0m eta \u001b[36m0:00:00\u001b[0m\n",
            "\u001b[?25hRequirement already satisfied: requests~=2.31.0 in /usr/local/lib/python3.10/dist-packages (from dspy-ai) (2.31.0)\n",
            "Collecting optuna~=3.4.0 (from dspy-ai)\n",
            "  Downloading optuna-3.4.0-py3-none-any.whl (409 kB)\n",
            "\u001b[2K     \u001b[90m━━━━━━━━━━━━━━━━━━━━━━━━━━━━━━━━━━━━━━━━\u001b[0m \u001b[32m409.6/409.6 kB\u001b[0m \u001b[31m38.3 MB/s\u001b[0m eta \u001b[36m0:00:00\u001b[0m\n",
            "\u001b[?25hCollecting ninja (from vllm)\n",
            "  Downloading ninja-1.11.1.1-py2.py3-none-manylinux1_x86_64.manylinux_2_5_x86_64.whl (307 kB)\n",
            "\u001b[2K     \u001b[90m━━━━━━━━━━━━━━━━━━━━━━━━━━━━━━━━━━━━━━━━\u001b[0m \u001b[32m307.2/307.2 kB\u001b[0m \u001b[31m2.2 MB/s\u001b[0m eta \u001b[36m0:00:00\u001b[0m\n",
            "\u001b[?25hRequirement already satisfied: psutil in /usr/local/lib/python3.10/dist-packages (from vllm) (5.9.5)\n",
            "Collecting ray>=2.9 (from vllm)\n",
            "  Downloading ray-2.9.2-cp310-cp310-manylinux2014_x86_64.whl (64.9 MB)\n",
            "\u001b[2K     \u001b[90m━━━━━━━━━━━━━━━━━━━━━━━━━━━━━━━━━━━━━━━━\u001b[0m \u001b[32m64.9/64.9 MB\u001b[0m \u001b[31m10.8 MB/s\u001b[0m eta \u001b[36m0:00:00\u001b[0m\n",
            "\u001b[?25hRequirement already satisfied: sentencepiece in /usr/local/lib/python3.10/dist-packages (from vllm) (0.1.99)\n",
            "Requirement already satisfied: numpy in /usr/local/lib/python3.10/dist-packages (from vllm) (1.25.2)\n",
            "Collecting torch==2.1.2 (from vllm)\n",
            "  Downloading torch-2.1.2-cp310-cp310-manylinux1_x86_64.whl (670.2 MB)\n",
            "\u001b[2K     \u001b[90m━━━━━━━━━━━━━━━━━━━━━━━━━━━━━━━━━━━━━━━━\u001b[0m \u001b[32m670.2/670.2 MB\u001b[0m \u001b[31m2.4 MB/s\u001b[0m eta \u001b[36m0:00:00\u001b[0m\n",
            "\u001b[?25hCollecting transformers>=4.37.0 (from vllm)\n",
            "  Downloading transformers-4.37.2-py3-none-any.whl (8.4 MB)\n",
            "\u001b[2K     \u001b[90m━━━━━━━━━━━━━━━━━━━━━━━━━━━━━━━━━━━━━━━━\u001b[0m \u001b[32m8.4/8.4 MB\u001b[0m \u001b[31m105.8 MB/s\u001b[0m eta \u001b[36m0:00:00\u001b[0m\n",
            "\u001b[?25hCollecting xformers==0.0.23.post1 (from vllm)\n",
            "  Downloading xformers-0.0.23.post1-cp310-cp310-manylinux2014_x86_64.whl (213.0 MB)\n",
            "\u001b[2K     \u001b[90m━━━━━━━━━━━━━━━━━━━━━━━━━━━━━━━━━━━━━━━━\u001b[0m \u001b[32m213.0/213.0 MB\u001b[0m \u001b[31m6.1 MB/s\u001b[0m eta \u001b[36m0:00:00\u001b[0m\n",
            "\u001b[?25hCollecting fastapi (from vllm)\n",
            "  Downloading fastapi-0.109.2-py3-none-any.whl (92 kB)\n",
            "\u001b[2K     \u001b[90m━━━━━━━━━━━━━━━━━━━━━━━━━━━━━━━━━━━━━━━━\u001b[0m \u001b[32m92.1/92.1 kB\u001b[0m \u001b[31m14.8 MB/s\u001b[0m eta \u001b[36m0:00:00\u001b[0m\n",
            "\u001b[?25hCollecting uvicorn[standard] (from vllm)\n",
            "  Downloading uvicorn-0.27.1-py3-none-any.whl (60 kB)\n",
            "\u001b[2K     \u001b[90m━━━━━━━━━━━━━━━━━━━━━━━━━━━━━━━━━━━━━━━━\u001b[0m \u001b[32m60.8/60.8 kB\u001b[0m \u001b[31m9.4 MB/s\u001b[0m eta \u001b[36m0:00:00\u001b[0m\n",
            "\u001b[?25hRequirement already satisfied: pydantic>=2.0 in /usr/local/lib/python3.10/dist-packages (from vllm) (2.6.1)\n",
            "Collecting aioprometheus[starlette] (from vllm)\n",
            "  Downloading aioprometheus-23.12.0-py3-none-any.whl (31 kB)\n",
            "Collecting pynvml==11.5.0 (from vllm)\n",
            "  Downloading pynvml-11.5.0-py3-none-any.whl (53 kB)\n",
            "\u001b[2K     \u001b[90m━━━━━━━━━━━━━━━━━━━━━━━━━━━━━━━━━━━━━━━━\u001b[0m \u001b[32m53.1/53.1 kB\u001b[0m \u001b[31m8.8 MB/s\u001b[0m eta \u001b[36m0:00:00\u001b[0m\n",
            "\u001b[?25hRequirement already satisfied: filelock in /usr/local/lib/python3.10/dist-packages (from torch==2.1.2->vllm) (3.13.1)\n",
            "Requirement already satisfied: typing-extensions in /usr/local/lib/python3.10/dist-packages (from torch==2.1.2->vllm) (4.9.0)\n",
            "Requirement already satisfied: sympy in /usr/local/lib/python3.10/dist-packages (from torch==2.1.2->vllm) (1.12)\n",
            "Requirement already satisfied: networkx in /usr/local/lib/python3.10/dist-packages (from torch==2.1.2->vllm) (3.2.1)\n",
            "Requirement already satisfied: jinja2 in /usr/local/lib/python3.10/dist-packages (from torch==2.1.2->vllm) (3.1.3)\n",
            "Requirement already satisfied: fsspec in /usr/local/lib/python3.10/dist-packages (from torch==2.1.2->vllm) (2023.6.0)\n",
            "Collecting nvidia-cuda-nvrtc-cu12==12.1.105 (from torch==2.1.2->vllm)\n",
            "  Downloading nvidia_cuda_nvrtc_cu12-12.1.105-py3-none-manylinux1_x86_64.whl (23.7 MB)\n",
            "\u001b[2K     \u001b[90m━━━━━━━━━━━━━━━━━━━━━━━━━━━━━━━━━━━━━━━━\u001b[0m \u001b[32m23.7/23.7 MB\u001b[0m \u001b[31m67.3 MB/s\u001b[0m eta \u001b[36m0:00:00\u001b[0m\n",
            "\u001b[?25hCollecting nvidia-cuda-runtime-cu12==12.1.105 (from torch==2.1.2->vllm)\n",
            "  Downloading nvidia_cuda_runtime_cu12-12.1.105-py3-none-manylinux1_x86_64.whl (823 kB)\n",
            "\u001b[2K     \u001b[90m━━━━━━━━━━━━━━━━━━━━━━━━━━━━━━━━━━━━━━━━\u001b[0m \u001b[32m823.6/823.6 kB\u001b[0m \u001b[31m51.0 MB/s\u001b[0m eta \u001b[36m0:00:00\u001b[0m\n",
            "\u001b[?25hCollecting nvidia-cuda-cupti-cu12==12.1.105 (from torch==2.1.2->vllm)\n",
            "  Downloading nvidia_cuda_cupti_cu12-12.1.105-py3-none-manylinux1_x86_64.whl (14.1 MB)\n",
            "\u001b[2K     \u001b[90m━━━━━━━━━━━━━━━━━━━━━━━━━━━━━━━━━━━━━━━━\u001b[0m \u001b[32m14.1/14.1 MB\u001b[0m \u001b[31m63.9 MB/s\u001b[0m eta \u001b[36m0:00:00\u001b[0m\n",
            "\u001b[?25hCollecting nvidia-cudnn-cu12==8.9.2.26 (from torch==2.1.2->vllm)\n",
            "  Downloading nvidia_cudnn_cu12-8.9.2.26-py3-none-manylinux1_x86_64.whl (731.7 MB)\n",
            "\u001b[2K     \u001b[90m━━━━━━━━━━━━━━━━━━━━━━━━━━━━━━━━━━━━━━━━\u001b[0m \u001b[32m731.7/731.7 MB\u001b[0m \u001b[31m2.3 MB/s\u001b[0m eta \u001b[36m0:00:00\u001b[0m\n",
            "\u001b[?25hCollecting nvidia-cublas-cu12==12.1.3.1 (from torch==2.1.2->vllm)\n",
            "  Downloading nvidia_cublas_cu12-12.1.3.1-py3-none-manylinux1_x86_64.whl (410.6 MB)\n",
            "\u001b[2K     \u001b[90m━━━━━━━━━━━━━━━━━━━━━━━━━━━━━━━━━━━━━━━━\u001b[0m \u001b[32m410.6/410.6 MB\u001b[0m \u001b[31m2.7 MB/s\u001b[0m eta \u001b[36m0:00:00\u001b[0m\n",
            "\u001b[?25hCollecting nvidia-cufft-cu12==11.0.2.54 (from torch==2.1.2->vllm)\n",
            "  Downloading nvidia_cufft_cu12-11.0.2.54-py3-none-manylinux1_x86_64.whl (121.6 MB)\n",
            "\u001b[2K     \u001b[90m━━━━━━━━━━━━━━━━━━━━━━━━━━━━━━━━━━━━━━━━\u001b[0m \u001b[32m121.6/121.6 MB\u001b[0m \u001b[31m8.2 MB/s\u001b[0m eta \u001b[36m0:00:00\u001b[0m\n",
            "\u001b[?25hCollecting nvidia-curand-cu12==10.3.2.106 (from torch==2.1.2->vllm)\n",
            "  Downloading nvidia_curand_cu12-10.3.2.106-py3-none-manylinux1_x86_64.whl (56.5 MB)\n",
            "\u001b[2K     \u001b[90m━━━━━━━━━━━━━━━━━━━━━━━━━━━━━━━━━━━━━━━━\u001b[0m \u001b[32m56.5/56.5 MB\u001b[0m \u001b[31m11.0 MB/s\u001b[0m eta \u001b[36m0:00:00\u001b[0m\n",
            "\u001b[?25hCollecting nvidia-cusolver-cu12==11.4.5.107 (from torch==2.1.2->vllm)\n",
            "  Downloading nvidia_cusolver_cu12-11.4.5.107-py3-none-manylinux1_x86_64.whl (124.2 MB)\n",
            "\u001b[2K     \u001b[90m━━━━━━━━━━━━━━━━━━━━━━━━━━━━━━━━━━━━━━━━\u001b[0m \u001b[32m124.2/124.2 MB\u001b[0m \u001b[31m8.2 MB/s\u001b[0m eta \u001b[36m0:00:00\u001b[0m\n",
            "\u001b[?25hCollecting nvidia-cusparse-cu12==12.1.0.106 (from torch==2.1.2->vllm)\n",
            "  Downloading nvidia_cusparse_cu12-12.1.0.106-py3-none-manylinux1_x86_64.whl (196.0 MB)\n",
            "\u001b[2K     \u001b[90m━━━━━━━━━━━━━━━━━━━━━━━━━━━━━━━━━━━━━━━━\u001b[0m \u001b[32m196.0/196.0 MB\u001b[0m \u001b[31m6.5 MB/s\u001b[0m eta \u001b[36m0:00:00\u001b[0m\n",
            "\u001b[?25hCollecting nvidia-nccl-cu12==2.18.1 (from torch==2.1.2->vllm)\n",
            "  Downloading nvidia_nccl_cu12-2.18.1-py3-none-manylinux1_x86_64.whl (209.8 MB)\n",
            "\u001b[2K     \u001b[90m━━━━━━━━━━━━━━━━━━━━━━━━━━━━━━━━━━━━━━━━\u001b[0m \u001b[32m209.8/209.8 MB\u001b[0m \u001b[31m6.0 MB/s\u001b[0m eta \u001b[36m0:00:00\u001b[0m\n",
            "\u001b[?25hCollecting nvidia-nvtx-cu12==12.1.105 (from torch==2.1.2->vllm)\n",
            "  Downloading nvidia_nvtx_cu12-12.1.105-py3-none-manylinux1_x86_64.whl (99 kB)\n",
            "\u001b[2K     \u001b[90m━━━━━━━━━━━━━━━━━━━━━━━━━━━━━━━━━━━━━━━━\u001b[0m \u001b[32m99.1/99.1 kB\u001b[0m \u001b[31m15.8 MB/s\u001b[0m eta \u001b[36m0:00:00\u001b[0m\n",
            "\u001b[?25hRequirement already satisfied: triton==2.1.0 in /usr/local/lib/python3.10/dist-packages (from torch==2.1.2->vllm) (2.1.0)\n",
            "Collecting nvidia-nvjitlink-cu12 (from nvidia-cusolver-cu12==11.4.5.107->torch==2.1.2->vllm)\n",
            "  Downloading nvidia_nvjitlink_cu12-12.3.101-py3-none-manylinux1_x86_64.whl (20.5 MB)\n",
            "\u001b[2K     \u001b[90m━━━━━━━━━━━━━━━━━━━━━━━━━━━━━━━━━━━━━━━━\u001b[0m \u001b[32m20.5/20.5 MB\u001b[0m \u001b[31m26.8 MB/s\u001b[0m eta \u001b[36m0:00:00\u001b[0m\n",
            "\u001b[?25hRequirement already satisfied: pyarrow>=8.0.0 in /usr/local/lib/python3.10/dist-packages (from datasets~=2.14.6->dspy-ai) (10.0.1)\n",
            "Requirement already satisfied: pyarrow-hotfix in /usr/local/lib/python3.10/dist-packages (from datasets~=2.14.6->dspy-ai) (0.6)\n",
            "Collecting dill<0.3.8,>=0.3.0 (from datasets~=2.14.6->dspy-ai)\n",
            "  Downloading dill-0.3.7-py3-none-any.whl (115 kB)\n",
            "\u001b[2K     \u001b[90m━━━━━━━━━━━━━━━━━━━━━━━━━━━━━━━━━━━━━━━━\u001b[0m \u001b[32m115.3/115.3 kB\u001b[0m \u001b[31m15.8 MB/s\u001b[0m eta \u001b[36m0:00:00\u001b[0m\n",
            "\u001b[?25hRequirement already satisfied: xxhash in /usr/local/lib/python3.10/dist-packages (from datasets~=2.14.6->dspy-ai) (3.4.1)\n",
            "Collecting multiprocess (from datasets~=2.14.6->dspy-ai)\n",
            "  Downloading multiprocess-0.70.16-py310-none-any.whl (134 kB)\n",
            "\u001b[2K     \u001b[90m━━━━━━━━━━━━━━━━━━━━━━━━━━━━━━━━━━━━━━━━\u001b[0m \u001b[32m134.8/134.8 kB\u001b[0m \u001b[31m19.0 MB/s\u001b[0m eta \u001b[36m0:00:00\u001b[0m\n",
            "\u001b[?25hRequirement already satisfied: aiohttp in /usr/local/lib/python3.10/dist-packages (from datasets~=2.14.6->dspy-ai) (3.9.3)\n",
            "Requirement already satisfied: huggingface-hub<1.0.0,>=0.14.0 in /usr/local/lib/python3.10/dist-packages (from datasets~=2.14.6->dspy-ai) (0.20.3)\n",
            "Requirement already satisfied: packaging in /usr/local/lib/python3.10/dist-packages (from datasets~=2.14.6->dspy-ai) (23.2)\n",
            "Requirement already satisfied: pyyaml>=5.1 in /usr/local/lib/python3.10/dist-packages (from datasets~=2.14.6->dspy-ai) (6.0.1)\n",
            "Requirement already satisfied: anyio<5,>=3.5.0 in /usr/local/lib/python3.10/dist-packages (from openai<2.0.0,>=0.28.1->dspy-ai) (3.7.1)\n",
            "Requirement already satisfied: distro<2,>=1.7.0 in /usr/lib/python3/dist-packages (from openai<2.0.0,>=0.28.1->dspy-ai) (1.7.0)\n",
            "Collecting httpx<1,>=0.23.0 (from openai<2.0.0,>=0.28.1->dspy-ai)\n",
            "  Downloading httpx-0.26.0-py3-none-any.whl (75 kB)\n",
            "\u001b[2K     \u001b[90m━━━━━━━━━━━━━━━━━━━━━━━━━━━━━━━━━━━━━━━━\u001b[0m \u001b[32m75.9/75.9 kB\u001b[0m \u001b[31m10.8 MB/s\u001b[0m eta \u001b[36m0:00:00\u001b[0m\n",
            "\u001b[?25hRequirement already satisfied: sniffio in /usr/local/lib/python3.10/dist-packages (from openai<2.0.0,>=0.28.1->dspy-ai) (1.3.0)\n",
            "Collecting alembic>=1.5.0 (from optuna~=3.4.0->dspy-ai)\n",
            "  Downloading alembic-1.13.1-py3-none-any.whl (233 kB)\n",
            "\u001b[2K     \u001b[90m━━━━━━━━━━━━━━━━━━━━━━━━━━━━━━━━━━━━━━━━\u001b[0m \u001b[32m233.4/233.4 kB\u001b[0m \u001b[31m21.0 MB/s\u001b[0m eta \u001b[36m0:00:00\u001b[0m\n",
            "\u001b[?25hCollecting colorlog (from optuna~=3.4.0->dspy-ai)\n",
            "  Downloading colorlog-6.8.2-py3-none-any.whl (11 kB)\n",
            "Requirement already satisfied: sqlalchemy>=1.3.0 in /usr/local/lib/python3.10/dist-packages (from optuna~=3.4.0->dspy-ai) (2.0.25)\n",
            "Requirement already satisfied: python-dateutil>=2.8.2 in /usr/local/lib/python3.10/dist-packages (from pandas~=2.1.1->dspy-ai) (2.8.2)\n",
            "Requirement already satisfied: pytz>=2020.1 in /usr/local/lib/python3.10/dist-packages (from pandas~=2.1.1->dspy-ai) (2023.4)\n",
            "Collecting tzdata>=2022.1 (from pandas~=2.1.1->dspy-ai)\n",
            "  Downloading tzdata-2024.1-py2.py3-none-any.whl (345 kB)\n",
            "\u001b[2K     \u001b[90m━━━━━━━━━━━━━━━━━━━━━━━━━━━━━━━━━━━━━━━━\u001b[0m \u001b[32m345.4/345.4 kB\u001b[0m \u001b[31m34.5 MB/s\u001b[0m eta \u001b[36m0:00:00\u001b[0m\n",
            "\u001b[?25hRequirement already satisfied: annotated-types>=0.4.0 in /usr/local/lib/python3.10/dist-packages (from pydantic>=2.0->vllm) (0.6.0)\n",
            "Requirement already satisfied: pydantic-core==2.16.2 in /usr/local/lib/python3.10/dist-packages (from pydantic>=2.0->vllm) (2.16.2)\n",
            "Requirement already satisfied: click>=7.0 in /usr/local/lib/python3.10/dist-packages (from ray>=2.9->vllm) (8.1.7)\n",
            "Requirement already satisfied: jsonschema in /usr/local/lib/python3.10/dist-packages (from ray>=2.9->vllm) (4.19.2)\n",
            "Requirement already satisfied: msgpack<2.0.0,>=1.0.0 in /usr/local/lib/python3.10/dist-packages (from ray>=2.9->vllm) (1.0.7)\n",
            "Requirement already satisfied: protobuf!=3.19.5,>=3.15.3 in /usr/local/lib/python3.10/dist-packages (from ray>=2.9->vllm) (3.20.3)\n",
            "Requirement already satisfied: aiosignal in /usr/local/lib/python3.10/dist-packages (from ray>=2.9->vllm) (1.3.1)\n",
            "Requirement already satisfied: frozenlist in /usr/local/lib/python3.10/dist-packages (from ray>=2.9->vllm) (1.4.1)\n",
            "Requirement already satisfied: charset-normalizer<4,>=2 in /usr/local/lib/python3.10/dist-packages (from requests~=2.31.0->dspy-ai) (3.3.2)\n",
            "Requirement already satisfied: idna<4,>=2.5 in /usr/local/lib/python3.10/dist-packages (from requests~=2.31.0->dspy-ai) (3.6)\n",
            "Requirement already satisfied: urllib3<3,>=1.21.1 in /usr/local/lib/python3.10/dist-packages (from requests~=2.31.0->dspy-ai) (2.0.7)\n",
            "Requirement already satisfied: certifi>=2017.4.17 in /usr/local/lib/python3.10/dist-packages (from requests~=2.31.0->dspy-ai) (2024.2.2)\n",
            "Requirement already satisfied: tokenizers<0.19,>=0.14 in /usr/local/lib/python3.10/dist-packages (from transformers>=4.37.0->vllm) (0.15.1)\n",
            "Requirement already satisfied: safetensors>=0.4.1 in /usr/local/lib/python3.10/dist-packages (from transformers>=4.37.0->vllm) (0.4.2)\n",
            "Collecting orjson (from aioprometheus[starlette]->vllm)\n",
            "  Downloading orjson-3.9.14-cp310-cp310-manylinux_2_17_x86_64.manylinux2014_x86_64.whl (138 kB)\n",
            "\u001b[2K     \u001b[90m━━━━━━━━━━━━━━━━━━━━━━━━━━━━━━━━━━━━━━━━\u001b[0m \u001b[32m139.0/139.0 kB\u001b[0m \u001b[31m20.0 MB/s\u001b[0m eta \u001b[36m0:00:00\u001b[0m\n",
            "\u001b[?25hCollecting quantile-python>=1.1 (from aioprometheus[starlette]->vllm)\n",
            "  Downloading quantile-python-1.1.tar.gz (2.9 kB)\n",
            "  Preparing metadata (setup.py) ... \u001b[?25l\u001b[?25hdone\n",
            "Collecting starlette>=0.14.2 (from aioprometheus[starlette]->vllm)\n",
            "  Downloading starlette-0.37.1-py3-none-any.whl (71 kB)\n",
            "\u001b[2K     \u001b[90m━━━━━━━━━━━━━━━━━━━━━━━━━━━━━━━━━━━━━━━━\u001b[0m \u001b[32m72.0/72.0 kB\u001b[0m \u001b[31m10.9 MB/s\u001b[0m eta \u001b[36m0:00:00\u001b[0m\n",
            "\u001b[?25h  Downloading starlette-0.36.3-py3-none-any.whl (71 kB)\n",
            "\u001b[2K     \u001b[90m━━━━━━━━━━━━━━━━━━━━━━━━━━━━━━━━━━━━━━━━\u001b[0m \u001b[32m71.5/71.5 kB\u001b[0m \u001b[31m10.7 MB/s\u001b[0m eta \u001b[36m0:00:00\u001b[0m\n",
            "\u001b[?25hCollecting h11>=0.8 (from uvicorn[standard]->vllm)\n",
            "  Downloading h11-0.14.0-py3-none-any.whl (58 kB)\n",
            "\u001b[2K     \u001b[90m━━━━━━━━━━━━━━━━━━━━━━━━━━━━━━━━━━━━━━━━\u001b[0m \u001b[32m58.3/58.3 kB\u001b[0m \u001b[31m9.9 MB/s\u001b[0m eta \u001b[36m0:00:00\u001b[0m\n",
            "\u001b[?25hCollecting httptools>=0.5.0 (from uvicorn[standard]->vllm)\n",
            "  Downloading httptools-0.6.1-cp310-cp310-manylinux_2_5_x86_64.manylinux1_x86_64.manylinux_2_17_x86_64.manylinux2014_x86_64.whl (341 kB)\n",
            "\u001b[2K     \u001b[90m━━━━━━━━━━━━━━━━━━━━━━━━━━━━━━━━━━━━━━━━\u001b[0m \u001b[32m341.4/341.4 kB\u001b[0m \u001b[31m36.5 MB/s\u001b[0m eta \u001b[36m0:00:00\u001b[0m\n",
            "\u001b[?25hCollecting python-dotenv>=0.13 (from uvicorn[standard]->vllm)\n",
            "  Downloading python_dotenv-1.0.1-py3-none-any.whl (19 kB)\n",
            "Collecting uvloop!=0.15.0,!=0.15.1,>=0.14.0 (from uvicorn[standard]->vllm)\n",
            "  Downloading uvloop-0.19.0-cp310-cp310-manylinux_2_17_x86_64.manylinux2014_x86_64.whl (3.4 MB)\n",
            "\u001b[2K     \u001b[90m━━━━━━━━━━━━━━━━━━━━━━━━━━━━━━━━━━━━━━━━\u001b[0m \u001b[32m3.4/3.4 MB\u001b[0m \u001b[31m91.0 MB/s\u001b[0m eta \u001b[36m0:00:00\u001b[0m\n",
            "\u001b[?25hCollecting watchfiles>=0.13 (from uvicorn[standard]->vllm)\n",
            "  Downloading watchfiles-0.21.0-cp310-cp310-manylinux_2_17_x86_64.manylinux2014_x86_64.whl (1.3 MB)\n",
            "\u001b[2K     \u001b[90m━━━━━━━━━━━━━━━━━━━━━━━━━━━━━━━━━━━━━━━━\u001b[0m \u001b[32m1.3/1.3 MB\u001b[0m \u001b[31m84.6 MB/s\u001b[0m eta \u001b[36m0:00:00\u001b[0m\n",
            "\u001b[?25hCollecting websockets>=10.4 (from uvicorn[standard]->vllm)\n",
            "  Downloading websockets-12.0-cp310-cp310-manylinux_2_5_x86_64.manylinux1_x86_64.manylinux_2_17_x86_64.manylinux2014_x86_64.whl (130 kB)\n",
            "\u001b[2K     \u001b[90m━━━━━━━━━━━━━━━━━━━━━━━━━━━━━━━━━━━━━━━━\u001b[0m \u001b[32m130.2/130.2 kB\u001b[0m \u001b[31m20.7 MB/s\u001b[0m eta \u001b[36m0:00:00\u001b[0m\n",
            "\u001b[?25hCollecting Mako (from alembic>=1.5.0->optuna~=3.4.0->dspy-ai)\n",
            "  Downloading Mako-1.3.2-py3-none-any.whl (78 kB)\n",
            "\u001b[2K     \u001b[90m━━━━━━━━━━━━━━━━━━━━━━━━━━━━━━━━━━━━━━━━\u001b[0m \u001b[32m78.7/78.7 kB\u001b[0m \u001b[31m11.4 MB/s\u001b[0m eta \u001b[36m0:00:00\u001b[0m\n",
            "\u001b[?25hRequirement already satisfied: exceptiongroup in /usr/local/lib/python3.10/dist-packages (from anyio<5,>=3.5.0->openai<2.0.0,>=0.28.1->dspy-ai) (1.2.0)\n",
            "Requirement already satisfied: attrs>=17.3.0 in /usr/local/lib/python3.10/dist-packages (from aiohttp->datasets~=2.14.6->dspy-ai) (23.2.0)\n",
            "Requirement already satisfied: multidict<7.0,>=4.5 in /usr/local/lib/python3.10/dist-packages (from aiohttp->datasets~=2.14.6->dspy-ai) (6.0.5)\n",
            "Requirement already satisfied: yarl<2.0,>=1.0 in /usr/local/lib/python3.10/dist-packages (from aiohttp->datasets~=2.14.6->dspy-ai) (1.9.4)\n",
            "Requirement already satisfied: async-timeout<5.0,>=4.0 in /usr/local/lib/python3.10/dist-packages (from aiohttp->datasets~=2.14.6->dspy-ai) (4.0.3)\n",
            "Collecting httpcore==1.* (from httpx<1,>=0.23.0->openai<2.0.0,>=0.28.1->dspy-ai)\n",
            "  Downloading httpcore-1.0.3-py3-none-any.whl (77 kB)\n",
            "\u001b[2K     \u001b[90m━━━━━━━━━━━━━━━━━━━━━━━━━━━━━━━━━━━━━━━━\u001b[0m \u001b[32m77.0/77.0 kB\u001b[0m \u001b[31m10.1 MB/s\u001b[0m eta \u001b[36m0:00:00\u001b[0m\n",
            "\u001b[?25hRequirement already satisfied: six>=1.5 in /usr/local/lib/python3.10/dist-packages (from python-dateutil>=2.8.2->pandas~=2.1.1->dspy-ai) (1.16.0)\n",
            "Requirement already satisfied: greenlet!=0.4.17 in /usr/local/lib/python3.10/dist-packages (from sqlalchemy>=1.3.0->optuna~=3.4.0->dspy-ai) (3.0.3)\n",
            "Requirement already satisfied: MarkupSafe>=2.0 in /usr/local/lib/python3.10/dist-packages (from jinja2->torch==2.1.2->vllm) (2.1.5)\n",
            "Requirement already satisfied: jsonschema-specifications>=2023.03.6 in /usr/local/lib/python3.10/dist-packages (from jsonschema->ray>=2.9->vllm) (2023.12.1)\n",
            "Requirement already satisfied: referencing>=0.28.4 in /usr/local/lib/python3.10/dist-packages (from jsonschema->ray>=2.9->vllm) (0.33.0)\n",
            "Requirement already satisfied: rpds-py>=0.7.1 in /usr/local/lib/python3.10/dist-packages (from jsonschema->ray>=2.9->vllm) (0.17.1)\n",
            "INFO: pip is looking at multiple versions of multiprocess to determine which version is compatible with other requirements. This could take a while.\n",
            "Collecting multiprocess (from datasets~=2.14.6->dspy-ai)\n",
            "  Downloading multiprocess-0.70.15-py310-none-any.whl (134 kB)\n",
            "\u001b[2K     \u001b[90m━━━━━━━━━━━━━━━━━━━━━━━━━━━━━━━━━━━━━━━━\u001b[0m \u001b[32m134.8/134.8 kB\u001b[0m \u001b[31m20.2 MB/s\u001b[0m eta \u001b[36m0:00:00\u001b[0m\n",
            "\u001b[?25hRequirement already satisfied: mpmath>=0.19 in /usr/local/lib/python3.10/dist-packages (from sympy->torch==2.1.2->vllm) (1.3.0)\n",
            "Building wheels for collected packages: quantile-python\n",
            "  Building wheel for quantile-python (setup.py) ... \u001b[?25l\u001b[?25hdone\n",
            "  Created wheel for quantile-python: filename=quantile_python-1.1-py3-none-any.whl size=3444 sha256=0b7a5c89d3dd9a7a49d84157cadf156284e5e587000db05e227a0a275a90caff\n",
            "  Stored in directory: /root/.cache/pip/wheels/6d/f4/0a/0e7d01548a005f9f3fa23101f071d248da052f2a9bf2fe11c6\n",
            "Successfully built quantile-python\n",
            "Installing collected packages: quantile-python, ninja, websockets, uvloop, ujson, tzdata, regex, python-dotenv, pynvml, orjson, nvidia-nvtx-cu12, nvidia-nvjitlink-cu12, nvidia-nccl-cu12, nvidia-curand-cu12, nvidia-cufft-cu12, nvidia-cuda-runtime-cu12, nvidia-cuda-nvrtc-cu12, nvidia-cuda-cupti-cu12, nvidia-cublas-cu12, Mako, httptools, h11, dill, colorlog, backoff, watchfiles, uvicorn, starlette, pandas, nvidia-cusparse-cu12, nvidia-cudnn-cu12, multiprocess, httpcore, alembic, aioprometheus, optuna, nvidia-cusolver-cu12, httpx, fastapi, transformers, torch, ray, openai, datasets, xformers, dspy-ai, vllm\n",
            "  Attempting uninstall: regex\n",
            "    Found existing installation: regex 2023.12.25\n",
            "    Uninstalling regex-2023.12.25:\n",
            "      Successfully uninstalled regex-2023.12.25\n",
            "  Attempting uninstall: pandas\n",
            "    Found existing installation: pandas 1.5.3\n",
            "    Uninstalling pandas-1.5.3:\n",
            "      Successfully uninstalled pandas-1.5.3\n",
            "  Attempting uninstall: transformers\n",
            "    Found existing installation: transformers 4.35.2\n",
            "    Uninstalling transformers-4.35.2:\n",
            "      Successfully uninstalled transformers-4.35.2\n",
            "  Attempting uninstall: torch\n",
            "    Found existing installation: torch 2.1.0+cu121\n",
            "    Uninstalling torch-2.1.0+cu121:\n",
            "      Successfully uninstalled torch-2.1.0+cu121\n",
            "\u001b[31mERROR: pip's dependency resolver does not currently take into account all the packages that are installed. This behaviour is the source of the following dependency conflicts.\n",
            "lida 0.0.10 requires kaleido, which is not installed.\n",
            "lida 0.0.10 requires python-multipart, which is not installed.\n",
            "llmx 0.0.15a0 requires cohere, which is not installed.\n",
            "llmx 0.0.15a0 requires tiktoken, which is not installed.\n",
            "bigframes 0.20.1 requires pandas<2.1.4,>=1.5.0, but you have pandas 2.1.4 which is incompatible.\n",
            "google-colab 1.0.0 requires pandas==1.5.3, but you have pandas 2.1.4 which is incompatible.\n",
            "torchaudio 2.1.0+cu121 requires torch==2.1.0, but you have torch 2.1.2 which is incompatible.\n",
            "torchdata 0.7.0 requires torch==2.1.0, but you have torch 2.1.2 which is incompatible.\n",
            "torchtext 0.16.0 requires torch==2.1.0, but you have torch 2.1.2 which is incompatible.\n",
            "torchvision 0.16.0+cu121 requires torch==2.1.0, but you have torch 2.1.2 which is incompatible.\u001b[0m\u001b[31m\n",
            "\u001b[0mSuccessfully installed Mako-1.3.2 aioprometheus-23.12.0 alembic-1.13.1 backoff-2.2.1 colorlog-6.8.2 datasets-2.14.7 dill-0.3.7 dspy-ai-2.1.10 fastapi-0.109.2 h11-0.14.0 httpcore-1.0.3 httptools-0.6.1 httpx-0.26.0 multiprocess-0.70.15 ninja-1.11.1.1 nvidia-cublas-cu12-12.1.3.1 nvidia-cuda-cupti-cu12-12.1.105 nvidia-cuda-nvrtc-cu12-12.1.105 nvidia-cuda-runtime-cu12-12.1.105 nvidia-cudnn-cu12-8.9.2.26 nvidia-cufft-cu12-11.0.2.54 nvidia-curand-cu12-10.3.2.106 nvidia-cusolver-cu12-11.4.5.107 nvidia-cusparse-cu12-12.1.0.106 nvidia-nccl-cu12-2.18.1 nvidia-nvjitlink-cu12-12.3.101 nvidia-nvtx-cu12-12.1.105 openai-1.12.0 optuna-3.4.0 orjson-3.9.14 pandas-2.1.4 pynvml-11.5.0 python-dotenv-1.0.1 quantile-python-1.1 ray-2.9.2 regex-2023.10.3 starlette-0.36.3 torch-2.1.2 transformers-4.37.2 tzdata-2024.1 ujson-5.8.0 uvicorn-0.27.1 uvloop-0.19.0 vllm-0.3.0 watchfiles-0.21.0 websockets-12.0 xformers-0.0.23.post1\n"
          ]
        }
      ],
      "source": [
        "!pip install dspy-ai vllm"
      ]
    },
    {
      "cell_type": "code",
      "source": [
        "# Run server in foreground\n",
        "# !python -m vllm.entrypoints.openai.api_server --model TheBloke/dolphin-2.6-mistral-7B-dpo-laser-AWQ --quantization awq\n",
        "\n",
        "# Run server in the background\n",
        "!nohup python -m vllm.entrypoints.openai.api_server --model TheBloke/dolphin-2.6-mistral-7B-dpo-laser-AWQ --quantization awq > server.log 2>&1 &\n",
        "# stdout is redirected to a file `server.log` using `> server.log`.\n",
        "# We use a quantized model prepared using AWQ quantization"
      ],
      "metadata": {
        "id": "07Jt1JJ4yM1a"
      },
      "execution_count": 2,
      "outputs": []
    },
    {
      "cell_type": "code",
      "source": [
        "# Run this cell again and again to monitor the status of the server.\n",
        "# The server can take a few mintues to start.\n",
        "# Once the server has started, you will see logs such as this:\n",
        "# INFO 02-10 07:16:43 llm_engine.py:877] Avg prompt throughput: 0.0 tokens/s, Avg generation throughput: 0.0 tokens/s, Running: 0 reqs, Swapped: 0 reqs, Pending: 0 reqs, GPU KV cache usage: 0.0%, CPU KV cache usage: 0.0%\n",
        "!tail server.log"
      ],
      "metadata": {
        "colab": {
          "base_uri": "https://localhost:8080/"
        },
        "id": "rdJYF7w33hR7",
        "outputId": "578e7169-ec18-4cb4-b57a-13c5e9e9cf9f"
      },
      "execution_count": 4,
      "outputs": [
        {
          "output_type": "stream",
          "name": "stdout",
          "text": [
            "WARNING 02-15 00:09:36 serving_chat.py:264] No chat template provided. Chat API will not work.\n",
            "INFO:     Started server process [2364]\n",
            "INFO:     Waiting for application startup.\n",
            "INFO:     Application startup complete.\n",
            "INFO:     Uvicorn running on http://0.0.0.0:8000 (Press CTRL+C to quit)\n",
            "INFO 02-15 00:09:46 llm_engine.py:877] Avg prompt throughput: 0.0 tokens/s, Avg generation throughput: 0.0 tokens/s, Running: 0 reqs, Swapped: 0 reqs, Pending: 0 reqs, GPU KV cache usage: 0.0%, CPU KV cache usage: 0.0%\n",
            "INFO 02-15 00:09:56 llm_engine.py:877] Avg prompt throughput: 0.0 tokens/s, Avg generation throughput: 0.0 tokens/s, Running: 0 reqs, Swapped: 0 reqs, Pending: 0 reqs, GPU KV cache usage: 0.0%, CPU KV cache usage: 0.0%\n",
            "INFO 02-15 00:10:06 llm_engine.py:877] Avg prompt throughput: 0.0 tokens/s, Avg generation throughput: 0.0 tokens/s, Running: 0 reqs, Swapped: 0 reqs, Pending: 0 reqs, GPU KV cache usage: 0.0%, CPU KV cache usage: 0.0%\n",
            "INFO 02-15 00:10:16 llm_engine.py:877] Avg prompt throughput: 0.0 tokens/s, Avg generation throughput: 0.0 tokens/s, Running: 0 reqs, Swapped: 0 reqs, Pending: 0 reqs, GPU KV cache usage: 0.0%, CPU KV cache usage: 0.0%\n",
            "INFO 02-15 00:10:26 llm_engine.py:877] Avg prompt throughput: 0.0 tokens/s, Avg generation throughput: 0.0 tokens/s, Running: 0 reqs, Swapped: 0 reqs, Pending: 0 reqs, GPU KV cache usage: 0.0%, CPU KV cache usage: 0.0%\n"
          ]
        }
      ]
    },
    {
      "cell_type": "code",
      "source": [
        "# Once the server is up and running, this should work\n",
        "!curl http://localhost:8000/v1/models"
      ],
      "metadata": {
        "colab": {
          "base_uri": "https://localhost:8080/"
        },
        "id": "CXH6ULj6yZBF",
        "outputId": "9f3477cb-4dd4-4c04-f8b8-54d964865b74"
      },
      "execution_count": 5,
      "outputs": [
        {
          "output_type": "stream",
          "name": "stdout",
          "text": [
            "{\"object\":\"list\",\"data\":[{\"id\":\"TheBloke/dolphin-2.6-mistral-7B-dpo-laser-AWQ\",\"object\":\"model\",\"created\":1707955841,\"owned_by\":\"vllm\",\"root\":\"TheBloke/dolphin-2.6-mistral-7B-dpo-laser-AWQ\",\"parent\":null,\"permission\":[{\"id\":\"modelperm-30b5f53111054ef4b142d0d4c15e0395\",\"object\":\"model_permission\",\"created\":1707955841,\"allow_create_engine\":false,\"allow_sampling\":true,\"allow_logprobs\":true,\"allow_search_indices\":false,\"allow_view\":true,\"allow_fine_tuning\":false,\"organization\":\"*\",\"group\":null,\"is_blocking\":false}]}]}"
          ]
        }
      ]
    },
    {
      "cell_type": "markdown",
      "source": [
        "# DSPy: 𝗗eclarative 𝗦elf-improving Language 𝗣rograms"
      ],
      "metadata": {
        "id": "CgHqg5za5CZb"
      }
    },
    {
      "cell_type": "code",
      "source": [
        "import dspy\n",
        "from dspy.evaluate import Evaluate\n",
        "from dspy.teleprompt import BootstrapFewShot, BootstrapFewShotWithRandomSearch, BootstrapFinetune"
      ],
      "metadata": {
        "id": "-k-t4RSfv-Ur"
      },
      "execution_count": 6,
      "outputs": []
    },
    {
      "cell_type": "code",
      "source": [
        "lm = dspy.HFClientVLLM(model=\"TheBloke/dolphin-2.6-mistral-7B-dpo-laser-AWQ\", port=8000, url=\"http://localhost\")\n",
        "\n",
        "dspy.settings.configure(lm=lm)"
      ],
      "metadata": {
        "id": "YwdocZAzwCnt"
      },
      "execution_count": 7,
      "outputs": []
    },
    {
      "cell_type": "code",
      "source": [
        "predict = dspy.Predict('question -> answer')\n",
        "\n",
        "predict(question=\"What is the capital of Germany?\")"
      ],
      "metadata": {
        "colab": {
          "base_uri": "https://localhost:8080/"
        },
        "id": "Qxd3VncpwSa3",
        "outputId": "6c9656b8-55c2-45ef-ee61-2b798f7c13c1"
      },
      "execution_count": 8,
      "outputs": [
        {
          "output_type": "execute_result",
          "data": {
            "text/plain": [
              "Prediction(\n",
              "    answer='Berlin'\n",
              ")"
            ]
          },
          "metadata": {},
          "execution_count": 8
        }
      ]
    },
    {
      "cell_type": "markdown",
      "source": [
        "# Onboarding Task: Build a reasonably complex pipeline\n",
        "- Implement a bunch of signatures, and modules\n",
        "- Use more than one teleprompter to compile and optimize the prompt pipeline\n",
        "- Important to use kNN Few Shot and Chain of thought as part of the solution\n",
        "- End with an ablation study showing the importance of various parameters and modules with matplotlib plots\n",
        "- Use assert and suggust from dspy to further improve your dspy programs, document improvement\n",
        "\n",
        "> No need to use RAG for this task."
      ],
      "metadata": {
        "id": "b32_fgw55u0-"
      }
    },
    {
      "cell_type": "code",
      "source": [
        "\n",
        "train = [\n",
        "    ('I have been diagnosed with pneumonia, what medication should I take?', 'pneumonia, medication'),\n",
        "    ('My doctor prescribed me Amoxicillin for my strep throat, is that sufficient?', 'Amoxicillin, strep throat'),\n",
        "    ('I suffer from asthma, what are the best treatments available?', 'asthma, treatments'),\n",
        "    ('My grandmother has been diagnosed with Alzheimer\\'s disease, how can we manage her symptoms?', 'Alzheimer\\'s disease, symptoms'),\n",
        "    ('What are the symptoms of diabetes and how can I manage them?', 'diabetes, symptoms, management'),\n",
        "    ('I have a history of heart disease, what lifestyle changes should I make?', 'heart disease, lifestyle changes'),\n",
        "    ('My child has been diagnosed with ADHD, what are our options for treatment?', 'ADHD, treatment options'),\n",
        "    ('I have a family history of cancer, what preventive measures should I take?', 'cancer, preventive measures'),\n",
        "    ('What are the signs of depression and how can I seek help?', 'depression, signs, seeking help'),\n",
        "    ('I have been experiencing anxiety attacks, what coping mechanisms can I use?', 'anxiety attacks, coping mechanisms')\n",
        "]\n",
        "\n",
        "dev = [\n",
        "    ('I think I broke my wrist, what should I do?', 'wrist, injury'),\n",
        "    ('My grandmother is experiencing severe joint pain, what could be causing it?', 'joint pain, causes'),\n",
        "    ('What are the early signs of Parkinson\\'s disease?', 'Parkinson\\'s disease, signs'),\n",
        "    ('My father has high blood pressure, what diet changes should he make?', 'high blood pressure, diet changes'),\n",
        "    ('I suspect I have a urinary tract infection, what are the common treatments?', 'urinary tract infection, treatments'),\n",
        "    ('My sister has been diagnosed with celiac disease, what foods should she avoid?', 'celiac disease, foods to avoid'),\n",
        "    ('I have been having migraines frequently, what triggers them and how can I prevent them?', 'migraines, triggers, prevention'),\n",
        "    ('What are the symptoms of irritable bowel syndrome and how is it diagnosed?', 'irritable bowel syndrome, symptoms, diagnosis'),\n",
        "    ('My daughter has a peanut allergy, what precautions should we take?', 'peanut allergy, precautions'),\n",
        "    ('I have been experiencing chest pains, what could be the cause?', 'chest pains, causes')\n",
        "]\n",
        "\n",
        "\n",
        "# Convert the dataset into DSPy Examples\n",
        "# Convert the dataset into DSPy Examples\n",
        "trainset = [dspy.Example(question=question, answer=answer).with_inputs('question') for question, answer in train]\n",
        "devset = [dspy.Example(question=question, answer=answer).with_inputs('question') for question, answer in dev]\n",
        "\n",
        "# Print the lengths of trainset and devset\n",
        "print(len(trainset), len(devset))\n",
        "\n",
        "\n",
        "# Print the lengths of trainset and devset\n",
        "print(len(trainset), len(devset))\n",
        "\n",
        "# Access an example from trainset and devset\n",
        "train_example = trainset[0]\n",
        "dev_example = devset[0]\n",
        "\n",
        "\n",
        "print(train_example.question)"
      ],
      "metadata": {
        "colab": {
          "base_uri": "https://localhost:8080/"
        },
        "id": "48V5if1bYa-j",
        "outputId": "97d3778e-bcc8-4045-8b1e-faa0cf7e94e6"
      },
      "execution_count": null,
      "outputs": [
        {
          "output_type": "stream",
          "name": "stdout",
          "text": [
            "10 10\n",
            "10 10\n",
            "I have been diagnosed with pneumonia, what medication should I take?\n"
          ]
        }
      ]
    },
    {
      "cell_type": "code",
      "source": [
        "import dspy\n",
        "from dspy.evaluate import Evaluate\n",
        "from dspy.teleprompt import BootstrapFewShot, BootstrapFewShotWithRandomSearch, BootstrapFinetune\n",
        "from dspy.teleprompt import KNNFewShot\n",
        "from dspy.predict.knn import KNN\n",
        "\n",
        "class NER(dspy.Signature):\n",
        "    \"\"\"Name entity recognition(Medical related)\"\"\"\n",
        "    question = dspy.InputField(desc=\"Patient's input\")\n",
        "    answer = dspy.OutputField(desc=\"Medical name entities\")\n",
        "\n",
        "\n",
        "class MedicalNER(dspy.Module):\n",
        "    \"\"\"NER\"\"\"\n",
        "\n",
        "    def __init__(self):\n",
        "        super().__init__()\n",
        "        self.remedy_suggest = dspy.ChainOfThought(NER)\n",
        "\n",
        "    def forward(self, question, **kwargs):\n",
        "        return self.remedy_suggest(question=question)\n",
        "\n",
        "\n",
        "\n",
        "\n"
      ],
      "metadata": {
        "id": "lO3boACmwfu6"
      },
      "execution_count": null,
      "outputs": []
    },
    {
      "cell_type": "code",
      "source": [
        "pipeline = MedicalNER()\n",
        "user_input = [\n",
        "    \"I have a headache and a fever, my thorat also feels choke\",\n",
        "    \"My joints ache and I have a rash also i was feeling blue today\",\n",
        "    # Add more user input sentences here\n",
        "]\n",
        "for input_sentence in user_input:\n",
        "    diagnosis = pipeline.forward(input_sentence)\n",
        "    print(f\"Input Sentence: {input_sentence}\")\n",
        "    print(f\"Predicted Diagnosis: {diagnosis.answer}\")\n",
        "    print()\n"
      ],
      "metadata": {
        "colab": {
          "base_uri": "https://localhost:8080/"
        },
        "id": "pppWRqtFZDNa",
        "outputId": "5c0b184b-3c25-4488-ce3b-9c87fb7d744d"
      },
      "execution_count": null,
      "outputs": [
        {
          "output_type": "stream",
          "name": "stdout",
          "text": [
            "Input Sentence: I have a headache and a fever, my thorat also feels choke\n",
            "Predicted Diagnosis: Headache, fever, and throat discomfort.\n",
            "\n",
            "Input Sentence: My joints ache and I have a rash also i was feeling blue today\n",
            "Predicted Diagnosis: Joint ache, rash, depression\n",
            "\n"
          ]
        }
      ]
    },
    {
      "cell_type": "code",
      "source": [
        "import dspy\n",
        "\n",
        "class NER(dspy.Signature):\n",
        "    \"\"\"Name entity recognition(Medical related)\"\"\"\n",
        "    question = dspy.InputField(desc=\"Patient's input\")\n",
        "    answer = dspy.OutputField(desc=\"Medical name entities\")\n",
        "\n",
        "class MedicalNER:\n",
        "    \"\"\"NER\"\"\"\n",
        "\n",
        "    def __init__(self):\n",
        "        self.remedy_suggest = dspy.ChainOfThought(NER)\n",
        "\n",
        "    def forward(self, question, **kwargs):\n",
        "        return self.remedy_suggest(question=question)\n",
        "\n",
        "# Usage\n",
        "medical_ner = MedicalNER()\n",
        "result = medical_ner.forward(question=\"What are the symptoms of COVID-19?\")\n",
        "print(\"NER result:\", result)\n"
      ],
      "metadata": {
        "colab": {
          "base_uri": "https://localhost:8080/"
        },
        "id": "8j18hZXun-9r",
        "outputId": "79c14e62-6090-44db-9374-58d8c6019ccf"
      },
      "execution_count": null,
      "outputs": [
        {
          "output_type": "stream",
          "name": "stdout",
          "text": [
            "NER result: Prediction(\n",
            "    rationale='identify the symptoms of COVID-19. We can refer to the World Health Organization (WHO) and the Centers for Disease Control and Prevention (CDC) for accurate information. According to the WHO and CDC, the most common symptoms of COVID-19 include fever, dry cough, and tiredness. Other symptoms may include aches and pains, nasal congestion, headache, conjunctivitis, sore throat, and diarrhea.',\n",
            "    answer='Fever, dry cough, tiredness, aches and pains, nasal congestion, headache, conjunctivitis, sore throat, and diarrhea.'\n",
            ")\n"
          ]
        }
      ]
    },
    {
      "cell_type": "code",
      "source": [
        "%%writefile parsing.py\n",
        "import argparse\n",
        "import dspy\n",
        "from dspy.evaluate import Evaluate\n",
        "from dspy.teleprompt import BootstrapFewShot, BootstrapFewShotWithRandomSearch, BootstrapFinetune\n",
        "from dspy.teleprompt import KNNFewShot\n",
        "from dspy.predict.knn import KNN\n",
        "\n",
        "class RemedySuggest(dspy.Signature):\n",
        "    \"\"\"Suggests home remedy for the provided symptoms(only natural methods)\"\"\"\n",
        "    question = dspy.InputField(desc=\"Patient's input\")\n",
        "    answer = dspy.OutputField(desc=\"Suggested home remedy(less than 100 words)\")\n",
        "\n",
        "class HomeRemedyPipeline(dspy.Module):\n",
        "    \"\"\"HomeRemedy\"\"\"\n",
        "\n",
        "    def __init__(self):\n",
        "        super().__init__()\n",
        "        self.remedy_suggest = dspy.ChainOfThought(RemedySuggest)\n",
        "\n",
        "    def forward(self, question):\n",
        "        return self.remedy_suggest(question=question)\n",
        "\n",
        "if __name__ == \"__main__\":\n",
        "    # Initialize argparse\n",
        "    parser = argparse.ArgumentParser(description='Home Remedy Pipeline')\n",
        "    parser.add_argument('--question', type=str, help=\"Patient's input\")\n",
        "    args = parser.parse_args()\n",
        "\n",
        "    # Create an instance of HomeRemedyPipeline\n",
        "    home_remedy_pipeline = HomeRemedyPipeline()\n",
        "\n",
        "    # Call the forward method with the question argument\n",
        "    result = home_remedy_pipeline.forward(args.question)\n",
        "\n",
        "    # Print the suggested home remedy\n",
        "    print(\"Suggested home remedy:\", result.answer)\n",
        "\n"
      ],
      "metadata": {
        "colab": {
          "base_uri": "https://localhost:8080/"
        },
        "id": "3K6WfODncZ__",
        "outputId": "054f7174-332b-4cba-b8cf-29bde256e8a2"
      },
      "execution_count": null,
      "outputs": [
        {
          "output_type": "stream",
          "name": "stdout",
          "text": [
            "Overwriting parsing.py\n"
          ]
        }
      ]
    },
    {
      "cell_type": "code",
      "source": [
        "allopathic_medicines = [\n",
        "    \"Paracetamol\",\n",
        "    \"Ibuprofen\",\n",
        "    \"Aspirin\",\n",
        "    \"Omeprazole\",\n",
        "    \"Metformin\",\n",
        "    \"Simvastatin\",\n",
        "    \"Amlodipine\",\n",
        "    \"Levothyroxine\",\n",
        "    \"Lisinopril\",\n",
        "    \"Atorvastatin\",\n",
        "    \"Metoprolol\",\n",
        "    \"Losartan\",\n",
        "    \"Gabapentin\",\n",
        "    \"Amoxicillin\",\n",
        "    \"Azithromycin\",\n",
        "    \"Ciprofloxacin\",\n",
        "    \"Prednisone\",\n",
        "    \"Albuterol\",\n",
        "    \"Hydrochlorothiazide\",\n",
        "    \"Pantoprazole\",\n",
        "    \"Warfarin\",\n",
        "    \"Fluoxetine\",\n",
        "    \"Sertraline\",\n",
        "    \"Citalopram\",\n",
        "    \"Escitalopram\",\n",
        "    \"Tramadol\",\n",
        "    \"Codeine\",\n",
        "    \"Morphine\",\n",
        "    \"Metronidazole\",\n",
        "    \"Lorazepam\",\n",
        "    \"Diazepam\",\n",
        "    \"Acetaminophen\",\n",
        "    \"Furosemide\",\n",
        "    \"Fluticasone\",\n",
        "    \"Ranitidine\",\n",
        "    \"Clarithromycin\",\n",
        "    \"Cephalexin\",\n",
        "    \"Trazodone\",\n",
        "    \"Duloxetine\",\n",
        "    \"Venlafaxine\",\n",
        "    \"Cyclobenzaprine\",\n",
        "    \"Hydrocodone\",\n",
        "    \"Methylprednisolone\",\n",
        "    \"Prednisolone\",\n",
        "    \"Levofloxacin\",\n",
        "    \"Amoxicillin/clavulanate\",\n",
        "    \"Naproxen\",\n",
        "    \"Diphenhydramine\",\n",
        "    \"Cetirizine\",\n",
        "    \"Levothyroxine sodium\"\n",
        "]\n"
      ],
      "metadata": {
        "id": "LJuKqI6Op5it"
      },
      "execution_count": null,
      "outputs": []
    },
    {
      "cell_type": "code",
      "source": [
        "lm = dspy.HFClientVLLM(model=\"TheBloke/dolphin-2.6-mistral-7B-dpo-laser-AWQ\", port=8000, url=\"http://localhost\")\n",
        "\n",
        "dspy.settings.configure(lm=lm)"
      ],
      "metadata": {
        "id": "xFW0nnQarqJj"
      },
      "execution_count": null,
      "outputs": []
    },
    {
      "cell_type": "code",
      "source": [
        "class Pipeline:\n",
        "    \"\"\"Pipeline for home remedy suggestions with assertions\"\"\"\n",
        "\n",
        "    class RemedySuggest(dspy.Signature):\n",
        "        \"\"\"Suggest one best home remedy for the provided symptoms(only natural methods)\"\"\"\n",
        "        question = dspy.InputField(desc=\"Patient's input\")\n",
        "        answer = dspy.OutputField(desc=\"Suggested home remedy(less than 100 words)\")\n",
        "\n",
        "    class HomeRemedyPipelineAssertions(dspy.Module):\n",
        "      \"\"\"Pipeline for home remedy suggestions\"\"\"\n",
        "      def __init__(self):\n",
        "          super().__init__()\n",
        "          self.remedy_suggest = dspy.ChainOfThought(Pipeline.RemedySuggest)\n",
        "\n",
        "      def forward(self, question, **kwargs):\n",
        "          suggested_remedy = self.remedy_suggest(question=question)\n",
        "\n",
        "          dspy.Assert(\n",
        "              not any(keyword in suggested_remedy.answer.lower() for keyword in allopathic_medicines),\n",
        "              \"It's recommended to stick to home remedies. Avoid suggesting medicines.\",\n",
        "              target_module=Pipeline.RemedySuggest\n",
        "          )\n",
        "\n",
        "          # You can add more assertions or suggestions here\n",
        "\n",
        "          return suggested_remedy\n",
        "\n",
        "    class HomeRemedyEvaluator:\n",
        "      \"\"\"Evaluate the quality of home remedy suggestions.\"\"\"\n",
        "\n",
        "    @staticmethod\n",
        "    def evaluate_remedy(suggested_remedy):\n",
        "        # Check if the suggested remedy contains any allopathic medicines\n",
        "        contains_allopathic = any(keyword in suggested_remedy.lower() for keyword in allopathic_medicines)\n",
        "\n",
        "        # Check if the remedy is concise (less than 100 words)\n",
        "        is_concise = len(suggested_remedy.split()) <= 100\n",
        "\n",
        "        # Check if the remedy is informative (not too brief)\n",
        "        is_informative = len(suggested_remedy) >= 50\n",
        "\n",
        "        # Evaluate overall quality based on criteria\n",
        "        quality = not contains_allopathic and is_concise and is_informative\n",
        "\n",
        "        return quality\n",
        "\n",
        "    def __init__(self):\n",
        "      self.home_remedy_pipeline = self.HomeRemedyPipelineAssertions()\n",
        "\n",
        "    def process(self, question):\n",
        "      return self.home_remedy_pipeline.forward(question=question)\n",
        "\n",
        "# Usage\n",
        "pipeline = Pipeline()\n",
        "result = pipeline.process(question=\"What is a natural remedy for white hair?\")\n",
        "print(\"Suggested remedy:\", result.answer)\n"
      ],
      "metadata": {
        "colab": {
          "base_uri": "https://localhost:8080/"
        },
        "id": "DBDTAkWYk_-J",
        "outputId": "89cc1b99-7af9-4c6e-a2bf-511820472a7d"
      },
      "execution_count": null,
      "outputs": [
        {
          "output_type": "stream",
          "name": "stdout",
          "text": [
            "Suggested remedy: One natural remedy for white hair is to use a mixture of coconut oil, lemon juice, and curd. Mix equal parts of coconut oil and curd, and add a few drops of lemon juice. Apply this mixture to your hair and scalp, leave it on for 30 minutes, and then wash it off with a mild shampoo. This remedy is rich in antioxidants and nutrients that may help in promoting hair growth and preventing hair damage. It\n"
          ]
        }
      ]
    },
    {
      "cell_type": "code",
      "source": [
        "\n",
        "\n",
        "# Usage example:\n",
        "suggested_remedy = result.answer\n",
        "is_quality = HomeRemedyEvaluator.evaluate_remedy(suggested_remedy)\n",
        "print(\"Is the suggested remedy of good quality?\", is_quality)\n"
      ],
      "metadata": {
        "colab": {
          "base_uri": "https://localhost:8080/"
        },
        "id": "NbXc4vUAzTfJ",
        "outputId": "5401bc5e-cb63-4d85-9c32-92b5f4c3b79c"
      },
      "execution_count": null,
      "outputs": [
        {
          "output_type": "stream",
          "name": "stdout",
          "text": [
            "Is the suggested remedy of good quality? True\n"
          ]
        }
      ]
    },
    {
      "cell_type": "code",
      "source": [
        "%%writefile parsing.py\n",
        "import argparse\n",
        "import dspy\n",
        "import sys\n",
        "\n",
        "lm = dspy.HFClientVLLM(model=\"TheBloke/dolphin-2.6-mistral-7B-dpo-laser-AWQ\", port=8000, url=\"http://localhost\")\n",
        "\n",
        "dspy.settings.configure(lm=lm)\n",
        "allopathic_medicines = [\n",
        "    \"Paracetamol\",\n",
        "    \"Ibuprofen\",\n",
        "    \"Aspirin\",\n",
        "    \"Omeprazole\",\n",
        "    \"Metformin\",\n",
        "    \"Simvastatin\",\n",
        "    \"Amlodipine\",\n",
        "    \"Levothyroxine\",\n",
        "    \"Lisinopril\",\n",
        "    \"Atorvastatin\",\n",
        "    \"Metoprolol\",\n",
        "    \"Losartan\",\n",
        "    \"Gabapentin\",\n",
        "    \"Amoxicillin\",\n",
        "    \"Azithromycin\",\n",
        "    \"Ciprofloxacin\",\n",
        "    \"Prednisone\",\n",
        "    \"Albuterol\",\n",
        "    \"Hydrochlorothiazide\",\n",
        "    \"Pantoprazole\",\n",
        "    \"Warfarin\",\n",
        "    \"Fluoxetine\",\n",
        "    \"Sertraline\",\n",
        "    \"Citalopram\",\n",
        "    \"Escitalopram\",\n",
        "    \"Tramadol\",\n",
        "    \"Codeine\",\n",
        "    \"Morphine\",\n",
        "    \"Metronidazole\",\n",
        "    \"Lorazepam\",\n",
        "    \"Diazepam\",\n",
        "    \"Acetaminophen\",\n",
        "    \"Furosemide\",\n",
        "    \"Fluticasone\",\n",
        "    \"Ranitidine\",\n",
        "    \"Clarithromycin\",\n",
        "    \"Cephalexin\",\n",
        "    \"Trazodone\",\n",
        "    \"Duloxetine\",\n",
        "    \"Venlafaxine\",\n",
        "    \"Cyclobenzaprine\",\n",
        "    \"Hydrocodone\",\n",
        "    \"Methylprednisolone\",\n",
        "    \"Prednisolone\",\n",
        "    \"Levofloxacin\",\n",
        "    \"Amoxicillin/clavulanate\",\n",
        "    \"Naproxen\",\n",
        "    \"Diphenhydramine\",\n",
        "    \"Cetirizine\",\n",
        "    \"Levothyroxine sodium\"\n",
        "]\n",
        "\n",
        "\n",
        "\n",
        "class Pipeline:\n",
        "    \"\"\"Pipeline for home remedy suggestions with assertions\"\"\"\n",
        "\n",
        "    class RemedySuggest(dspy.Signature):\n",
        "        \"\"\"Suggest one best home remedy for the provided symptoms (only natural methods)\"\"\"\n",
        "        question = dspy.InputField(desc=\"Patient's input\")\n",
        "        answer = dspy.OutputField(desc=\"Suggested home remedy (less than 100 words)\")\n",
        "\n",
        "    class HomeRemedyPipelineAssertions(dspy.Module):\n",
        "        \"\"\"Pipeline for home remedy suggestions\"\"\"\n",
        "\n",
        "        def __init__(self):\n",
        "            super().__init__()\n",
        "            self.remedy_suggest = dspy.ChainOfThought(Pipeline.RemedySuggest)\n",
        "\n",
        "        def forward(self, question, **kwargs):\n",
        "            suggested_remedy = self.remedy_suggest(question=question)\n",
        "\n",
        "            # Add assertions or suggestions here\n",
        "            dspy.Assert(\n",
        "                not any(keyword in suggested_remedy.answer.lower() for keyword in allopathic_medicines),\n",
        "                \"It's recommended to stick to home remedies. Avoid suggesting medicines.\",\n",
        "                target_module=Pipeline.RemedySuggest\n",
        "            )\n",
        "\n",
        "            return suggested_remedy\n",
        "\n",
        "    def __init__(self, model_name):\n",
        "        self.home_remedy_pipeline = self.HomeRemedyPipelineAssertions()\n",
        "        self.model_name = model_name\n",
        "\n",
        "    def process(self, question):\n",
        "        return self.home_remedy_pipeline.forward(question=question)\n",
        "\n",
        "def main():\n",
        "    parser = argparse.ArgumentParser(description=\"Home Remedy Pipeline with Assertions\")\n",
        "    parser.add_argument(\"model_name\", required=True, type=str, help=\"Name of the model\")\n",
        "    parser.add_argument(\"--question\", type=str, required=True, help=\"Patient's input question\")\n",
        "    args = parser.parse_args()\n",
        "\n",
        "    pipeline = Pipeline(model_name=args.model_name)\n",
        "    result = pipeline.process(question=args.question)\n",
        "    print(\"Suggested remedy:\", result.answer)\n",
        "\n",
        "if __name__ == \"__main__\":\n",
        "    main()\n",
        "\n"
      ],
      "metadata": {
        "colab": {
          "base_uri": "https://localhost:8080/"
        },
        "id": "frrB40uisQGT",
        "outputId": "fc1db247-678e-45c5-d83f-e829aa06185f"
      },
      "execution_count": null,
      "outputs": [
        {
          "output_type": "stream",
          "name": "stdout",
          "text": [
            "Overwriting parsing.py\n"
          ]
        }
      ]
    },
    {
      "cell_type": "code",
      "source": [
        "!python parsing.py --question \"What is a natural remedy for white hair?\""
      ],
      "metadata": {
        "colab": {
          "base_uri": "https://localhost:8080/"
        },
        "id": "fzOHxfQwsYTZ",
        "outputId": "3e1012e9-3986-498f-906a-6451b5e3f153"
      },
      "execution_count": null,
      "outputs": [
        {
          "output_type": "stream",
          "name": "stdout",
          "text": [
            "Traceback (most recent call last):\n",
            "  File \"/content/parsing.py\", line 108, in <module>\n",
            "    main()\n",
            "  File \"/content/parsing.py\", line 99, in main\n",
            "    parser.add_argument(\"model_name\", required=True, type=str, help=\"Name of the model\")\n",
            "  File \"/usr/lib/python3.10/argparse.py\", line 1424, in add_argument\n",
            "    kwargs = self._get_positional_kwargs(*args, **kwargs)\n",
            "  File \"/usr/lib/python3.10/argparse.py\", line 1540, in _get_positional_kwargs\n",
            "    raise TypeError(msg)\n",
            "TypeError: 'required' is an invalid argument for positionals\n"
          ]
        }
      ]
    },
    {
      "cell_type": "code",
      "source": [
        "\n",
        "import argparse\n",
        "\n",
        "class Pipeline:\n",
        "    \"\"\"Pipeline for home remedy suggestions with assertions\"\"\"\n",
        "\n",
        "    class RemedySuggest(dspy.Signature):\n",
        "        \"\"\"Suggest one best home remedy for the provided symptoms(only natural methods)\"\"\"\n",
        "        question = dspy.InputField(desc=\"Patient's input\")\n",
        "        answer = dspy.OutputField(desc=\"Suggested home remedy(less than 100 words)\")\n",
        "\n",
        "    class HomeRemedyPipelineAssertions(dspy.Module):\n",
        "        \"\"\"Pipeline for home remedy suggestions\"\"\"\n",
        "        def __init__(self, enable_assertions=True, enable_bootstrap_fewshot=True, enable_knn_fewshot=True):\n",
        "            super().__init__()\n",
        "            self.enable_assertions = enable_assertions\n",
        "            self.enable_bootstrap_fewshot = enable_bootstrap_fewshot\n",
        "            self.enable_knn_fewshot = enable_knn_fewshot\n",
        "            self.remedy_suggest = dspy.ChainOfThought(Pipeline.RemedySuggest)\n",
        "\n",
        "            # Initialize BootstrapFewShot and KNNFewShot modules\n",
        "            if self.enable_bootstrap_fewshot:\n",
        "                self.bootstrap_fewshot = BootstrapFewShot()\n",
        "            if self.enable_knn_fewshot:\n",
        "                self.knn_fewshot = KNNFewShot()\n",
        "\n",
        "        def forward(self, question, **kwargs):\n",
        "            suggested_remedy = self.remedy_suggest(question=question)\n",
        "\n",
        "            # Assertion checks\n",
        "            if self.enable_assertions:\n",
        "                dspy.Assert(\n",
        "                    not any(keyword in suggested_remedy.answer.lower() for keyword in allopathic_medicines),\n",
        "                    \"It's recommended to stick to home remedies. Avoid suggesting medicines.\",\n",
        "                    target_module=Pipeline.RemedySuggest\n",
        "                )\n",
        "\n",
        "                # You can add more assertions or suggestions here\n",
        "\n",
        "            # BootstrapFewShot\n",
        "            if self.enable_bootstrap_fewshot:\n",
        "              metric = dspy.evaluate.answer_exact_match\n",
        "              teleprompter = BootstrapFewShot(metric=metric)\n",
        "              compiled_bs = teleprompter.compile(student=HomeRemedyPipeline(), trainset=trainset)\n",
        "\n",
        "                # Apply BootstrapFewShot logic\n",
        "\n",
        "            # KNNFewShot\n",
        "            if self.enable_knn_fewshot:\n",
        "              pass\n",
        "                # Apply KNNFewShot logic\n",
        "\n",
        "            return suggested_remedy\n",
        "\n",
        "    class HomeRemedyEvaluator:\n",
        "      \"\"\"Evaluate the quality of home remedy suggestions.\"\"\"\n",
        "    @staticmethod\n",
        "    def evaluate_remedy(suggested_remedy):\n",
        "\n",
        "\n",
        "        # Check if the suggested remedy contains any allopathic medicines\n",
        "        contains_allopathic = any(keyword in suggested_remedy.lower() for keyword in allopathic_medicines)\n",
        "\n",
        "        # Check if the remedy is concise (less than 100 words)\n",
        "        is_concise = len(suggested_remedy.split()) <= 100\n",
        "\n",
        "        # Check if the remedy is informative (not too brief)\n",
        "        is_informative = len(suggested_remedy) >= 50\n",
        "\n",
        "        # Evaluate overall quality based on criteria\n",
        "        quality = not contains_allopathic and is_concise and is_informative\n",
        "\n",
        "        return quality\n",
        "\n",
        "\n",
        "##\n",
        "    def __init__(self, enable_assertions=True, enable_bootstrap_fewshot=True, enable_knn_fewshot=True):\n",
        "        self.home_remedy_pipeline = self.HomeRemedyPipelineAssertions(\n",
        "            enable_assertions=enable_assertions,\n",
        "            enable_bootstrap_fewshot=enable_bootstrap_fewshot,\n",
        "            enable_knn_fewshot=enable_knn_fewshot\n",
        "        )\n",
        "\n",
        "    def process(self, question):\n",
        "        return self.home_remedy_pipeline.forward(question=question),\n",
        "\n",
        "if __name__ == \"__main__\":\n",
        "    # Create argument parser\n",
        "    parser = argparse.ArgumentParser(description=\"Home Remedy Pipeline\")\n",
        "\n",
        "    # Add arguments\n",
        "    parser.add_argument(\"model_name\", type=str, help=\"Name of the model to use\")\n",
        "    parser.add_argument(\"question\", type=str, help=\"Patient's input question\")\n",
        "    parser.add_argument(\"--disable-assertions\", action=\"store_false\", help=\"Disable assertion checks\")\n",
        "    parser.add_argument(\"--disable-bootstrap-fewshot\", action=\"store_false\", help=\"Disable BootstrapFewShot\")\n",
        "    parser.add_argument(\"--disable-knn-fewshot\", action=\"store_false\", help=\"Disable KNNFewShot\")\n",
        "\n",
        "    # Parse arguments\n",
        "    args = parser.parse_args()\n",
        "\n",
        "    # Process pipeline\n",
        "    pipeline = Pipeline(\n",
        "        enable_assertions=args.disable_assertions,\n",
        "        enable_bootstrap_fewshot=args.disable_bootstrap_fewshot,\n",
        "        enable_knn_fewshot=args.disable_knn_fewshot\n",
        "    )\n",
        "    result = pipeline.process(question=args.question)\n",
        "    print(\"Suggested remedy:\", result.answer)\n"
      ],
      "metadata": {
        "colab": {
          "base_uri": "https://localhost:8080/"
        },
        "id": "7t3HTEmLtqct",
        "outputId": "d8fabff6-e6b3-4a7f-e725-b03ef234f283"
      },
      "execution_count": null,
      "outputs": [
        {
          "output_type": "stream",
          "name": "stdout",
          "text": [
            "Writing parsing.py\n"
          ]
        }
      ]
    },
    {
      "cell_type": "code",
      "source": [
        "# %%writefile parsing.py\n",
        "import argparse\n",
        "import dspy\n",
        "\n",
        "lm = dspy.HFClientVLLM(model=\"TheBloke/dolphin-2.6-mistral-7B-dpo-laser-AWQ\", port=8000, url=\"http://localhost\")\n",
        "\n",
        "dspy.settings.configure(lm=lm)\n",
        "allopathic_medicines = [\n",
        "    \"Paracetamol\",\n",
        "    \"Ibuprofen\",\n",
        "    \"Aspirin\",\n",
        "    \"Omeprazole\",\n",
        "    \"Metformin\",\n",
        "    \"Simvastatin\",\n",
        "    \"Amlodipine\",\n",
        "    \"Levothyroxine\",\n",
        "    \"Lisinopril\",\n",
        "    \"Atorvastatin\",\n",
        "    \"Metoprolol\",\n",
        "    \"Losartan\",\n",
        "    \"Gabapentin\",\n",
        "    \"Amoxicillin\",\n",
        "    \"Azithromycin\",\n",
        "    \"Ciprofloxacin\",\n",
        "    \"Prednisone\",\n",
        "    \"Albuterol\",\n",
        "    \"Hydrochlorothiazide\",\n",
        "    \"Pantoprazole\",\n",
        "    \"Warfarin\",\n",
        "    \"Fluoxetine\",\n",
        "    \"Sertraline\",\n",
        "    \"Citalopram\",\n",
        "    \"Escitalopram\",\n",
        "    \"Tramadol\",\n",
        "    \"Codeine\",\n",
        "    \"Morphine\",\n",
        "    \"Metronidazole\",\n",
        "    \"Lorazepam\",\n",
        "    \"Diazepam\",\n",
        "    \"Acetaminophen\",\n",
        "    \"Furosemide\",\n",
        "    \"Fluticasone\",\n",
        "    \"Ranitidine\",\n",
        "    \"Clarithromycin\",\n",
        "    \"Cephalexin\",\n",
        "    \"Trazodone\",\n",
        "    \"Duloxetine\",\n",
        "    \"Venlafaxine\",\n",
        "    \"Cyclobenzaprine\",\n",
        "    \"Hydrocodone\",\n",
        "    \"Methylprednisolone\",\n",
        "    \"Prednisolone\",\n",
        "    \"Levofloxacin\",\n",
        "    \"Amoxicillin/clavulanate\",\n",
        "    \"Naproxen\",\n",
        "    \"Diphenhydramine\",\n",
        "    \"Cetirizine\",\n",
        "    \"Levothyroxine sodium\"\n",
        "]\n",
        "\n",
        "\n",
        "\n",
        "class Pipeline:\n",
        "    \"\"\"Pipeline for home remedy suggestions with assertions\"\"\"\n",
        "\n",
        "    class RemedySuggest(dspy.Signature):\n",
        "        \"\"\"Suggest best home remedy for the provided symptoms(only natural methods)\"\"\"\n",
        "        question = dspy.InputField(desc=\"Patient's input\")\n",
        "        answer = dspy.OutputField(desc=\"Suggested home remedy(less than 100 words)\")\n",
        "\n",
        "    class HomeRemedyPipelineAssertions(dspy.Module):\n",
        "      \"\"\"Pipeline for home remedy suggestions\"\"\"\n",
        "      def __init__(self):\n",
        "          super().__init__()\n",
        "          self.remedy_suggest = dspy.ChainOfThought(Pipeline.RemedySuggest)\n",
        "\n",
        "      def forward(self, question, **kwargs):\n",
        "          suggested_remedy = self.remedy_suggest(question=question)\n",
        "\n",
        "          dspy.Assert(\n",
        "              not any(keyword in suggested_remedy.answer.lower() for keyword in allopathic_medicines),\n",
        "              \"It's recommended to stick to home remedies. Avoid suggesting medicines.\",\n",
        "              target_module=Pipeline.RemedySuggest\n",
        "          )\n",
        "\n",
        "          # Evaluate the quality of the suggested remedy\n",
        "          is_quality = HomeRemedyEvaluator.evaluate_remedy(suggested_remedy.answer)\n",
        "\n",
        "          return suggested_remedy, is_quality\n",
        "\n",
        "    def __init__(self):\n",
        "      self.home_remedy_pipeline = self.HomeRemedyPipelineAssertions()\n",
        "\n",
        "    def process(self, question):\n",
        "      return self.home_remedy_pipeline.forward(question=question)\n",
        "\n",
        "\n",
        "\n",
        "\n",
        "\n",
        "class HomeRemedyEvaluator:\n",
        "    \"\"\"Evaluate the quality of home remedy suggestions.\"\"\"\n",
        "\n",
        "    @staticmethod\n",
        "    def evaluate_remedy(suggested_remedy):\n",
        "        \"\"\"\n",
        "        Evaluate the quality of a suggested home remedy.\n",
        "\n",
        "        Args:\n",
        "            suggested_remedy (str): The suggested home remedy.\n",
        "\n",
        "        Returns:\n",
        "            bool: True if the remedy meets the quality criteria, False otherwise.\n",
        "        \"\"\"\n",
        "        # Check if the suggested remedy contains any allopathic medicines\n",
        "        allopathic_medicines = [\"aspirin\", \"ibuprofen\", \"acetaminophen\", \"paracetamol\", \"antibiotics\"]\n",
        "        contains_allopathic = any(keyword in suggested_remedy.lower() for keyword in allopathic_medicines)\n",
        "\n",
        "        # Check if the remedy is concise (less than 100 words)\n",
        "        is_concise = len(suggested_remedy.split()) <= 100\n",
        "\n",
        "        # Check if the remedy is informative (not too brief)\n",
        "        is_informative = len(suggested_remedy) >= 50\n",
        "\n",
        "        # Evaluate overall quality based on criteria\n",
        "        quality = not contains_allopathic and is_concise and is_informative\n",
        "\n",
        "        return quality\n",
        "\n",
        "# Create CLI interface\n",
        "def parse_args():\n",
        "    parser = argparse.ArgumentParser(description=\"Home Remedy Pipeline\")\n",
        "    parser.add_argument(\"--question\", type=str, required=True, help=\"Patient's input question\")\n",
        "    return parser.parse_args()\n",
        "\n",
        "# Main function\n",
        "def main():\n",
        "    args = parse_args()\n",
        "    pipeline = Pipeline()\n",
        "    suggested_remedy, is_quality = pipeline.process(question=args.question)\n",
        "    print(\"Suggested remedy:\", suggested_remedy.answer)\n",
        "    print(\"Is the suggested remedy of good quality?\", is_quality)\n",
        "\n",
        "if __name__ == \"__main__\":\n",
        "    main()\n"
      ],
      "metadata": {
        "colab": {
          "base_uri": "https://localhost:8080/"
        },
        "id": "PmeVsW84zO-x",
        "outputId": "81faee75-be52-4400-b6c0-64dbe8abd5a9"
      },
      "execution_count": null,
      "outputs": [
        {
          "output_type": "stream",
          "name": "stdout",
          "text": [
            "Overwriting parsing.py\n"
          ]
        }
      ]
    },
    {
      "cell_type": "code",
      "source": [
        "!python parsing.py --question \"What is a natural remedy for blue hair?\""
      ],
      "metadata": {
        "colab": {
          "base_uri": "https://localhost:8080/"
        },
        "id": "a0hw65G84lz9",
        "outputId": "0f59deca-30fd-4a35-fef5-19adf49bff64"
      },
      "execution_count": null,
      "outputs": [
        {
          "output_type": "stream",
          "name": "stdout",
          "text": [
            "Suggested remedy: To remove blue hair color naturally, you can try using a mixture of baking soda and lemon juice. Mix 1 tablespoon of baking soda with 1 tablespoon of lemon juice to form a paste. Apply this paste to your hair and let it sit for 15-20 minutes. Then, rinse it out with warm water. Repeat this process 2-3 times a week until the blue color fades away. This method may take some time, but it's a natural and gentle way to remove hair color.\n",
            "Is the suggested remedy of good quality? True\n"
          ]
        }
      ]
    },
    {
      "cell_type": "code",
      "source": [
        "import argparse\n",
        "import dspy\n",
        "\n",
        "class Pipeline:\n",
        "    \"\"\"Pipeline for home remedy suggestions with assertions\"\"\"\n",
        "\n",
        "    class RemedySuggest(dspy.Signature):\n",
        "        \"\"\"Suggest one best home remedy for the provided symptoms(only natural methods)\"\"\"\n",
        "        question = dspy.InputField(desc=\"Patient's input\")\n",
        "        answer = dspy.OutputField(desc=\"Suggested home remedy(less than 100 words)\")\n",
        "\n",
        "    class HomeRemedyPipelineAssertions(dspy.Module):\n",
        "        \"\"\"Pipeline for home remedy suggestions\"\"\"\n",
        "        def __init__(self, enable_assertions=True, enable_bootstrap_fewshot=True, enable_knn_fewshot=True):\n",
        "            super().__init__()\n",
        "            self.enable_assertions = enable_assertions\n",
        "            self.enable_bootstrap_fewshot = enable_bootstrap_fewshot\n",
        "            self.enable_knn_fewshot = enable_knn_fewshot\n",
        "            self.remedy_suggest = dspy.ChainOfThought(Pipeline.RemedySuggest)\n",
        "\n",
        "            # Initialize BootstrapFewShot and KNNFewShot modules\n",
        "            if self.enable_bootstrap_fewshot:\n",
        "                self.bootstrap_fewshot = BootstrapFewShot()\n",
        "            if self.enable_knn_fewshot:\n",
        "                self.knn_fewshot = KNNFewShot()\n",
        "\n",
        "        def forward(self, question, **kwargs):\n",
        "            suggested_remedy = self.remedy_suggest(question=question)\n",
        "\n",
        "            # Assertion checks\n",
        "            if self.enable_assertions:\n",
        "                dspy.Assert(\n",
        "                    not any(keyword in suggested_remedy.answer.lower() for keyword in allopathic_medicines),\n",
        "                    \"It's recommended to stick to home remedies. Avoid suggesting medicines.\",\n",
        "                    target_module=Pipeline.RemedySuggest\n",
        "                )\n",
        "\n",
        "                # You can add more assertions or suggestions here\n",
        "\n",
        "            # BootstrapFewShot\n",
        "            if self.enable_bootstrap_fewshot:\n",
        "                metric = dspy.evaluate.answer_exact_match\n",
        "                teleprompter = BootstrapFewShot(metric=metric)\n",
        "                compiled_bs = teleprompter.compile(student=HomeRemedyPipeline(), trainset=trainset)\n",
        "\n",
        "                # Apply BootstrapFewShot logic\n",
        "\n",
        "            # KNNFewShot\n",
        "            if self.enable_knn_fewshot:\n",
        "                pass\n",
        "                # Apply KNNFewShot logic\n",
        "\n",
        "            return suggested_remedy\n",
        "\n",
        "    class HomeRemedyEvaluator:\n",
        "        \"\"\"Evaluate the quality of home remedy suggestions.\"\"\"\n",
        "\n",
        "        class Assess(dspy.Signature):\n",
        "          \"\"\"Answer Correctness\"\"\"\n",
        "          input = dspy.InputField(\"patient's input\")\n",
        "          remedy = dspy.InputField(\"suggested home remedy\")\n",
        "          score = dspy.OutputField(\"correctness score(range 0 to 1)\")\n",
        "\n",
        "        with dspy.context(lm=lm):\n",
        "          @staticmethod\n",
        "          def metric(input):\n",
        "            score = dspy.Predict(Assess)\n",
        "            return score\n",
        "\n",
        "    def __init__(self, enable_assertions=True, enable_bootstrap_fewshot=True, enable_knn_fewshot=True):\n",
        "        self.home_remedy_pipeline = self.HomeRemedyPipelineAssertions(\n",
        "            enable_assertions=enable_assertions,\n",
        "            enable_bootstrap_fewshot=enable_bootstrap_fewshot,\n",
        "            enable_knn_fewshot=enable_knn_fewshot\n",
        "        )\n",
        "\n",
        "    def process(self, question):\n",
        "        return self.home_remedy_pipeline.forward(question=question)\n",
        "\n",
        "if __name__ == \"__main__\":\n",
        "    # Create argument parser\n",
        "    parser = argparse.ArgumentParser(description=\"Home Remedy Pipeline\")\n",
        "\n",
        "    # Add arguments\n",
        "    parser.add_argument(\"model_name\", type=str, help=\"Name of the model to use\")\n",
        "    parser.add_argument(\"question\", type=str, help=\"Patient's input question\")\n",
        "    parser.add_argument(\"--disable-assertions\", action=\"store_false\", help=\"Disable assertion checks\")\n",
        "    parser.add_argument(\"--disable-bootstrap-fewshot\", action=\"store_false\", help=\"Disable BootstrapFewShot\")\n",
        "    parser.add_argument(\"--disable-knn-fewshot\", action=\"store_false\", help=\"Disable KNNFewShot\")\n",
        "\n",
        "    # Parse arguments\n",
        "    args = parser.parse_args()\n",
        "\n",
        "    # Process pipeline\n",
        "    pipeline = Pipeline(\n",
        "        enable_assertions=args.disable_assertions,\n",
        "        enable_bootstrap_fewshot=args.disable_bootstrap_fewshot,\n",
        "        enable_knn_fewshot=args.disable_knn_fewshot\n",
        "    )\n",
        "    result = pipeline.process(question=args.question)\n",
        "    print(\"Suggested remedy:\", result.answer)\n"
      ],
      "metadata": {
        "colab": {
          "base_uri": "https://localhost:8080/",
          "height": 193
        },
        "id": "55wp1E3z8xFE",
        "outputId": "9ce7e362-7a60-4617-9480-f975bc01fee8"
      },
      "execution_count": null,
      "outputs": [
        {
          "output_type": "stream",
          "name": "stderr",
          "text": [
            "usage: colab_kernel_launcher.py [-h] [--disable-assertions] [--disable-bootstrap-fewshot]\n",
            "                                [--disable-knn-fewshot]\n",
            "                                model_name question\n",
            "colab_kernel_launcher.py: error: the following arguments are required: question\n"
          ]
        },
        {
          "output_type": "error",
          "ename": "SystemExit",
          "evalue": "2",
          "traceback": [
            "An exception has occurred, use %tb to see the full traceback.\n",
            "\u001b[0;31mSystemExit\u001b[0m\u001b[0;31m:\u001b[0m 2\n"
          ]
        },
        {
          "output_type": "stream",
          "name": "stderr",
          "text": [
            "/usr/local/lib/python3.10/dist-packages/IPython/core/interactiveshell.py:3561: UserWarning: To exit: use 'exit', 'quit', or Ctrl-D.\n",
            "  warn(\"To exit: use 'exit', 'quit', or Ctrl-D.\", stacklevel=1)\n"
          ]
        }
      ]
    },
    {
      "cell_type": "code",
      "source": [
        "import argparse\n",
        "import dspy\n",
        "\n",
        "class Pipeline:\n",
        "    \"\"\"Pipeline for home remedy suggestions with assertions\"\"\"\n",
        "\n",
        "    class RemedySuggest(dspy.Signature):\n",
        "        \"\"\"Suggest one best home remedy for the provided symptoms(only natural methods)\"\"\"\n",
        "        question = dspy.InputField(desc=\"Patient's input\")\n",
        "        answer = dspy.OutputField(desc=\"Suggested home remedy(less than 100 words)\")\n",
        "\n",
        "    class HomeRemedyPipelineAssertions(dspy.Module):\n",
        "        \"\"\"Pipeline for home remedy suggestions\"\"\"\n",
        "        def __init__(self, enable_assertions=True, enable_bootstrap_fewshot=True, enable_knn_fewshot=True):\n",
        "            super().__init__()\n",
        "            self.enable_assertions = enable_assertions\n",
        "            self.enable_bootstrap_fewshot = enable_bootstrap_fewshot\n",
        "            self.enable_knn_fewshot = enable_knn_fewshot\n",
        "            self.remedy_suggest = dspy.ChainOfThought(Pipeline.RemedySuggest)\n",
        "\n",
        "            # Initialize BootstrapFewShot and KNNFewShot modules\n",
        "            if self.enable_bootstrap_fewshot:\n",
        "                self.bootstrap_fewshot = BootstrapFewShot()\n",
        "            if self.enable_knn_fewshot:\n",
        "                self.knn_fewshot = KNNFewShot()\n",
        "\n",
        "            # Initialize HomeRemedyEvaluator\n",
        "            self.evaluator = Pipeline.HomeRemedyEvaluator()\n",
        "\n",
        "        def forward(self, question, **kwargs):\n",
        "            suggested_remedy = self.remedy_suggest(question=question)\n",
        "\n",
        "            # Pass the suggested remedy through the evaluator to check against the metric\n",
        "            metric_score = self.evaluator.evaluate_remedy(question, suggested_remedy.answer)\n",
        "\n",
        "            # Assertion checks\n",
        "            if self.enable_assertions:\n",
        "                dspy.Assert(\n",
        "                    not any(keyword in suggested_remedy.answer.lower() for keyword in allopathic_medicines),\n",
        "                    \"It's recommended to stick to home remedies. Avoid suggesting medicines.\",\n",
        "                    target_module=Pipeline.RemedySuggest\n",
        "                )\n",
        "\n",
        "                # You can add more assertions or suggestions here\n",
        "\n",
        "            # BootstrapFewShot\n",
        "            if self.enable_bootstrap_fewshot:\n",
        "                metric = dspy.evaluate.answer_exact_match\n",
        "                teleprompter = BootstrapFewShot(metric=metric)\n",
        "                compiled_bs = teleprompter.compile(student=HomeRemedyPipeline(), trainset=trainset)\n",
        "\n",
        "                # Apply BootstrapFewShot logic\n",
        "\n",
        "            # KNNFewShot\n",
        "            if self.enable_knn_fewshot:\n",
        "                pass\n",
        "                # Apply KNNFewShot logic\n",
        "\n",
        "            return suggested_remedy, metric_score\n",
        "\n",
        "    class HomeRemedyEvaluator:\n",
        "        \"\"\"Evaluate the quality of home remedy suggestions.\"\"\"\n",
        "\n",
        "        class Assess(dspy.Signature):\n",
        "          \"\"\"Answer Correctness\"\"\"\n",
        "          input = dspy.InputField(\"patient's input\")\n",
        "          remedy = dspy.InputField(\"suggested home remedy\")\n",
        "          score = dspy.OutputField(\"correctness score(range 0 to 1)\")\n",
        "\n",
        "        with dspy.context(lm=lm):\n",
        "          @staticmethod\n",
        "          def evaluate_remedy(input, remedy):\n",
        "            score = dspy.Predict(HomeRemedyEvaluator.Assess)(input=input, remedy=remedy)\n",
        "            return score\n",
        "\n",
        "    def __init__(self, enable_assertions=True, enable_bootstrap_fewshot=True, enable_knn_fewshot=True):\n",
        "        self.home_remedy_pipeline = self.HomeRemedyPipelineAssertions(\n",
        "            enable_assertions=enable_assertions,\n",
        "            enable_bootstrap_fewshot=enable_bootstrap_fewshot,\n",
        "            enable_knn_fewshot=enable_knn_fewshot\n",
        "        )\n",
        "\n",
        "    def process(self, question):\n",
        "        return self.home_remedy_pipeline.forward(question=question)\n",
        "\n",
        "if __name__ == \"__main__\":\n",
        "    # Create argument parser\n",
        "    parser = argparse.ArgumentParser(description=\"Home Remedy Pipeline\")\n",
        "\n",
        "    # Add arguments\n",
        "    parser.add_argument(\"model_name\", type=str, help=\"Name of the model to use\")\n",
        "    parser.add_argument(\"question\", type=str, help=\"Patient's input question\")\n",
        "    parser.add_argument(\"--disable-assertions\", action=\"store_false\", help=\"Disable assertion checks\")\n",
        "    parser.add_argument(\"--disable-bootstrap-fewshot\", action=\"store_false\", help=\"Disable BootstrapFewShot\")\n",
        "    parser.add_argument(\"--disable-knn-fewshot\", action=\"store_false\", help=\"Disable KNNFewShot\")\n",
        "\n",
        "    # Parse arguments\n",
        "    args = parser.parse_args()\n",
        "\n",
        "    # Process pipeline\n",
        "    pipeline = Pipeline(\n",
        "        enable_assertions=args.disable_assertions,\n",
        "        enable_bootstrap_fewshot=args.disable_bootstrap_fewshot,\n",
        "        enable_knn_fewshot=args.disable_knn_fewshot\n",
        "    )\n",
        "    result, metric_score = pipeline.process(question=args.question)\n",
        "    print(\"Suggested remedy:\", result.answer)\n",
        "    print(\"Metric Score:\", metric_score)\n"
      ],
      "metadata": {
        "colab": {
          "base_uri": "https://localhost:8080/"
        },
        "id": "o_loZXdBGlkh",
        "outputId": "00479b91-cfbb-4a01-8efa-1949f2e3ecc7"
      },
      "execution_count": 25,
      "outputs": [
        {
          "output_type": "stream",
          "name": "stdout",
          "text": [
            "Overwriting parsing.py\n"
          ]
        }
      ]
    },
    {
      "cell_type": "code",
      "source": [
        "!python parsing.py model_name --question \"What is a natural remedy for blue hair?\""
      ],
      "metadata": {
        "colab": {
          "base_uri": "https://localhost:8080/"
        },
        "id": "53NHW62lGvHn",
        "outputId": "353485fb-fe33-4c0c-d685-d4e5a2dc33ab"
      },
      "execution_count": 30,
      "outputs": [
        {
          "output_type": "stream",
          "name": "stdout",
          "text": [
            "Traceback (most recent call last):\n",
            "  File \"/content/parsing.py\", line 155, in <module>\n",
            "    pipeline = Pipeline(\n",
            "  File \"/content/parsing.py\", line 131, in __init__\n",
            "    self.home_remedy_pipeline = self.HomeRemedyPipelineAssertions(\n",
            "  File \"/content/parsing.py\", line 85, in __init__\n",
            "    self.knn_fewshot = KNNFewShot()\n",
            "NameError: name 'KNNFewShot' is not defined\n"
          ]
        }
      ]
    }
  ]
}