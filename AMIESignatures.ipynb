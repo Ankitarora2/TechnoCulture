{
  "nbformat": 4,
  "nbformat_minor": 0,
  "metadata": {
    "colab": {
      "provenance": [],
      "gpuType": "T4",
      "include_colab_link": true
    },
    "kernelspec": {
      "name": "python3",
      "display_name": "Python 3"
    },
    "language_info": {
      "name": "python"
    },
    "accelerator": "GPU"
  },
  "cells": [
    {
      "cell_type": "markdown",
      "metadata": {
        "id": "view-in-github",
        "colab_type": "text"
      },
      "source": [
        "<a href=\"https://colab.research.google.com/github/Ankitarora2/TechnoCulture/blob/main/AMIESignatures.ipynb\" target=\"_parent\"><img src=\"https://colab.research.google.com/assets/colab-badge.svg\" alt=\"Open In Colab\"/></a>"
      ]
    },
    {
      "cell_type": "markdown",
      "source": [
        "# Serve the model using vLLM"
      ],
      "metadata": {
        "id": "IoWlaISn36OH"
      }
    },
    {
      "cell_type": "code",
      "execution_count": 2,
      "metadata": {
        "id": "iRD5aN86v6ED",
        "colab": {
          "base_uri": "https://localhost:8080/"
        },
        "outputId": "9aeb0a64-19eb-429d-8fd6-0b760b17b2c3"
      },
      "outputs": [
        {
          "output_type": "stream",
          "name": "stdout",
          "text": [
            "Collecting dspy-ai\n",
            "  Downloading dspy_ai-2.3.1-py3-none-any.whl (164 kB)\n",
            "\u001b[2K     \u001b[90m━━━━━━━━━━━━━━━━━━━━━━━━━━━━━━━━━━━━━━━━\u001b[0m \u001b[32m164.8/164.8 kB\u001b[0m \u001b[31m1.6 MB/s\u001b[0m eta \u001b[36m0:00:00\u001b[0m\n",
            "\u001b[?25hCollecting vllm\n",
            "  Downloading vllm-0.3.2-cp310-cp310-manylinux1_x86_64.whl (41.4 MB)\n",
            "\u001b[2K     \u001b[90m━━━━━━━━━━━━━━━━━━━━━━━━━━━━━━━━━━━━━━━━\u001b[0m \u001b[32m41.4/41.4 MB\u001b[0m \u001b[31m15.4 MB/s\u001b[0m eta \u001b[36m0:00:00\u001b[0m\n",
            "\u001b[?25hCollecting backoff~=2.2.1 (from dspy-ai)\n",
            "  Downloading backoff-2.2.1-py3-none-any.whl (15 kB)\n",
            "Requirement already satisfied: joblib~=1.3.2 in /usr/local/lib/python3.10/dist-packages (from dspy-ai) (1.3.2)\n",
            "Collecting openai<2.0.0,>=0.28.1 (from dspy-ai)\n",
            "  Downloading openai-1.12.0-py3-none-any.whl (226 kB)\n",
            "\u001b[2K     \u001b[90m━━━━━━━━━━━━━━━━━━━━━━━━━━━━━━━━━━━━━━━━\u001b[0m \u001b[32m226.7/226.7 kB\u001b[0m \u001b[31m25.9 MB/s\u001b[0m eta \u001b[36m0:00:00\u001b[0m\n",
            "\u001b[?25hRequirement already satisfied: pandas in /usr/local/lib/python3.10/dist-packages (from dspy-ai) (1.5.3)\n",
            "Requirement already satisfied: regex in /usr/local/lib/python3.10/dist-packages (from dspy-ai) (2023.12.25)\n",
            "Collecting ujson (from dspy-ai)\n",
            "  Downloading ujson-5.9.0-cp310-cp310-manylinux_2_17_x86_64.manylinux2014_x86_64.whl (53 kB)\n",
            "\u001b[2K     \u001b[90m━━━━━━━━━━━━━━━━━━━━━━━━━━━━━━━━━━━━━━━━\u001b[0m \u001b[32m53.2/53.2 kB\u001b[0m \u001b[31m7.5 MB/s\u001b[0m eta \u001b[36m0:00:00\u001b[0m\n",
            "\u001b[?25hRequirement already satisfied: tqdm in /usr/local/lib/python3.10/dist-packages (from dspy-ai) (4.66.2)\n",
            "Collecting datasets<3.0.0,~=2.14.6 (from dspy-ai)\n",
            "  Downloading datasets-2.14.7-py3-none-any.whl (520 kB)\n",
            "\u001b[2K     \u001b[90m━━━━━━━━━━━━━━━━━━━━━━━━━━━━━━━━━━━━━━━━\u001b[0m \u001b[32m520.4/520.4 kB\u001b[0m \u001b[31m54.3 MB/s\u001b[0m eta \u001b[36m0:00:00\u001b[0m\n",
            "\u001b[?25hRequirement already satisfied: requests in /usr/local/lib/python3.10/dist-packages (from dspy-ai) (2.31.0)\n",
            "Collecting optuna (from dspy-ai)\n",
            "  Downloading optuna-3.5.0-py3-none-any.whl (413 kB)\n",
            "\u001b[2K     \u001b[90m━━━━━━━━━━━━━━━━━━━━━━━━━━━━━━━━━━━━━━━━\u001b[0m \u001b[32m413.4/413.4 kB\u001b[0m \u001b[31m49.0 MB/s\u001b[0m eta \u001b[36m0:00:00\u001b[0m\n",
            "\u001b[?25hCollecting ninja (from vllm)\n",
            "  Downloading ninja-1.11.1.1-py2.py3-none-manylinux1_x86_64.manylinux_2_5_x86_64.whl (307 kB)\n",
            "\u001b[2K     \u001b[90m━━━━━━━━━━━━━━━━━━━━━━━━━━━━━━━━━━━━━━━━\u001b[0m \u001b[32m307.2/307.2 kB\u001b[0m \u001b[31m39.2 MB/s\u001b[0m eta \u001b[36m0:00:00\u001b[0m\n",
            "\u001b[?25hRequirement already satisfied: psutil in /usr/local/lib/python3.10/dist-packages (from vllm) (5.9.5)\n",
            "Collecting ray>=2.9 (from vllm)\n",
            "  Downloading ray-2.9.3-cp310-cp310-manylinux2014_x86_64.whl (64.9 MB)\n",
            "\u001b[2K     \u001b[90m━━━━━━━━━━━━━━━━━━━━━━━━━━━━━━━━━━━━━━━━\u001b[0m \u001b[32m64.9/64.9 MB\u001b[0m \u001b[31m8.7 MB/s\u001b[0m eta \u001b[36m0:00:00\u001b[0m\n",
            "\u001b[?25hRequirement already satisfied: sentencepiece in /usr/local/lib/python3.10/dist-packages (from vllm) (0.1.99)\n",
            "Requirement already satisfied: numpy in /usr/local/lib/python3.10/dist-packages (from vllm) (1.25.2)\n",
            "Collecting torch==2.1.2 (from vllm)\n",
            "  Downloading torch-2.1.2-cp310-cp310-manylinux1_x86_64.whl (670.2 MB)\n",
            "\u001b[2K     \u001b[90m━━━━━━━━━━━━━━━━━━━━━━━━━━━━━━━━━━━━━━━━\u001b[0m \u001b[32m670.2/670.2 MB\u001b[0m \u001b[31m2.6 MB/s\u001b[0m eta \u001b[36m0:00:00\u001b[0m\n",
            "\u001b[?25hCollecting transformers>=4.38.0 (from vllm)\n",
            "  Downloading transformers-4.38.1-py3-none-any.whl (8.5 MB)\n",
            "\u001b[2K     \u001b[90m━━━━━━━━━━━━━━━━━━━━━━━━━━━━━━━━━━━━━━━━\u001b[0m \u001b[32m8.5/8.5 MB\u001b[0m \u001b[31m33.2 MB/s\u001b[0m eta \u001b[36m0:00:00\u001b[0m\n",
            "\u001b[?25hCollecting xformers==0.0.23.post1 (from vllm)\n",
            "  Downloading xformers-0.0.23.post1-cp310-cp310-manylinux2014_x86_64.whl (213.0 MB)\n",
            "\u001b[2K     \u001b[90m━━━━━━━━━━━━━━━━━━━━━━━━━━━━━━━━━━━━━━━━\u001b[0m \u001b[32m213.0/213.0 MB\u001b[0m \u001b[31m2.5 MB/s\u001b[0m eta \u001b[36m0:00:00\u001b[0m\n",
            "\u001b[?25hCollecting fastapi (from vllm)\n",
            "  Downloading fastapi-0.110.0-py3-none-any.whl (92 kB)\n",
            "\u001b[2K     \u001b[90m━━━━━━━━━━━━━━━━━━━━━━━━━━━━━━━━━━━━━━━━\u001b[0m \u001b[32m92.1/92.1 kB\u001b[0m \u001b[31m12.0 MB/s\u001b[0m eta \u001b[36m0:00:00\u001b[0m\n",
            "\u001b[?25hCollecting uvicorn[standard] (from vllm)\n",
            "  Downloading uvicorn-0.27.1-py3-none-any.whl (60 kB)\n",
            "\u001b[2K     \u001b[90m━━━━━━━━━━━━━━━━━━━━━━━━━━━━━━━━━━━━━━━━\u001b[0m \u001b[32m60.8/60.8 kB\u001b[0m \u001b[31m7.6 MB/s\u001b[0m eta \u001b[36m0:00:00\u001b[0m\n",
            "\u001b[?25hRequirement already satisfied: pydantic>=2.0 in /usr/local/lib/python3.10/dist-packages (from vllm) (2.6.1)\n",
            "Collecting aioprometheus[starlette] (from vllm)\n",
            "  Downloading aioprometheus-23.12.0-py3-none-any.whl (31 kB)\n",
            "Collecting pynvml==11.5.0 (from vllm)\n",
            "  Downloading pynvml-11.5.0-py3-none-any.whl (53 kB)\n",
            "\u001b[2K     \u001b[90m━━━━━━━━━━━━━━━━━━━━━━━━━━━━━━━━━━━━━━━━\u001b[0m \u001b[32m53.1/53.1 kB\u001b[0m \u001b[31m8.0 MB/s\u001b[0m eta \u001b[36m0:00:00\u001b[0m\n",
            "\u001b[?25hRequirement already satisfied: triton>=2.1.0 in /usr/local/lib/python3.10/dist-packages (from vllm) (2.1.0)\n",
            "Collecting cupy-cuda12x==12.1.0 (from vllm)\n",
            "  Downloading cupy_cuda12x-12.1.0-cp310-cp310-manylinux2014_x86_64.whl (83.0 MB)\n",
            "\u001b[2K     \u001b[90m━━━━━━━━━━━━━━━━━━━━━━━━━━━━━━━━━━━━━━━━\u001b[0m \u001b[32m83.0/83.0 MB\u001b[0m \u001b[31m8.1 MB/s\u001b[0m eta \u001b[36m0:00:00\u001b[0m\n",
            "\u001b[?25hRequirement already satisfied: fastrlock>=0.5 in /usr/local/lib/python3.10/dist-packages (from cupy-cuda12x==12.1.0->vllm) (0.8.2)\n",
            "Requirement already satisfied: filelock in /usr/local/lib/python3.10/dist-packages (from torch==2.1.2->vllm) (3.13.1)\n",
            "Requirement already satisfied: typing-extensions in /usr/local/lib/python3.10/dist-packages (from torch==2.1.2->vllm) (4.9.0)\n",
            "Requirement already satisfied: sympy in /usr/local/lib/python3.10/dist-packages (from torch==2.1.2->vllm) (1.12)\n",
            "Requirement already satisfied: networkx in /usr/local/lib/python3.10/dist-packages (from torch==2.1.2->vllm) (3.2.1)\n",
            "Requirement already satisfied: jinja2 in /usr/local/lib/python3.10/dist-packages (from torch==2.1.2->vllm) (3.1.3)\n",
            "Requirement already satisfied: fsspec in /usr/local/lib/python3.10/dist-packages (from torch==2.1.2->vllm) (2023.6.0)\n",
            "Collecting nvidia-cuda-nvrtc-cu12==12.1.105 (from torch==2.1.2->vllm)\n",
            "  Downloading nvidia_cuda_nvrtc_cu12-12.1.105-py3-none-manylinux1_x86_64.whl (23.7 MB)\n",
            "\u001b[2K     \u001b[90m━━━━━━━━━━━━━━━━━━━━━━━━━━━━━━━━━━━━━━━━\u001b[0m \u001b[32m23.7/23.7 MB\u001b[0m \u001b[31m64.4 MB/s\u001b[0m eta \u001b[36m0:00:00\u001b[0m\n",
            "\u001b[?25hCollecting nvidia-cuda-runtime-cu12==12.1.105 (from torch==2.1.2->vllm)\n",
            "  Downloading nvidia_cuda_runtime_cu12-12.1.105-py3-none-manylinux1_x86_64.whl (823 kB)\n",
            "\u001b[2K     \u001b[90m━━━━━━━━━━━━━━━━━━━━━━━━━━━━━━━━━━━━━━━━\u001b[0m \u001b[32m823.6/823.6 kB\u001b[0m \u001b[31m60.8 MB/s\u001b[0m eta \u001b[36m0:00:00\u001b[0m\n",
            "\u001b[?25hCollecting nvidia-cuda-cupti-cu12==12.1.105 (from torch==2.1.2->vllm)\n",
            "  Downloading nvidia_cuda_cupti_cu12-12.1.105-py3-none-manylinux1_x86_64.whl (14.1 MB)\n",
            "\u001b[2K     \u001b[90m━━━━━━━━━━━━━━━━━━━━━━━━━━━━━━━━━━━━━━━━\u001b[0m \u001b[32m14.1/14.1 MB\u001b[0m \u001b[31m94.9 MB/s\u001b[0m eta \u001b[36m0:00:00\u001b[0m\n",
            "\u001b[?25hCollecting nvidia-cudnn-cu12==8.9.2.26 (from torch==2.1.2->vllm)\n",
            "  Downloading nvidia_cudnn_cu12-8.9.2.26-py3-none-manylinux1_x86_64.whl (731.7 MB)\n",
            "\u001b[2K     \u001b[90m━━━━━━━━━━━━━━━━━━━━━━━━━━━━━━━━━━━━━━━━\u001b[0m \u001b[32m731.7/731.7 MB\u001b[0m \u001b[31m1.4 MB/s\u001b[0m eta \u001b[36m0:00:00\u001b[0m\n",
            "\u001b[?25hCollecting nvidia-cublas-cu12==12.1.3.1 (from torch==2.1.2->vllm)\n",
            "  Downloading nvidia_cublas_cu12-12.1.3.1-py3-none-manylinux1_x86_64.whl (410.6 MB)\n",
            "\u001b[2K     \u001b[90m━━━━━━━━━━━━━━━━━━━━━━━━━━━━━━━━━━━━━━━━\u001b[0m \u001b[32m410.6/410.6 MB\u001b[0m \u001b[31m2.7 MB/s\u001b[0m eta \u001b[36m0:00:00\u001b[0m\n",
            "\u001b[?25hCollecting nvidia-cufft-cu12==11.0.2.54 (from torch==2.1.2->vllm)\n",
            "  Downloading nvidia_cufft_cu12-11.0.2.54-py3-none-manylinux1_x86_64.whl (121.6 MB)\n",
            "\u001b[2K     \u001b[90m━━━━━━━━━━━━━━━━━━━━━━━━━━━━━━━━━━━━━━━━\u001b[0m \u001b[32m121.6/121.6 MB\u001b[0m \u001b[31m8.3 MB/s\u001b[0m eta \u001b[36m0:00:00\u001b[0m\n",
            "\u001b[?25hCollecting nvidia-curand-cu12==10.3.2.106 (from torch==2.1.2->vllm)\n",
            "  Downloading nvidia_curand_cu12-10.3.2.106-py3-none-manylinux1_x86_64.whl (56.5 MB)\n",
            "\u001b[2K     \u001b[90m━━━━━━━━━━━━━━━━━━━━━━━━━━━━━━━━━━━━━━━━\u001b[0m \u001b[32m56.5/56.5 MB\u001b[0m \u001b[31m10.7 MB/s\u001b[0m eta \u001b[36m0:00:00\u001b[0m\n",
            "\u001b[?25hCollecting nvidia-cusolver-cu12==11.4.5.107 (from torch==2.1.2->vllm)\n",
            "  Downloading nvidia_cusolver_cu12-11.4.5.107-py3-none-manylinux1_x86_64.whl (124.2 MB)\n",
            "\u001b[2K     \u001b[90m━━━━━━━━━━━━━━━━━━━━━━━━━━━━━━━━━━━━━━━━\u001b[0m \u001b[32m124.2/124.2 MB\u001b[0m \u001b[31m8.2 MB/s\u001b[0m eta \u001b[36m0:00:00\u001b[0m\n",
            "\u001b[?25hCollecting nvidia-cusparse-cu12==12.1.0.106 (from torch==2.1.2->vllm)\n",
            "  Downloading nvidia_cusparse_cu12-12.1.0.106-py3-none-manylinux1_x86_64.whl (196.0 MB)\n",
            "\u001b[2K     \u001b[90m━━━━━━━━━━━━━━━━━━━━━━━━━━━━━━━━━━━━━━━━\u001b[0m \u001b[32m196.0/196.0 MB\u001b[0m \u001b[31m6.0 MB/s\u001b[0m eta \u001b[36m0:00:00\u001b[0m\n",
            "\u001b[?25hCollecting nvidia-nccl-cu12==2.18.1 (from torch==2.1.2->vllm)\n",
            "  Downloading nvidia_nccl_cu12-2.18.1-py3-none-manylinux1_x86_64.whl (209.8 MB)\n",
            "\u001b[2K     \u001b[90m━━━━━━━━━━━━━━━━━━━━━━━━━━━━━━━━━━━━━━━━\u001b[0m \u001b[32m209.8/209.8 MB\u001b[0m \u001b[31m5.8 MB/s\u001b[0m eta \u001b[36m0:00:00\u001b[0m\n",
            "\u001b[?25hCollecting nvidia-nvtx-cu12==12.1.105 (from torch==2.1.2->vllm)\n",
            "  Downloading nvidia_nvtx_cu12-12.1.105-py3-none-manylinux1_x86_64.whl (99 kB)\n",
            "\u001b[2K     \u001b[90m━━━━━━━━━━━━━━━━━━━━━━━━━━━━━━━━━━━━━━━━\u001b[0m \u001b[32m99.1/99.1 kB\u001b[0m \u001b[31m16.0 MB/s\u001b[0m eta \u001b[36m0:00:00\u001b[0m\n",
            "\u001b[?25hCollecting nvidia-nvjitlink-cu12 (from nvidia-cusolver-cu12==11.4.5.107->torch==2.1.2->vllm)\n",
            "  Downloading nvidia_nvjitlink_cu12-12.3.101-py3-none-manylinux1_x86_64.whl (20.5 MB)\n",
            "\u001b[2K     \u001b[90m━━━━━━━━━━━━━━━━━━━━━━━━━━━━━━━━━━━━━━━━\u001b[0m \u001b[32m20.5/20.5 MB\u001b[0m \u001b[31m85.0 MB/s\u001b[0m eta \u001b[36m0:00:00\u001b[0m\n",
            "\u001b[?25hRequirement already satisfied: pyarrow>=8.0.0 in /usr/local/lib/python3.10/dist-packages (from datasets<3.0.0,~=2.14.6->dspy-ai) (14.0.2)\n",
            "Requirement already satisfied: pyarrow-hotfix in /usr/local/lib/python3.10/dist-packages (from datasets<3.0.0,~=2.14.6->dspy-ai) (0.6)\n",
            "Collecting dill<0.3.8,>=0.3.0 (from datasets<3.0.0,~=2.14.6->dspy-ai)\n",
            "  Downloading dill-0.3.7-py3-none-any.whl (115 kB)\n",
            "\u001b[2K     \u001b[90m━━━━━━━━━━━━━━━━━━━━━━━━━━━━━━━━━━━━━━━━\u001b[0m \u001b[32m115.3/115.3 kB\u001b[0m \u001b[31m17.9 MB/s\u001b[0m eta \u001b[36m0:00:00\u001b[0m\n",
            "\u001b[?25hRequirement already satisfied: xxhash in /usr/local/lib/python3.10/dist-packages (from datasets<3.0.0,~=2.14.6->dspy-ai) (3.4.1)\n",
            "Collecting multiprocess (from datasets<3.0.0,~=2.14.6->dspy-ai)\n",
            "  Downloading multiprocess-0.70.16-py310-none-any.whl (134 kB)\n",
            "\u001b[2K     \u001b[90m━━━━━━━━━━━━━━━━━━━━━━━━━━━━━━━━━━━━━━━━\u001b[0m \u001b[32m134.8/134.8 kB\u001b[0m \u001b[31m19.9 MB/s\u001b[0m eta \u001b[36m0:00:00\u001b[0m\n",
            "\u001b[?25hRequirement already satisfied: aiohttp in /usr/local/lib/python3.10/dist-packages (from datasets<3.0.0,~=2.14.6->dspy-ai) (3.9.3)\n",
            "Requirement already satisfied: huggingface-hub<1.0.0,>=0.14.0 in /usr/local/lib/python3.10/dist-packages (from datasets<3.0.0,~=2.14.6->dspy-ai) (0.20.3)\n",
            "Requirement already satisfied: packaging in /usr/local/lib/python3.10/dist-packages (from datasets<3.0.0,~=2.14.6->dspy-ai) (23.2)\n",
            "Requirement already satisfied: pyyaml>=5.1 in /usr/local/lib/python3.10/dist-packages (from datasets<3.0.0,~=2.14.6->dspy-ai) (6.0.1)\n",
            "Requirement already satisfied: anyio<5,>=3.5.0 in /usr/local/lib/python3.10/dist-packages (from openai<2.0.0,>=0.28.1->dspy-ai) (3.7.1)\n",
            "Requirement already satisfied: distro<2,>=1.7.0 in /usr/lib/python3/dist-packages (from openai<2.0.0,>=0.28.1->dspy-ai) (1.7.0)\n",
            "Collecting httpx<1,>=0.23.0 (from openai<2.0.0,>=0.28.1->dspy-ai)\n",
            "  Downloading httpx-0.27.0-py3-none-any.whl (75 kB)\n",
            "\u001b[2K     \u001b[90m━━━━━━━━━━━━━━━━━━━━━━━━━━━━━━━━━━━━━━━━\u001b[0m \u001b[32m75.6/75.6 kB\u001b[0m \u001b[31m12.3 MB/s\u001b[0m eta \u001b[36m0:00:00\u001b[0m\n",
            "\u001b[?25hRequirement already satisfied: sniffio in /usr/local/lib/python3.10/dist-packages (from openai<2.0.0,>=0.28.1->dspy-ai) (1.3.0)\n",
            "Requirement already satisfied: annotated-types>=0.4.0 in /usr/local/lib/python3.10/dist-packages (from pydantic>=2.0->vllm) (0.6.0)\n",
            "Requirement already satisfied: pydantic-core==2.16.2 in /usr/local/lib/python3.10/dist-packages (from pydantic>=2.0->vllm) (2.16.2)\n",
            "Requirement already satisfied: click>=7.0 in /usr/local/lib/python3.10/dist-packages (from ray>=2.9->vllm) (8.1.7)\n",
            "Requirement already satisfied: jsonschema in /usr/local/lib/python3.10/dist-packages (from ray>=2.9->vllm) (4.19.2)\n",
            "Requirement already satisfied: msgpack<2.0.0,>=1.0.0 in /usr/local/lib/python3.10/dist-packages (from ray>=2.9->vllm) (1.0.7)\n",
            "Requirement already satisfied: protobuf!=3.19.5,>=3.15.3 in /usr/local/lib/python3.10/dist-packages (from ray>=2.9->vllm) (3.20.3)\n",
            "Requirement already satisfied: aiosignal in /usr/local/lib/python3.10/dist-packages (from ray>=2.9->vllm) (1.3.1)\n",
            "Requirement already satisfied: frozenlist in /usr/local/lib/python3.10/dist-packages (from ray>=2.9->vllm) (1.4.1)\n",
            "Requirement already satisfied: charset-normalizer<4,>=2 in /usr/local/lib/python3.10/dist-packages (from requests->dspy-ai) (3.3.2)\n",
            "Requirement already satisfied: idna<4,>=2.5 in /usr/local/lib/python3.10/dist-packages (from requests->dspy-ai) (3.6)\n",
            "Requirement already satisfied: urllib3<3,>=1.21.1 in /usr/local/lib/python3.10/dist-packages (from requests->dspy-ai) (2.0.7)\n",
            "Requirement already satisfied: certifi>=2017.4.17 in /usr/local/lib/python3.10/dist-packages (from requests->dspy-ai) (2024.2.2)\n",
            "Requirement already satisfied: tokenizers<0.19,>=0.14 in /usr/local/lib/python3.10/dist-packages (from transformers>=4.38.0->vllm) (0.15.2)\n",
            "Requirement already satisfied: safetensors>=0.4.1 in /usr/local/lib/python3.10/dist-packages (from transformers>=4.38.0->vllm) (0.4.2)\n",
            "Collecting orjson (from aioprometheus[starlette]->vllm)\n",
            "  Downloading orjson-3.9.15-cp310-cp310-manylinux_2_17_x86_64.manylinux2014_x86_64.whl (138 kB)\n",
            "\u001b[2K     \u001b[90m━━━━━━━━━━━━━━━━━━━━━━━━━━━━━━━━━━━━━━━━\u001b[0m \u001b[32m138.5/138.5 kB\u001b[0m \u001b[31m20.5 MB/s\u001b[0m eta \u001b[36m0:00:00\u001b[0m\n",
            "\u001b[?25hCollecting quantile-python>=1.1 (from aioprometheus[starlette]->vllm)\n",
            "  Downloading quantile-python-1.1.tar.gz (2.9 kB)\n",
            "  Preparing metadata (setup.py) ... \u001b[?25l\u001b[?25hdone\n",
            "Collecting starlette>=0.14.2 (from aioprometheus[starlette]->vllm)\n",
            "  Downloading starlette-0.37.1-py3-none-any.whl (71 kB)\n",
            "\u001b[2K     \u001b[90m━━━━━━━━━━━━━━━━━━━━━━━━━━━━━━━━━━━━━━━━\u001b[0m \u001b[32m72.0/72.0 kB\u001b[0m \u001b[31m10.9 MB/s\u001b[0m eta \u001b[36m0:00:00\u001b[0m\n",
            "\u001b[?25h  Downloading starlette-0.36.3-py3-none-any.whl (71 kB)\n",
            "\u001b[2K     \u001b[90m━━━━━━━━━━━━━━━━━━━━━━━━━━━━━━━━━━━━━━━━\u001b[0m \u001b[32m71.5/71.5 kB\u001b[0m \u001b[31m10.8 MB/s\u001b[0m eta \u001b[36m0:00:00\u001b[0m\n",
            "\u001b[?25hCollecting alembic>=1.5.0 (from optuna->dspy-ai)\n",
            "  Downloading alembic-1.13.1-py3-none-any.whl (233 kB)\n",
            "\u001b[2K     \u001b[90m━━━━━━━━━━━━━━━━━━━━━━━━━━━━━━━━━━━━━━━━\u001b[0m \u001b[32m233.4/233.4 kB\u001b[0m \u001b[31m31.5 MB/s\u001b[0m eta \u001b[36m0:00:00\u001b[0m\n",
            "\u001b[?25hCollecting colorlog (from optuna->dspy-ai)\n",
            "  Downloading colorlog-6.8.2-py3-none-any.whl (11 kB)\n",
            "Requirement already satisfied: sqlalchemy>=1.3.0 in /usr/local/lib/python3.10/dist-packages (from optuna->dspy-ai) (2.0.27)\n",
            "Requirement already satisfied: python-dateutil>=2.8.1 in /usr/local/lib/python3.10/dist-packages (from pandas->dspy-ai) (2.8.2)\n",
            "Requirement already satisfied: pytz>=2020.1 in /usr/local/lib/python3.10/dist-packages (from pandas->dspy-ai) (2023.4)\n",
            "Collecting h11>=0.8 (from uvicorn[standard]->vllm)\n",
            "  Downloading h11-0.14.0-py3-none-any.whl (58 kB)\n",
            "\u001b[2K     \u001b[90m━━━━━━━━━━━━━━━━━━━━━━━━━━━━━━━━━━━━━━━━\u001b[0m \u001b[32m58.3/58.3 kB\u001b[0m \u001b[31m9.5 MB/s\u001b[0m eta \u001b[36m0:00:00\u001b[0m\n",
            "\u001b[?25hCollecting httptools>=0.5.0 (from uvicorn[standard]->vllm)\n",
            "  Downloading httptools-0.6.1-cp310-cp310-manylinux_2_5_x86_64.manylinux1_x86_64.manylinux_2_17_x86_64.manylinux2014_x86_64.whl (341 kB)\n",
            "\u001b[2K     \u001b[90m━━━━━━━━━━━━━━━━━━━━━━━━━━━━━━━━━━━━━━━━\u001b[0m \u001b[32m341.4/341.4 kB\u001b[0m \u001b[31m42.4 MB/s\u001b[0m eta \u001b[36m0:00:00\u001b[0m\n",
            "\u001b[?25hCollecting python-dotenv>=0.13 (from uvicorn[standard]->vllm)\n",
            "  Downloading python_dotenv-1.0.1-py3-none-any.whl (19 kB)\n",
            "Collecting uvloop!=0.15.0,!=0.15.1,>=0.14.0 (from uvicorn[standard]->vllm)\n",
            "  Downloading uvloop-0.19.0-cp310-cp310-manylinux_2_17_x86_64.manylinux2014_x86_64.whl (3.4 MB)\n",
            "\u001b[2K     \u001b[90m━━━━━━━━━━━━━━━━━━━━━━━━━━━━━━━━━━━━━━━━\u001b[0m \u001b[32m3.4/3.4 MB\u001b[0m \u001b[31m108.9 MB/s\u001b[0m eta \u001b[36m0:00:00\u001b[0m\n",
            "\u001b[?25hCollecting watchfiles>=0.13 (from uvicorn[standard]->vllm)\n",
            "  Downloading watchfiles-0.21.0-cp310-cp310-manylinux_2_17_x86_64.manylinux2014_x86_64.whl (1.3 MB)\n",
            "\u001b[2K     \u001b[90m━━━━━━━━━━━━━━━━━━━━━━━━━━━━━━━━━━━━━━━━\u001b[0m \u001b[32m1.3/1.3 MB\u001b[0m \u001b[31m89.0 MB/s\u001b[0m eta \u001b[36m0:00:00\u001b[0m\n",
            "\u001b[?25hCollecting websockets>=10.4 (from uvicorn[standard]->vllm)\n",
            "  Downloading websockets-12.0-cp310-cp310-manylinux_2_5_x86_64.manylinux1_x86_64.manylinux_2_17_x86_64.manylinux2014_x86_64.whl (130 kB)\n",
            "\u001b[2K     \u001b[90m━━━━━━━━━━━━━━━━━━━━━━━━━━━━━━━━━━━━━━━━\u001b[0m \u001b[32m130.2/130.2 kB\u001b[0m \u001b[31m18.2 MB/s\u001b[0m eta \u001b[36m0:00:00\u001b[0m\n",
            "\u001b[?25hCollecting Mako (from alembic>=1.5.0->optuna->dspy-ai)\n",
            "  Downloading Mako-1.3.2-py3-none-any.whl (78 kB)\n",
            "\u001b[2K     \u001b[90m━━━━━━━━━━━━━━━━━━━━━━━━━━━━━━━━━━━━━━━━\u001b[0m \u001b[32m78.7/78.7 kB\u001b[0m \u001b[31m12.0 MB/s\u001b[0m eta \u001b[36m0:00:00\u001b[0m\n",
            "\u001b[?25hRequirement already satisfied: exceptiongroup in /usr/local/lib/python3.10/dist-packages (from anyio<5,>=3.5.0->openai<2.0.0,>=0.28.1->dspy-ai) (1.2.0)\n",
            "Requirement already satisfied: attrs>=17.3.0 in /usr/local/lib/python3.10/dist-packages (from aiohttp->datasets<3.0.0,~=2.14.6->dspy-ai) (23.2.0)\n",
            "Requirement already satisfied: multidict<7.0,>=4.5 in /usr/local/lib/python3.10/dist-packages (from aiohttp->datasets<3.0.0,~=2.14.6->dspy-ai) (6.0.5)\n",
            "Requirement already satisfied: yarl<2.0,>=1.0 in /usr/local/lib/python3.10/dist-packages (from aiohttp->datasets<3.0.0,~=2.14.6->dspy-ai) (1.9.4)\n",
            "Requirement already satisfied: async-timeout<5.0,>=4.0 in /usr/local/lib/python3.10/dist-packages (from aiohttp->datasets<3.0.0,~=2.14.6->dspy-ai) (4.0.3)\n",
            "Collecting httpcore==1.* (from httpx<1,>=0.23.0->openai<2.0.0,>=0.28.1->dspy-ai)\n",
            "  Downloading httpcore-1.0.4-py3-none-any.whl (77 kB)\n",
            "\u001b[2K     \u001b[90m━━━━━━━━━━━━━━━━━━━━━━━━━━━━━━━━━━━━━━━━\u001b[0m \u001b[32m77.8/77.8 kB\u001b[0m \u001b[31m12.5 MB/s\u001b[0m eta \u001b[36m0:00:00\u001b[0m\n",
            "\u001b[?25hRequirement already satisfied: six>=1.5 in /usr/local/lib/python3.10/dist-packages (from python-dateutil>=2.8.1->pandas->dspy-ai) (1.16.0)\n",
            "Requirement already satisfied: greenlet!=0.4.17 in /usr/local/lib/python3.10/dist-packages (from sqlalchemy>=1.3.0->optuna->dspy-ai) (3.0.3)\n",
            "Requirement already satisfied: MarkupSafe>=2.0 in /usr/local/lib/python3.10/dist-packages (from jinja2->torch==2.1.2->vllm) (2.1.5)\n",
            "Requirement already satisfied: jsonschema-specifications>=2023.03.6 in /usr/local/lib/python3.10/dist-packages (from jsonschema->ray>=2.9->vllm) (2023.12.1)\n",
            "Requirement already satisfied: referencing>=0.28.4 in /usr/local/lib/python3.10/dist-packages (from jsonschema->ray>=2.9->vllm) (0.33.0)\n",
            "Requirement already satisfied: rpds-py>=0.7.1 in /usr/local/lib/python3.10/dist-packages (from jsonschema->ray>=2.9->vllm) (0.18.0)\n",
            "INFO: pip is looking at multiple versions of multiprocess to determine which version is compatible with other requirements. This could take a while.\n",
            "Collecting multiprocess (from datasets<3.0.0,~=2.14.6->dspy-ai)\n",
            "  Downloading multiprocess-0.70.15-py310-none-any.whl (134 kB)\n",
            "\u001b[2K     \u001b[90m━━━━━━━━━━━━━━━━━━━━━━━━━━━━━━━━━━━━━━━━\u001b[0m \u001b[32m134.8/134.8 kB\u001b[0m \u001b[31m19.0 MB/s\u001b[0m eta \u001b[36m0:00:00\u001b[0m\n",
            "\u001b[?25hRequirement already satisfied: mpmath>=0.19 in /usr/local/lib/python3.10/dist-packages (from sympy->torch==2.1.2->vllm) (1.3.0)\n",
            "Building wheels for collected packages: quantile-python\n",
            "  Building wheel for quantile-python (setup.py) ... \u001b[?25l\u001b[?25hdone\n",
            "  Created wheel for quantile-python: filename=quantile_python-1.1-py3-none-any.whl size=3444 sha256=9ef6394eaf22db25f66a011db219d246788e1d9c6b69508afe5492e781618824\n",
            "  Stored in directory: /root/.cache/pip/wheels/6d/f4/0a/0e7d01548a005f9f3fa23101f071d248da052f2a9bf2fe11c6\n",
            "Successfully built quantile-python\n",
            "Installing collected packages: quantile-python, ninja, websockets, uvloop, ujson, python-dotenv, pynvml, orjson, nvidia-nvtx-cu12, nvidia-nvjitlink-cu12, nvidia-nccl-cu12, nvidia-curand-cu12, nvidia-cufft-cu12, nvidia-cuda-runtime-cu12, nvidia-cuda-nvrtc-cu12, nvidia-cuda-cupti-cu12, nvidia-cublas-cu12, Mako, httptools, h11, dill, cupy-cuda12x, colorlog, backoff, watchfiles, uvicorn, starlette, nvidia-cusparse-cu12, nvidia-cudnn-cu12, multiprocess, httpcore, alembic, aioprometheus, optuna, nvidia-cusolver-cu12, httpx, fastapi, transformers, torch, ray, openai, datasets, xformers, dspy-ai, vllm\n",
            "  Attempting uninstall: cupy-cuda12x\n",
            "    Found existing installation: cupy-cuda12x 12.2.0\n",
            "    Uninstalling cupy-cuda12x-12.2.0:\n",
            "      Successfully uninstalled cupy-cuda12x-12.2.0\n",
            "  Attempting uninstall: transformers\n",
            "    Found existing installation: transformers 4.37.2\n",
            "    Uninstalling transformers-4.37.2:\n",
            "      Successfully uninstalled transformers-4.37.2\n",
            "  Attempting uninstall: torch\n",
            "    Found existing installation: torch 2.1.0+cu121\n",
            "    Uninstalling torch-2.1.0+cu121:\n",
            "      Successfully uninstalled torch-2.1.0+cu121\n",
            "\u001b[31mERROR: pip's dependency resolver does not currently take into account all the packages that are installed. This behaviour is the source of the following dependency conflicts.\n",
            "torchaudio 2.1.0+cu121 requires torch==2.1.0, but you have torch 2.1.2 which is incompatible.\n",
            "torchdata 0.7.0 requires torch==2.1.0, but you have torch 2.1.2 which is incompatible.\n",
            "torchtext 0.16.0 requires torch==2.1.0, but you have torch 2.1.2 which is incompatible.\n",
            "torchvision 0.16.0+cu121 requires torch==2.1.0, but you have torch 2.1.2 which is incompatible.\u001b[0m\u001b[31m\n",
            "\u001b[0mSuccessfully installed Mako-1.3.2 aioprometheus-23.12.0 alembic-1.13.1 backoff-2.2.1 colorlog-6.8.2 cupy-cuda12x-12.1.0 datasets-2.14.7 dill-0.3.7 dspy-ai-2.3.1 fastapi-0.110.0 h11-0.14.0 httpcore-1.0.4 httptools-0.6.1 httpx-0.27.0 multiprocess-0.70.15 ninja-1.11.1.1 nvidia-cublas-cu12-12.1.3.1 nvidia-cuda-cupti-cu12-12.1.105 nvidia-cuda-nvrtc-cu12-12.1.105 nvidia-cuda-runtime-cu12-12.1.105 nvidia-cudnn-cu12-8.9.2.26 nvidia-cufft-cu12-11.0.2.54 nvidia-curand-cu12-10.3.2.106 nvidia-cusolver-cu12-11.4.5.107 nvidia-cusparse-cu12-12.1.0.106 nvidia-nccl-cu12-2.18.1 nvidia-nvjitlink-cu12-12.3.101 nvidia-nvtx-cu12-12.1.105 openai-1.12.0 optuna-3.5.0 orjson-3.9.15 pynvml-11.5.0 python-dotenv-1.0.1 quantile-python-1.1 ray-2.9.3 starlette-0.36.3 torch-2.1.2 transformers-4.38.1 ujson-5.9.0 uvicorn-0.27.1 uvloop-0.19.0 vllm-0.3.2 watchfiles-0.21.0 websockets-12.0 xformers-0.0.23.post1\n"
          ]
        }
      ],
      "source": [
        "!pip install dspy-ai vllm"
      ]
    },
    {
      "cell_type": "code",
      "source": [
        "# Run server in foreground\n",
        "# !python -m vllm.entrypoints.openai.api_server --model TheBloke/dolphin-2.6-mistral-7B-dpo-laser-AWQ --quantization awq\n",
        "\n",
        "# Run server in the background\n",
        "!nohup python -m vllm.entrypoints.openai.api_server --model TheBloke/dolphin-2.6-mistral-7B-dpo-laser-AWQ --quantization awq > server.log 2>&1 &\n",
        "# stdout is redirected to a file `server.log` using `> server.log`.\n",
        "# We use a quantized model prepared using AWQ quantization"
      ],
      "metadata": {
        "id": "07Jt1JJ4yM1a"
      },
      "execution_count": 3,
      "outputs": []
    },
    {
      "cell_type": "code",
      "source": [
        "# Run this cell again and again to monitor the status of the server.\n",
        "# The server can take a few mintues to start.\n",
        "# Once the server has started, you will see logs such as this:\n",
        "# INFO 02-10 07:16:43 llm_engine.py:877] Avg prompt throughput: 0.0 tokens/s, Avg generation throughput: 0.0 tokens/s, Running: 0 reqs, Swapped: 0 reqs, Pending: 0 reqs, GPU KV cache usage: 0.0%, CPU KV cache usage: 0.0%\n",
        "!tail server.log"
      ],
      "metadata": {
        "colab": {
          "base_uri": "https://localhost:8080/"
        },
        "id": "rdJYF7w33hR7",
        "outputId": "499ca339-603c-427c-a840-efb353edfa52"
      },
      "execution_count": 11,
      "outputs": [
        {
          "output_type": "stream",
          "name": "stdout",
          "text": [
            "INFO 02-26 12:17:29 metrics.py:161] Avg prompt throughput: 0.0 tokens/s, Avg generation throughput: 0.0 tokens/s, Running: 0 reqs, Swapped: 0 reqs, Pending: 0 reqs, GPU KV cache usage: 0.0%, CPU KV cache usage: 0.0%\n",
            "INFO 02-26 12:17:39 metrics.py:161] Avg prompt throughput: 0.0 tokens/s, Avg generation throughput: 0.0 tokens/s, Running: 0 reqs, Swapped: 0 reqs, Pending: 0 reqs, GPU KV cache usage: 0.0%, CPU KV cache usage: 0.0%\n",
            "INFO 02-26 12:17:49 metrics.py:161] Avg prompt throughput: 0.0 tokens/s, Avg generation throughput: 0.0 tokens/s, Running: 0 reqs, Swapped: 0 reqs, Pending: 0 reqs, GPU KV cache usage: 0.0%, CPU KV cache usage: 0.0%\n",
            "INFO 02-26 12:17:59 metrics.py:161] Avg prompt throughput: 0.0 tokens/s, Avg generation throughput: 0.0 tokens/s, Running: 0 reqs, Swapped: 0 reqs, Pending: 0 reqs, GPU KV cache usage: 0.0%, CPU KV cache usage: 0.0%\n",
            "INFO 02-26 12:18:09 metrics.py:161] Avg prompt throughput: 0.0 tokens/s, Avg generation throughput: 0.0 tokens/s, Running: 0 reqs, Swapped: 0 reqs, Pending: 0 reqs, GPU KV cache usage: 0.0%, CPU KV cache usage: 0.0%\n",
            "INFO 02-26 12:18:19 metrics.py:161] Avg prompt throughput: 0.0 tokens/s, Avg generation throughput: 0.0 tokens/s, Running: 0 reqs, Swapped: 0 reqs, Pending: 0 reqs, GPU KV cache usage: 0.0%, CPU KV cache usage: 0.0%\n",
            "INFO 02-26 12:18:29 metrics.py:161] Avg prompt throughput: 0.0 tokens/s, Avg generation throughput: 0.0 tokens/s, Running: 0 reqs, Swapped: 0 reqs, Pending: 0 reqs, GPU KV cache usage: 0.0%, CPU KV cache usage: 0.0%\n",
            "INFO 02-26 12:18:39 metrics.py:161] Avg prompt throughput: 0.0 tokens/s, Avg generation throughput: 0.0 tokens/s, Running: 0 reqs, Swapped: 0 reqs, Pending: 0 reqs, GPU KV cache usage: 0.0%, CPU KV cache usage: 0.0%\n",
            "INFO 02-26 12:18:49 metrics.py:161] Avg prompt throughput: 0.0 tokens/s, Avg generation throughput: 0.0 tokens/s, Running: 0 reqs, Swapped: 0 reqs, Pending: 0 reqs, GPU KV cache usage: 0.0%, CPU KV cache usage: 0.0%\n",
            "INFO 02-26 12:18:59 metrics.py:161] Avg prompt throughput: 0.0 tokens/s, Avg generation throughput: 0.0 tokens/s, Running: 0 reqs, Swapped: 0 reqs, Pending: 0 reqs, GPU KV cache usage: 0.0%, CPU KV cache usage: 0.0%\n"
          ]
        }
      ]
    },
    {
      "cell_type": "code",
      "source": [
        "# Once the server is up and running, this should work\n",
        "!curl http://localhost:8000/v1/models"
      ],
      "metadata": {
        "colab": {
          "base_uri": "https://localhost:8080/"
        },
        "id": "CXH6ULj6yZBF",
        "outputId": "b4a770c8-a5d1-4084-aa3f-159faf4fdff8"
      },
      "execution_count": 12,
      "outputs": [
        {
          "output_type": "stream",
          "name": "stdout",
          "text": [
            "{\"object\":\"list\",\"data\":[{\"id\":\"TheBloke/dolphin-2.6-mistral-7B-dpo-laser-AWQ\",\"object\":\"model\",\"created\":1708949943,\"owned_by\":\"vllm\",\"root\":\"TheBloke/dolphin-2.6-mistral-7B-dpo-laser-AWQ\",\"parent\":null,\"permission\":[{\"id\":\"modelperm-da2e39ff6119457a829dd7b8a1c141d6\",\"object\":\"model_permission\",\"created\":1708949943,\"allow_create_engine\":false,\"allow_sampling\":true,\"allow_logprobs\":true,\"allow_search_indices\":false,\"allow_view\":true,\"allow_fine_tuning\":false,\"organization\":\"*\",\"group\":null,\"is_blocking\":false}]}]}"
          ]
        }
      ]
    },
    {
      "cell_type": "markdown",
      "source": [
        "# DSPy: 𝗗eclarative 𝗦elf-improving Language 𝗣rograms"
      ],
      "metadata": {
        "id": "CgHqg5za5CZb"
      }
    },
    {
      "cell_type": "code",
      "source": [
        "import dspy\n",
        "from dspy.evaluate import Evaluate\n",
        "from dspy.teleprompt import BootstrapFewShot, BootstrapFewShotWithRandomSearch, BootstrapFinetune"
      ],
      "metadata": {
        "id": "-k-t4RSfv-Ur"
      },
      "execution_count": 13,
      "outputs": []
    },
    {
      "cell_type": "code",
      "source": [
        "lm = dspy.HFClientVLLM(model=\"TheBloke/dolphin-2.6-mistral-7B-dpo-laser-AWQ\", port=8000, url=\"http://localhost\")\n",
        "\n",
        "dspy.settings.configure(lm=lm)"
      ],
      "metadata": {
        "id": "YwdocZAzwCnt"
      },
      "execution_count": 14,
      "outputs": []
    },
    {
      "cell_type": "code",
      "source": [
        "predict = dspy.Predict('question -> answer')\n",
        "\n",
        "predict(question=\"What is the capital of Germany?\")"
      ],
      "metadata": {
        "colab": {
          "base_uri": "https://localhost:8080/"
        },
        "id": "Qxd3VncpwSa3",
        "outputId": "93daa866-77b5-4acd-ea37-15acd215f772"
      },
      "execution_count": 15,
      "outputs": [
        {
          "output_type": "execute_result",
          "data": {
            "text/plain": [
              "Prediction(\n",
              "    answer='Berlin'\n",
              ")"
            ]
          },
          "metadata": {},
          "execution_count": 15
        }
      ]
    },
    {
      "cell_type": "markdown",
      "source": [
        "# **DSPY.SIGNATURES**"
      ],
      "metadata": {
        "id": "mTA66FtKTFCx"
      }
    },
    {
      "cell_type": "code",
      "source": [
        "class GMCPQ(dspy.Signature):\n",
        "  \"\"\" How would you rate the doctor at the following criteria, on a 5 point scale. Poor Less than Satisfactory Satisfactory Good Very Good Cannot rate / Does not apply\"\"\"\n",
        "\n",
        "conversation= dspy.InputField(desc=\"conversation between doctor and patient\")\n",
        "#context= dspy.InputField(desc=\"Criteria: Being polite\")\n",
        "ratings= dspy.OutputField(desc=\"\"\"ratings of doctor on criteria: being polite\"\"\")\n"
      ],
      "metadata": {
        "id": "ntssH5efTEVu"
      },
      "execution_count": 53,
      "outputs": []
    },
    {
      "cell_type": "code",
      "source": [
        "Being polite;\n",
        "Making you feel at ease;\n",
        " Listening to you;\n",
        "Assessing your medical condition;\n",
        "Explaining your condition and treatment;\n",
        "Involving you in decisions about your treatment;\n",
        "Providing or arranging treatment for you"
      ],
      "metadata": {
        "id": "G0kMphdsYB3W"
      },
      "execution_count": null,
      "outputs": []
    },
    {
      "cell_type": "code",
      "source": [
        "convo=\"\"\"Patient – Good afternoon, Doctor.\n",
        "\n",
        "Doctor – Good afternoon, Mr. Bose. How are you?\n",
        "\n",
        "Patient – I’m doing good, doctor, but my daughter isn’t doing well. Everywhere, people are getting affected with COVID and I am really worried about her.\n",
        "\n",
        "Doctor – Please have a seat and tell me what happened.\n",
        "\n",
        "Patient – Last week, my daughter came back from Pune as her college was closed on account of COVID. From the second day, she has had high fever and has been coughing badly. I think that she has contracted the virus on her way home.\n",
        "\n",
        "Doctor – Okay, I understand your concern. Having a fever and cough doesn’t necessarily mean that someone has contracted the virus. These are symptoms of common cold too. The change in the temperature of the atmosphere could have triggered these symptoms. Still, to put your worries to rest, I am prescribing some medicines and an RT PCR test. Do the test by tomorrow, and if the test results are positive, make sure she is isolated. On the other hand, if the result is negative, just give her the medicine and ask her to drink a lot of water. Also, bring her in so I could examine her.\n",
        "\n",
        "Patient – Okay, doctor. I will bring her in the evening. Thank you.\n",
        "\n",
        "Doctor – You are welcome.\"\"\""
      ],
      "metadata": {
        "id": "NXEiiw2SW9cu"
      },
      "execution_count": 54,
      "outputs": []
    },
    {
      "cell_type": "code",
      "source": [
        "judge = dspy.ChainOfThought(signature=GMCPQ, )\n",
        "judge(conversation=convo)"
      ],
      "metadata": {
        "colab": {
          "base_uri": "https://localhost:8080/",
          "height": 280
        },
        "id": "47xjZmliZvbJ",
        "outputId": "7e69f6a1-e37f-40e1-e4c3-42d00dcaf18f"
      },
      "execution_count": 56,
      "outputs": [
        {
          "output_type": "error",
          "ename": "ValueError",
          "evalue": "not enough values to unpack (expected at least 1, got 0)",
          "traceback": [
            "\u001b[0;31m---------------------------------------------------------------------------\u001b[0m",
            "\u001b[0;31mValueError\u001b[0m                                Traceback (most recent call last)",
            "\u001b[0;32m<ipython-input-56-85f9acb8b0da>\u001b[0m in \u001b[0;36m<cell line: 1>\u001b[0;34m()\u001b[0m\n\u001b[0;32m----> 1\u001b[0;31m \u001b[0mjudge\u001b[0m \u001b[0;34m=\u001b[0m \u001b[0mdspy\u001b[0m\u001b[0;34m.\u001b[0m\u001b[0mChainOfThought\u001b[0m\u001b[0;34m(\u001b[0m\u001b[0msignature\u001b[0m\u001b[0;34m=\u001b[0m\u001b[0mGMCPQ\u001b[0m\u001b[0;34m)\u001b[0m\u001b[0;34m\u001b[0m\u001b[0;34m\u001b[0m\u001b[0m\n\u001b[0m\u001b[1;32m      2\u001b[0m \u001b[0mjudge\u001b[0m\u001b[0;34m(\u001b[0m\u001b[0mconversation\u001b[0m\u001b[0;34m=\u001b[0m\u001b[0mconvo\u001b[0m\u001b[0;34m)\u001b[0m\u001b[0;34m\u001b[0m\u001b[0;34m\u001b[0m\u001b[0m\n",
            "\u001b[0;32m/usr/local/lib/python3.10/dist-packages/dspy/predict/chain_of_thought.py\u001b[0m in \u001b[0;36m__init__\u001b[0;34m(self, signature, rationale_type, activated, **config)\u001b[0m\n\u001b[1;32m     36\u001b[0m \u001b[0;34m\u001b[0m\u001b[0m\n\u001b[1;32m     37\u001b[0m         \u001b[0msignature\u001b[0m \u001b[0;34m=\u001b[0m \u001b[0mensure_signature\u001b[0m\u001b[0;34m(\u001b[0m\u001b[0mself\u001b[0m\u001b[0;34m.\u001b[0m\u001b[0msignature\u001b[0m\u001b[0;34m)\u001b[0m\u001b[0;34m\u001b[0m\u001b[0;34m\u001b[0m\u001b[0m\n\u001b[0;32m---> 38\u001b[0;31m         \u001b[0;34m*\u001b[0m\u001b[0m_keys\u001b[0m\u001b[0;34m,\u001b[0m \u001b[0mlast_key\u001b[0m \u001b[0;34m=\u001b[0m \u001b[0msignature\u001b[0m\u001b[0;34m.\u001b[0m\u001b[0moutput_fields\u001b[0m\u001b[0;34m.\u001b[0m\u001b[0mkeys\u001b[0m\u001b[0;34m(\u001b[0m\u001b[0;34m)\u001b[0m\u001b[0;34m\u001b[0m\u001b[0;34m\u001b[0m\u001b[0m\n\u001b[0m\u001b[1;32m     39\u001b[0m \u001b[0;34m\u001b[0m\u001b[0m\n\u001b[1;32m     40\u001b[0m         rationale_type = rationale_type or dspy.OutputField(\n",
            "\u001b[0;31mValueError\u001b[0m: not enough values to unpack (expected at least 1, got 0)"
          ]
        }
      ]
    },
    {
      "cell_type": "code",
      "source": [
        "class search_retrieval(dspy.Signature):\n",
        "  \"\"\"What are the specific patient demographics/symptoms/management plan for the condition\"\"\"\n",
        "\n",
        "condition = dspy.InputField(desc=“medical condition”)\n",
        "passage=dspy.OutputField(desc=”a passage including specific patient demographics/symptoms/management plan”)\n"
      ],
      "metadata": {
        "id": "P8JDli3VeysD"
      },
      "execution_count": null,
      "outputs": []
    },
    {
      "cell_type": "markdown",
      "source": [
        "#Search Retrieval"
      ],
      "metadata": {
        "id": "DWlVl4SvfZJd"
      }
    },
    {
      "cell_type": "markdown",
      "source": [
        "`What are the specific patient demographics/symptoms/management plan for the condition [Condition]?`"
      ],
      "metadata": {
        "id": "dilW49zXhywe"
      }
    },
    {
      "cell_type": "code",
      "source": [
        "\"\"\"What are the specific patient demographics/symptoms/management plan for the condition?\"\"\"\n",
        "#INPUT\n",
        "condition = dspy.InputField(desc=\"medical condition\")\n",
        "\n",
        "#OUTPUT\n",
        "passage=dspy.OutputField(desc=\"a passage including specific patient demographics/symptoms/management plan\")"
      ],
      "metadata": {
        "id": "LSvZHZSVfam9"
      },
      "execution_count": null,
      "outputs": []
    },
    {
      "cell_type": "markdown",
      "source": [
        "#Passage Filtering Template"
      ],
      "metadata": {
        "id": "2HVmu5y7f2XF"
      }
    },
    {
      "cell_type": "markdown",
      "source": [
        "\n",
        "\n",
        "```\n",
        "For the clinical condition, [Condition], is the following a good description of common demographics/symptoms/management plans (Yes/No)?\n",
        "Description: [Retrieved Passage]\n",
        "Answer (Yes/No):\n",
        "```\n",
        "\n"
      ],
      "metadata": {
        "id": "DPSyrrHQhtu0"
      }
    },
    {
      "cell_type": "code",
      "source": [
        "\"\"\"For the clinical condition, is the following a good description of common demographics/symptoms/management plans (Yes/No)?\"\"\"\n",
        "#INPUT\n",
        "condition = dspy.InputField(desc=\"medical condition\")\n",
        "passage=dspy.InputField(desc=\"a passage including specific patient demographics/symptoms/management plan\")\n",
        "\n",
        "#OUTPUT\n",
        "is_good = dspy.OutputField(desc=\"Yes/No\")"
      ],
      "metadata": {
        "id": "ON8q7ywLf1xW"
      },
      "execution_count": null,
      "outputs": []
    },
    {
      "cell_type": "markdown",
      "source": [
        "#Vignette Generation Template\n"
      ],
      "metadata": {
        "id": "zU7VHisNiCU2"
      }
    },
    {
      "cell_type": "markdown",
      "source": [
        "\n",
        "\n",
        "```\n",
        "The following are several passages about the demographics, symptoms, and management plan for a given condition. Generate 2 different patient vignettes consistent with these passages. Follow the format of the given example (just list N/A if a particular field is unavailable).\n",
        "Condition: [Condition]\n",
        "Demographic Passages: [Retrieved Demographic Passages]\n",
        "Symptoms Passages: [Retrieved Symptom Passages]\n",
        "Management Plan Passages: [Retrieved Management Plan Passages]\n",
        "Example Format: [Oneshot example]\n",
        "Patient Vignettes for [Condition]:\n",
        "```\n",
        "\n"
      ],
      "metadata": {
        "id": "i3u4KGUZiKIT"
      }
    },
    {
      "cell_type": "code",
      "source": [
        "\"\"\"The following are several passages about the demographics, symptoms, and management plan for a given condition. Generate 2 different patient vignettes consistent with these passages. Follow the format of the given example (just list N/A if a particular field is unavailable)\"\"\"\n",
        "#INPUT\n",
        "condition = dspy.InputField(desc=\"medical condition\")\n",
        "\n",
        "demographic_passages= dspy.InputField(desc=\"[Retrieved Demographic Passages]\")\n",
        "\n",
        "symptom_passages= dspy.InputField(desc=\"[Retrieved Symptom Passages]\")\n",
        "\n",
        "management_passages= dspy.InputField(desc=\"[Retrieved Management Passages]\")\n",
        "\n",
        "example = dspy.InputField(desc=\"[Oneshot example]\")\n",
        "\n",
        "#OUTPUT\n",
        "vignette=dspy.OutputField(desc=\"2 different patient Vignettes for [MedicalCondition]:)\")\n"
      ],
      "metadata": {
        "id": "VEWDE5w_ifSG"
      },
      "execution_count": null,
      "outputs": []
    },
    {
      "cell_type": "markdown",
      "source": [
        "# Patient Agent"
      ],
      "metadata": {
        "id": "PwZbSnjfmmCf"
      }
    },
    {
      "cell_type": "markdown",
      "source": [
        "\n",
        "\n",
        "```\n",
        "You are a patient chatting with a doctor over an online chat interface. The doctor has never met you before. <patient vignette> Respond to the doctor's questions honestly as they interview you, asking any questions that may come up.\n",
        "```\n",
        "\n"
      ],
      "metadata": {
        "id": "NjOwxO6gmoQS"
      }
    },
    {
      "cell_type": "code",
      "source": [
        "\"\"\"You are a patient chatting with a doctor over an online chat interface. The doctor has never met you before. <patient vignette> Respond to the doctor's questions honestly as they interview you, asking any questions that may come up.\"\"\"\n",
        "\n",
        "#INPUT\n",
        "vignette=dspy.InputField(desc=\"patient vignette\")\n",
        "\n",
        "doctors_question=dspy.InputField(desc=\"doctor's question\")\n",
        "\n",
        "#OUTPUT\n",
        "patients_response=dspy.OutputField(desc=\"Response to the doctor's questions, along with any questions that may come up.\")\n",
        "\n",
        "\n",
        "#ALTERNATIVE OUTPUT\n",
        "patients_response=dspy.OutputField(desc=\"Response to the doctor's questions.\")\n",
        "patients_question=dspy.OutputField(desc=\"Any questions that may come up.\")"
      ],
      "metadata": {
        "id": "JWoRuxZkmh-S"
      },
      "execution_count": null,
      "outputs": []
    },
    {
      "cell_type": "markdown",
      "source": [
        "# Doctor Agent"
      ],
      "metadata": {
        "id": "Rq7BXR3Tr-T_"
      }
    },
    {
      "cell_type": "markdown",
      "source": [
        "`You are an empathetic clinician asking a patient about their medical history over an online chat interface. You know nothing about the patient in advance. Respond to the patient with a single-turn response to better understand their history and symptoms. Do not ask more than two questions. If the patient asks a question, be sure to answer it appropriately.`"
      ],
      "metadata": {
        "id": "2rU1d5ZesBuH"
      }
    },
    {
      "cell_type": "code",
      "source": [
        "\"\"\"You are an empathetic clinician asking a patient about their medical history over an online chat interface. You know nothing about the patient in advance. Respond to the patient with a single-turn response to better understand their history and symptoms. Do not ask more than two questions. If the patient asks a question, be sure to answer it appropriately.\"\"\"\n",
        "\n",
        "#INPUT\n",
        "patients_response=dspy.InputField(desc=\"patient's response\")\n",
        "\n",
        "#OUTPUT\n",
        "doctors_response=dspy.OutputField(desc=\"Response to the patient's questions, along with any questions that may come up.\")\n",
        "\n",
        "\n",
        "#ALTERNATIVE OUTPUT\n",
        "response=dspy.OutputField(desc=\"Response to the patient's questions.\")\n",
        "doctors_question=dspy.OutputField(desc=\"Any questions that may come up. Do not ask more than 2 questions.\")\n",
        "\n",
        "\n",
        "#ASSERT SUGGEST\n",
        "\"\"\"Respond to the patient with a single-turn response to better understand their history and symptoms.\n",
        "Do not ask more than two questions.\"\"\""
      ],
      "metadata": {
        "id": "V449Aav7q_RP"
      },
      "execution_count": null,
      "outputs": []
    },
    {
      "cell_type": "markdown",
      "source": [
        "Self Play Critic"
      ],
      "metadata": {
        "id": "lTPDZNO0wp3P"
      }
    },
    {
      "cell_type": "code",
      "source": [
        "\"\"\" Act as a critic aware of the ground truth diagnosis, to provide in-context feedback to the doctor agent for selfimprovement which can enhance its performance\"\"\"\n",
        "#INPUT\n",
        "\n",
        "ground_truth=dspy.InputField(desc=\"ground truth\")\n",
        "preeceding_conversation=dspy.InputField(desc=\"preeceding conversation\")\n",
        "doctors_response=dspy.InputField(desc=\"doctor's response\")\n",
        "\n",
        "#OUTPUT\n",
        "empathy = dspy.OutputField(desc=\"\"\"Rating(0 to 5) of the doctor's response based on if the doctor agent exhibits empathy and professionalism while addressing the patient’s latest questions or comments in a concise manner.\n",
        "0: Complete lack of empathy and professionalism, responses are dismissive or unhelpful.\n",
        "1: Minimal empathy and professionalism, responses are brief and lack warmth or understanding.\n",
        "2: Some empathy and professionalism, responses are moderately concise but lack depth or personalization.\n",
        "3: Good empathy and professionalism, responses are sufficiently concise and demonstrate understanding.\n",
        "4: High level of empathy and professionalism, responses are very concise yet convey genuine concern and understanding.\n",
        "5: Excellent empathy and professionalism, responses are exceptionally concise, demonstrating deep empathy and professionalism.\"\"\")\n",
        "\n",
        "repititve_questions=dspy.OutputField(desc=\"\"\"The doctor avoids asking too many or repetitive questions (about information already acquired), focusing on a maximum of one or two questions per response.(Yes/No)\"\"\")\n",
        "\n",
        "flow_naturally=dspy.OutputField(desc=\"\"\"Rating(0 to 5) of the doctor's response on the follwing criteria: Flows naturally and consistently, with or without interruptions.\n",
        "0: Responses consistently feel disjointed and unnatural, making conversation difficult.\n",
        "1: Responses often feel forced or robotic, disrupting the natural flow of conversation.\n",
        "2: Responses sometimes flow naturally, but noticeable awkwardness or stiffness hampers the interaction.\n",
        "3: Responses generally flow naturally, allowing for smooth conversation with occasional minor disruptions.\n",
        "4: Responses mostly flow naturally, resembling human conversation with minimal interruptions or awkwardness.\n",
        "5: Responses seamlessly flow naturally, mirroring human conversation perfectly, enhancing engagement.\"\"\")\n",
        "\n",
        "factual_accuracy=dspy.OutputField(desc=\"\"\"Rating(0 to 5) of the doctor's response on the follwing criteria: Maintain Factual Accuracy.\n",
        "0: Responses frequently contain significant inaccuracies or misinformation.\n",
        "1: Responses often provide inaccurate or misleading information.\n",
        "2: Responses occasionally contain factual errors, undermining trust and reliability.\n",
        "3: Responses generally maintain factual accuracy, with occasional minor inaccuracies.\n",
        "4: Responses mostly provide accurate information, enhancing trust and reliability.\n",
        "5: Responses consistently maintain impeccable factual accuracy, instilling confidence in the information provided.\"\"\")\n",
        "\n",
        "further_engagement=dspy.OutputField(desc=\"\"\"Rating(0 to 5) of the doctor's response on the follwing criteria: Facilitate Further Engagement from the Patient.\n",
        "0: Responses consistently fail to encourage further interaction or engagement.\n",
        "1: Responses often do not prompt further engagement or participation from the patient.\n",
        "2: Responses occasionally prompt further interaction but lack effectiveness in engaging the patient.\n",
        "3: Responses generally encourage further engagement, fostering continued interaction from the patient.\n",
        "4: Responses effectively facilitate further engagement, prompting meaningful interaction from the patient.\n",
        "5: Responses consistently and skillfully encourage ongoing engagement, maximizing patient participation and interaction..\"\"\")\n",
        "\n",
        "\n"
      ],
      "metadata": {
        "id": "C2MzBrxct1VF"
      },
      "execution_count": null,
      "outputs": []
    },
    {
      "cell_type": "markdown",
      "source": [
        "# Moderator Agent"
      ],
      "metadata": {
        "id": "hoi51ndJsu3J"
      }
    },
    {
      "cell_type": "markdown",
      "source": [
        "\n",
        "\n",
        "```\n",
        "The following is a conversation between a doctor and a patient: <dialog> The conversation should only come to an end if the doctor has finished giving the patient a diagnosis and treatment plan and the patient has no questions left. A conversation also comes to an end if the doctor or patient says goodbye.\n",
        "Question: has the conversation come to an end? Yes or No.\n",
        "```\n",
        "\n",
        "\n",
        "\n",
        "\n",
        "\n"
      ],
      "metadata": {
        "id": "yJTyPAads2VL"
      }
    },
    {
      "cell_type": "code",
      "source": [
        "\"\"\"You're acting as a moderator for a conversation between a doctor and a patient. The conversation should only come to an end if the doctor has finished giving the patient a diagnosis and treatment plan and the patient has no questions left. A conversation also comes to an end if the doctor or patient says goodbye.\"\"\"\n",
        "#INPUT\n",
        "conversation=dspy.InputField(desc=\"conversation between a doctor and a patient\")\n",
        "\n",
        "#OUTPUT\n",
        "end_of_conversation=dspy.OutputField(desc=\"Yes or No\")"
      ],
      "metadata": {
        "id": "iOYyUbBJsuZJ"
      },
      "execution_count": null,
      "outputs": []
    },
    {
      "cell_type": "markdown",
      "source": [
        "# Chain of Reasoning For Inference"
      ],
      "metadata": {
        "id": "-B4bLerKuq_c"
      }
    },
    {
      "cell_type": "markdown",
      "source": [
        "\n",
        "\n",
        "```\n",
        "1. Analyzing patient information: Given the current conversation history, AMIE was instructed to\n",
        "1)\n",
        "summarize the positive and negative symptoms of the patient as well as any relevant medical/family/social\n",
        "history and demographic information,\n",
        "2) produce a current differential diagnosis,\n",
        "3) note missing\n",
        "information needed for a more accurate diagnosis and\n",
        "4) assess confidence in the current differential and\n",
        "highlight its urgency.\n",
        "2. Formulating response and action: Building upon the conversation history and the output of step 1, AMIE performed the following:\n",
        "1) Generate a response to the patient’s last message and formulate\n",
        "further questions to acquire missing information and refine the differential diagnosis.\n",
        "2) If necessary,\n",
        "recommend immediate action, such as an emergency room visit. If confident in the diagnosis based on\n",
        "available information, present the differential.\n",
        "3. Refining the response: AMIE revises its previous output to meet specific criteria based on the\n",
        "conversation history and outputs from earlier steps. The criteria are primarily related to factuality and\n",
        "formatting of the response (e.g., avoid factual inaccuracies on patient facts and unnecessary repetition,\n",
        "show empathy, and display in a clear format).\n",
        "\n",
        "```\n",
        "\n"
      ],
      "metadata": {
        "id": "SOBc9lhfu6J3"
      }
    },
    {
      "cell_type": "markdown",
      "source": [
        "Patient Vignette through conversation."
      ],
      "metadata": {
        "id": "12w1G-iH1mN7"
      }
    },
    {
      "cell_type": "code",
      "source": [
        "\"\"\"Summarize the positive and negative symptoms of the patient as well as any relevant medical/family/socialhistory and demographic information\"\"\"\n",
        "#INPUT\n",
        "conversation=dspy.InputField(desc=\"conversation between a doctor and a patient\")\n",
        "\n",
        "#OUTPUT\n",
        "summarized_symptoms=dspy.OutputField(desc=\"patient vignette\")"
      ],
      "metadata": {
        "id": "dx-mmHs0tx60"
      },
      "execution_count": null,
      "outputs": []
    },
    {
      "cell_type": "markdown",
      "source": [
        "DDx"
      ],
      "metadata": {
        "id": "A1jc9N3-1rA3"
      }
    },
    {
      "cell_type": "code",
      "source": [
        "current_ddx=dspy.OutputField(desc=\"differntial diagnosis based upon the given patient vignette\")"
      ],
      "metadata": {
        "id": "rcCX4RKTwa5A"
      },
      "execution_count": null,
      "outputs": []
    },
    {
      "cell_type": "markdown",
      "source": [
        "Missing Information"
      ],
      "metadata": {
        "id": "hWfTsIci1tLt"
      }
    },
    {
      "cell_type": "code",
      "source": [
        "missing_information=dspy.OutputField(desc=\"missing information needed for a more accurate diagnosis\")"
      ],
      "metadata": {
        "id": "eU1dTTnUzoZI"
      },
      "execution_count": null,
      "outputs": []
    },
    {
      "cell_type": "markdown",
      "source": [
        "Confidence in Diagnosis and Urgency"
      ],
      "metadata": {
        "id": "9aVqAN3G1vdR"
      }
    },
    {
      "cell_type": "code",
      "source": [
        "confidence=dspy.OutputField(desc=\"\"\"Assess confidence in the given diagnosis. Based upon this scale, provide a rating from 0 to 5.\n",
        "\n",
        "0: No confidence - There is no confidence in any of the provided potential diagnoses.\n",
        "1: Very low confidence - There is minimal confidence in the provided potential diagnoses, with significant uncertainty.\n",
        "2: Low confidence - There is some confidence in the provided potential diagnoses, but with notable reservations or uncertainty.\n",
        "3: Moderate confidence - There is moderate confidence in the provided potential diagnoses, with a reasonable level of certainty.\n",
        "4: High confidence - There is high confidence in the provided potential diagnoses, with strong conviction and minimal doubt.\n",
        "5: Very high confidence - There is very high confidence in the provided potential diagnoses, with unwavering certainty and strong supporting evidence.\"\"\")\n",
        "\n",
        "urgency=dspy.OutputField(desc=\"\"\"Assess urgency of the given diagnosis. Rate as Yes if the patient is seeking urgent care. Yes/No\"\"\")"
      ],
      "metadata": {
        "id": "eT7F7zSy1jXX"
      },
      "execution_count": null,
      "outputs": []
    },
    {
      "cell_type": "markdown",
      "source": [
        "Formulating response and action"
      ],
      "metadata": {
        "id": "P6fAE_L518P2"
      }
    },
    {
      "cell_type": "code",
      "source": [
        "\"\"\"Generate a response to the patient’s last message and formulate\n",
        "further questions to acquire missing information and refine the differential diagnosis.\"\"\"\n",
        "\n",
        "#INPUT\n",
        "conversation=dspy.InputField(desc=\"conversation between a doctor and a patient\")\n",
        "ddx=dspy.InputField(desc=\"differential diagnosis based upon the given patient vignette\")\n",
        "missing_information=dspy.InputField(desc=\"missing information needed for a more accurate diagnosis\")\n",
        "urgency=dspy.InputField(desc=\"\"\"Assess urgency of the given diagnosis. Rate as Yes if the patient is seeking urgent care. Yes/No\"\"\")\n",
        "\n",
        "#OUTPUT\n",
        "response=dspy.OutputField(desc=\"\"\"Response to the patient's last message along with further questions,\n",
        "If necessary, recommend immediate action, such as an emergency room visit.\n",
        "If confident in the diagnosis based on available information, present the differential.\"\"\")"
      ],
      "metadata": {
        "id": "jcBq80Mu18u8"
      },
      "execution_count": null,
      "outputs": []
    },
    {
      "cell_type": "markdown",
      "source": [
        "Refining the response(RECHECK)"
      ],
      "metadata": {
        "id": "U3Jf6-N73m_2"
      }
    },
    {
      "cell_type": "code",
      "source": [
        "\"\"\"Refine the response conditioned on the current conversation to arrive at an informed and grounded reply. Avoid factual inaccuracies on patient facts and unnecessary repetition, while showing empathy, and display in a clear format\"\"\"\n",
        "#INPUT\n",
        "conversation=dspy.InputField(desc=\"conversation between a doctor and a patient\")\n",
        "response=dspy.InputField(desc=\"response to the patient's last message\")\n",
        "\n",
        "#OUTPUT\n",
        "refined_response=dspy.OutputField(desc=\"\"\"Refined response to the patient's last message along with further questions if required.\"\"\")"
      ],
      "metadata": {
        "id": "3ywabOPc2m5y"
      },
      "execution_count": null,
      "outputs": []
    },
    {
      "cell_type": "markdown",
      "source": [
        "# GMCPQ"
      ],
      "metadata": {
        "id": "Af66raDG43w5"
      }
    },
    {
      "cell_type": "markdown",
      "source": [
        "Assessed by Patient Actor"
      ],
      "metadata": {
        "id": "cBQbMT-L6Du1"
      }
    },
    {
      "cell_type": "code",
      "source": [
        "\"\"\"You're supposed to answer as the patient in this conversation. How would you rate the doctor at the given criteria:\"\"\"\n",
        "\n",
        "#INPUT\n",
        "conversation=dspy.InputField(desc=\"conversation between a doctor and a patient\")\n",
        "\n",
        "\n",
        "#Being Polite\n",
        "dspy.InputField(desc=\"\"\"Criteria: Being Polite.\"\"\")\n",
        "\n",
        "#Making you feel at ease\n",
        "dspy.InputField(desc=\"\"\"Criteria:Making you feel at ease.\"\"\")\n",
        "\n",
        "#Listening to you\n",
        "dspy.InputField(desc=\"\"\"Criteria: Listening to you.\"\"\")\n",
        "\n",
        "#Assessing your medical condition\n",
        "dspy.InputField(desc=\"\"\"Criteria: Assessing your medical condition.\"\"\")\n",
        "\n",
        "#Explaining your condition and treatment\n",
        "dspy.InputField(desc=\"\"\" Criteria: Explaining your condition and treatment.\"\"\")\n",
        "\n",
        "#Involving you in decisions about your treatment\n",
        "dspy.InputField(desc=\"\"\"Criteria: Involving you in decisions about your treatment.\"\"\")\n",
        "\n",
        "#Reassuring you of your medical condition\n",
        "dspy.InputField(desc=\"\"\"Criteria: Reassuring you of your medical condition.\"\"\")\n",
        "\n",
        "#Providing or arranging treatment for you\n",
        "dspy.InputField(desc=\"\"\"Criteria: Providing or arranging treatment for you.\"\"\")\n",
        "\n",
        "\n",
        "#OUTPUT RATING\n",
        "dspy.OutputField(desc=\"\"\" Rating based on a 5 point scale for the given criteria:\n",
        "0:Cannot rate / Does not apply\n",
        "1:Poor,\n",
        "2:Less than Satisfactory,\n",
        "3:Satisfactory,\n",
        "4:Good,\n",
        "5:Very Good\n",
        "\"\"\")"
      ],
      "metadata": {
        "id": "P9s0fhPZ6TLK"
      },
      "execution_count": null,
      "outputs": []
    },
    {
      "cell_type": "code",
      "source": [
        "#This doctor will keep information about me confidential\n",
        "dspy.InputField(desc=\"How much do you agree with the following statement? This doctor will keep information about me confidential.\")\n",
        "dspy.OutputField(desc=\"\"\"Rating based on a 5 point scale:\n",
        "0:Cannot rate / Does not apply\n",
        "1:Strongly disagree\n",
        "2:Disagree\n",
        "3:Neutral\n",
        "4:Agree\n",
        "5:Strongly agree\"\"\")\n",
        "\n",
        "#This doctor is honest and trustworthy.\n",
        "dspy.InputField(desc=\"How much do you agree with the following statement? This doctor is honest and trustworthy.\")\n",
        "dspy.OutputField(desc=\"\"\"Rating based on a 5 point scale:\n",
        "0:Cannot rate / Does not apply\n",
        "1:Strongly disagree\n",
        "2:Disagree\n",
        "3:Neutral\n",
        "4:Agree\n",
        "5:Strongly agree\"\"\")\n",
        "\n",
        "#I am confident about this doctor's ability to provide care.\n",
        "dspy.InputField(desc=\"How much do you agree with the following statement? I am confident about this doctor's ability to provide care.\")\n",
        "dspy.OutputField(desc=\"\"\"Rating based on a binary scale:\n",
        "Cannot rate / Does not apply\n",
        "0:No\n",
        "1:Yes\"\"\")\n",
        "\n",
        "#I would be completely happy to see this doctor again.\n",
        "dspy.InputField(desc=\"How much do you agree with the following statement? I would be completely happy to see this doctor again.\")\n",
        "dspy.OutputField(desc=\"\"\"Rating based on a binary scale:\n",
        "Cannot rate / Does not apply\n",
        "0:No\n",
        "1:Yes\"\"\")"
      ],
      "metadata": {
        "id": "AKJZog-hC0hc"
      },
      "execution_count": null,
      "outputs": []
    },
    {
      "cell_type": "markdown",
      "source": [
        "# PACES"
      ],
      "metadata": {
        "id": "NsFNPfRaAQba"
      }
    },
    {
      "cell_type": "code",
      "source": [
        "\"\"\"You're supposed to answer as a specialist physician who is tasked to assess the doctor in this conversation. How would you rate the doctor at the given criteria on a scale of 0 to 5:\"\"\"\n",
        "\n",
        "#INPUT\n",
        "conversation=dspy.InputField(desc=\"conversation between a doctor and a patient\")\n",
        "\n",
        "#CRITERIA\n",
        "dspy.InputField(desc=\"Criteria:To what extent did the doctor elicit the PRESENTING COMPLAINT?\")\n",
        "\n",
        "dspy.InputField(desc=\"Criteria:To what extent did the doctor elicit the SYSTEMS REVIEW? \")\n",
        "\n",
        "dspy.InputField(desc=\"Criteria:To what extent did the doctor elicit the FAMILY HISTORY?\")\n",
        "\n",
        "dspy.InputField(desc=\"Criteria:To what extent did the doctor elicit the MEDICATION HISTORY?\")\n",
        "\n",
        "#OUTPUT\n",
        "\n",
        "dspy.OutputField(desc=\"\"\" Rating based on a 5 point scale for the given criteria:\n",
        "0: Cannot rate / Does not apply / Doctor did not perform this\n",
        "1: Appears unsystematic, unpracticed, and unprofessional\n",
        "2: Shows some effort but lacks thoroughness and fluency; displays occasional professionalism.\n",
        "3: Demonstrates moderate systematic approach and professionalism, though with some room for improvement.\n",
        "4: Exhibits a mostly systematic, fluent, and professional approach, with occasional minor lapses.\n",
        "5: Elicits the criteria in a thorough, systematic, fluent, and professional manner\n",
        "\n",
        "\"\"\")"
      ],
      "metadata": {
        "id": "UZf8swT_-UqQ"
      },
      "execution_count": null,
      "outputs": []
    },
    {
      "cell_type": "code",
      "source": [
        "#To what extent did the doctor explain relevant clinical information ACCURATELY?\n",
        "dspy.InputField(desc=\"Criteria:To what extent did the doctor explain relevant clinical information ACCURATELY?\")\n",
        "\n",
        "\n",
        "\n",
        "#OUTPUT\n",
        "\n",
        "dspy.OutputField(desc=\"\"\" Rating based on a 5 point scale for the given criteria:\n",
        "0: Cannot rate / Does not apply / Doctor did not perform this\n",
        "1: Gives inaccurate information\n",
        "2: Provides information with some inaccuracies or inconsistencies, requiring clarification.\n",
        "3: Offers generally accurate information but may have occasional errors or omissions.\n",
        "4: Presents mostly accurate information with few errors, demonstrating overall reliability.\n",
        "5: Explains relevant clinical information accurately and comprehensively.\n",
        "\"\"\")"
      ],
      "metadata": {
        "id": "RImnmarlGFQo"
      },
      "execution_count": null,
      "outputs": []
    },
    {
      "cell_type": "code",
      "source": [
        "#To what extent did the doctor explain relevant clinical information CLEARLY?\n",
        "\n",
        "#INPUT\n",
        "dspy.InputField(desc=\"Criteria:To what extent did the doctor explain relevant clinical information CLEARLY?\")\n",
        "\n",
        "\n",
        "\n",
        "#OUTPUT\n",
        "\n",
        "dspy.OutputField(desc=\"\"\"Rating based on a 5 point scale for the given criteria:\n",
        "0: Cannot rate / Does not apply / Doctor did not perform this\n",
        "1: Uses excessive jargon, impeding comprehension.\n",
        "2: Occasionally relies on jargon, causing some confusion but generally understandable.\n",
        "3: Balances jargon with clear explanations, promoting reasonable understanding.\n",
        "4: Rarely employs jargon, preferring clear language for effective communication.\n",
        "5: Provides clear and easily understandable explanations of relevant clinical information.\n",
        "\"\"\")"
      ],
      "metadata": {
        "id": "uy-mM7xyGnGT"
      },
      "execution_count": null,
      "outputs": []
    },
    {
      "cell_type": "code",
      "source": [
        "#To what extent did the doctor explain relevant clinical information WITH STRUCTURE?\n",
        "\n",
        "#INPUT\n",
        "dspy.InputField(desc=\"Criteria:To what extent did the doctor explain relevant clinical information WITH STRUCTURE?\")\n",
        "\n",
        "#OUTPUT\n",
        "dspy.OutputField(desc=\"\"\"Rating based on a 5 point scale for the given criteria:\n",
        "0:Cannot rate / Does not apply / Doctor did not perform this\n",
        "1:Explains relevant clinical information in a poorly structured manner, lacking coherence or organization.\n",
        "2:Provides some structure to the explanation but may be disorganized or lacking in clarity.\n",
        "3:Offers moderate structure to the explanation, with some organization but room for improvement.\n",
        "4:Presents clinical information in a structured manner, with clear organization facilitating understanding.\n",
        "5:Explains relevant clinical information in a highly structured manner, making it easy to follow and comprehend.\n",
        "\"\"\")"
      ],
      "metadata": {
        "id": "k9Tfkum4HT3Q"
      },
      "execution_count": null,
      "outputs": []
    },
    {
      "cell_type": "code",
      "source": [
        "#To what extent did the doctor explain relevant clinical information COMPREHENSIVELY?\n",
        "\n",
        "#INPUT\n",
        "dspy.InputField(desc=\"Criteria:To what extent did the doctor explain relevant clinical information WITH STRUCTURE?\")\n",
        "\n",
        "#OUTPUT\n",
        "dspy.OutputField(desc=\"\"\"Rating based on a 5 point scale for the given criteria:\n",
        "1: Omits important information, leaving significant gaps in understanding.\n",
        "2: Provides some relevant information but overlooks key details, reducing overall comprehensiveness.\n",
        "3: Offers moderate coverage of relevant clinical information, but may lack depth or thoroughness.\n",
        "4: Presents a comprehensive overview of relevant clinical information, addressing most important aspects.\n",
        "5: Explains relevant clinical information in a highly comprehensive manner, covering all pertinent details thoroughly.\n",
        "Cannot rate / Does not apply / Doctor did not perform this\n",
        "\"\"\")"
      ],
      "metadata": {
        "id": "wbrKC0ykINSG"
      },
      "execution_count": null,
      "outputs": []
    },
    {
      "cell_type": "code",
      "source": [
        "#To what extent did the doctor explain relevant clinical information PROFESSIONALLY?\n",
        "\n",
        "#INPUT\n",
        "dspy.InputField(desc=\"Criteria:To what extent did the doctor explain relevant clinical information PROFESSIONALLY?\")\n",
        "\n",
        "#OUTPUT\n",
        "dspy.OutputField(desc=\"\"\"Rating based on a 5 point scale for the given criteria:\n",
        "0:Cannot rate / Does not apply / Doctor did not perform this\n",
        "1: Explains relevant clinical information in an unprofessional manner\n",
        "2: Provides relevant clinical information with occasional unprofessionalism or lack of polish.\n",
        "3: Conveys relevant clinical information in a generally professional manner, with occasional minor lapses.\n",
        "4: Explains relevant clinical information in a consistently professional manner, demonstrating professionalism throughout.\n",
        "5: Consistently and adeptly explains relevant clinical information in a highly professional manner.\n",
        "\"\"\")"
      ],
      "metadata": {
        "id": "F_ljt9xoLpGr"
      },
      "execution_count": null,
      "outputs": []
    },
    {
      "cell_type": "markdown",
      "source": [
        "Differential Diagnosis"
      ],
      "metadata": {
        "id": "EqfzjopoL8y7"
      }
    },
    {
      "cell_type": "code",
      "source": [
        "#To what extent did the doctor select a comprehensive, sensible and appropriate MANAGEMENT PLAN?\n",
        "\n",
        "\n",
        "#INPUT\n",
        "dspy.InputField(desc=\"Criteria:To what extent did the doctor select a comprehensive, sensible and appropriate MANAGEMENT PLAN?\")\n",
        "\n",
        "#OUTPUT\n",
        "dspy.OutputField(desc=\"\"\"Rating based on a 5 point scale for the given criteria:\n",
        "0: Cannot rate / Does not apply / Doctor did not perform this\n",
        "1: Poor differential diagnosis AND fails to consider the correct diagnosis\n",
        "2: Constructs a differential diagnosis, but with notable gaps or inaccuracies, possibly missing the correct diagnosis.\n",
        "3: Develops a reasonably sensible differential diagnosis, though with some omissions or minor inaccuracies.\n",
        "4: Constructs a coherent and logical differential diagnosis, addressing most relevant possibilities, with minor inaccuracies.\n",
        "5: Constructs a sensible differential diagnosis, including the correct diagnosis among other relevant possibilities.\n",
        "\"\"\")\n"
      ],
      "metadata": {
        "id": "iJ_cvkOyL_t7"
      },
      "execution_count": null,
      "outputs": []
    },
    {
      "cell_type": "markdown",
      "source": [
        "Clinical Judgement\n"
      ],
      "metadata": {
        "id": "baehPrFyMbkY"
      }
    },
    {
      "cell_type": "code",
      "source": [
        "#To what extent did the doctor construct a sensible DIFFERENTIAL DIAGNOSIS?\n",
        "\n",
        "#INPUT\n",
        "dspy.InputField(desc=\"Criteria:To what extent did the doctor construct a sensible DIFFERENTIAL DIAGNOSIS?\")\n",
        "\n",
        "#OUTPUT\n",
        "dspy.OutputField(desc=\"\"\"Rating based on a 5 point scale for the given criteria:\n",
        "0: Cannot rate / Does not apply / Doctor did not perform this\n",
        "1: Unfamiliar with correct management plan AND selects inappropriate management\n",
        "2: Selects a management plan with significant gaps or inaccuracies, possibly inappropriate.\n",
        "3: Develops a management plan that is reasonably comprehensive and sensible, with some room for improvement.\n",
        "4: Constructs a coherent and logical management plan, addressing most relevant aspects, with minor inaccuracies.\n",
        "5: Selects a comprehensive, sensible, and appropriate management plan, demonstrating thorough understanding and application of best practices.\n",
        "\"\"\")\n"
      ],
      "metadata": {
        "id": "PGT9pZBuMcIk"
      },
      "execution_count": null,
      "outputs": []
    },
    {
      "cell_type": "markdown",
      "source": [
        "Managing Patient Concerns"
      ],
      "metadata": {
        "id": "nW2W7XxmMzqX"
      }
    },
    {
      "cell_type": "markdown",
      "source": [
        "Assessed By Specialist &\n",
        "Patient Actor"
      ],
      "metadata": {
        "id": "u4MekqE5NaAF"
      }
    },
    {
      "cell_type": "code",
      "source": [
        "#To what extent did the doctor seek, detect, acknowledge, and attempt to address the patient's concerns?\n",
        "\n",
        "#INPUT\n",
        "dspy.InputField(desc=\"Criteria: To what extent did the doctor seek, detect, acknowledge, and attempt to address the patient's concerns?\")\n",
        "\n",
        "#OUTPUT\n",
        "dspy.OutputField(desc=\"\"\"Rating based on a 5 point scale for the given criteria:\n",
        "0: Cannot rate / Does not apply / Doctor did not perform this\n",
        "1: Overlooks patient's concerns\n",
        "2: Shows minimal effort to address patient's concerns, with little acknowledgment or attempt at resolution.\n",
        "3: Acknowledges some patient concerns and makes an attempt to address them, but with room for improvement.\n",
        "4: Demonstrates a proactive approach in seeking, detecting, acknowledging, and attempting to address patient's concerns, with occasional minor oversights.\n",
        "5: Seeks, detects, acknowledges, and attempts to address patient's concerns comprehensively and effectively, fostering patient satisfaction and trust.\n",
        "\"\"\")\n"
      ],
      "metadata": {
        "id": "tQiLnebIM0Dm"
      },
      "execution_count": null,
      "outputs": []
    },
    {
      "cell_type": "code",
      "source": [
        "#To what extent did the doctor confirm the patient's knowledge and understanding?\n",
        "\n",
        "#INPUT\n",
        "dspy.InputField(desc=\"Criteria: To what extent did the doctor confirm the patient's knowledge and understanding?\")\n",
        "\n",
        "#OUTPUT\n",
        "dspy.OutputField(desc=\"\"\"Rating based on a 5 point scale for the given criteria:\n",
        "0: Cannot rate / Does not apply / Doctor did not perform this\n",
        "1: Does not check knowledge and understanding\n",
        "2: Makes minimal effort to confirm patient's knowledge and understanding, with limited effectiveness.\n",
        "3: Makes some attempt to confirm patient's knowledge and understanding, but with room for improvement.\n",
        "4: Demonstrates a satisfactory effort in confirming patient's knowledge and understanding, with occasional oversights.\n",
        "5: Confirms patient's knowledge and understanding effectively and comprehensively, ensuring clarity and comprehension.\n",
        "\"\"\")\n"
      ],
      "metadata": {
        "id": "V7YlOKBlM8p-"
      },
      "execution_count": null,
      "outputs": []
    },
    {
      "cell_type": "code",
      "source": [
        "#How empathic was the doctor?\n",
        "\n",
        "#INPUT\n",
        "dspy.InputField(desc=\"Criteria: How empathic was the doctor?\")\n",
        "\n",
        "#OUTPUT\n",
        "dspy.OutputField(desc=\"\"\"Rating based on a 5 point scale for the given criteria:\n",
        "0: Cannot rate / Does not apply / Doctor did not perform this\n",
        "1: Not at all empathic\n",
        "2: Shows minimal empathy, lacking in understanding or concern for patient's emotions.\n",
        "3: Demonstrates moderate empathy, displaying some understanding and acknowledgment of patient's emotions.\n",
        "4: Exhibits good empathy, showing genuine concern and understanding towards patient's emotions.\n",
        "5: Extremely empathic, displaying exceptional understanding, compassion, and sensitivity towards patient's emotions, fostering trust and rapport.\n",
        "\"\"\")\n"
      ],
      "metadata": {
        "id": "QEuKv5fYM_DL"
      },
      "execution_count": null,
      "outputs": []
    },
    {
      "cell_type": "markdown",
      "source": [
        "Maintaining Patient Welfare"
      ],
      "metadata": {
        "id": "Wq-dx_jhNGyu"
      }
    },
    {
      "cell_type": "markdown",
      "source": [
        "Assessed By Specialist &\n",
        "Patient Actor"
      ],
      "metadata": {
        "id": "VSIGY2wyNfYB"
      }
    },
    {
      "cell_type": "code",
      "source": [
        "#To what extent did the doctor maintain the patient's welfare?\n",
        "\n",
        "#INPUT\n",
        "dspy.InputField(desc=\"Criteria: To what extent did the doctor maintain the patient's welfare?\")\n",
        "\n",
        "#OUTPUT\n",
        "dspy.OutputField(desc=\"\"\"Rating based on a 5 point scale for the given criteria:\n",
        "0: Cannot rate / Does not apply / Doctor did not perform this\n",
        "1: Causes patient physical or emotional discomfort AND jeopardizes patient safety\n",
        "2: Shows minimal regard for patient welfare, with actions that may cause discomfort or minor safety concerns.\n",
        "3: Demonstrates moderate effort to maintain patient welfare, but with occasional oversights or lapses.\n",
        "4: Exhibits good consideration for patient welfare, ensuring comfort, safety, and dignity in most situations.\n",
        "5: Treats patient respectfully and sensitively, prioritizing comfort, safety, and dignity at all times, fostering trust and confidence.\n",
        "\"\"\")\n"
      ],
      "metadata": {
        "id": "Yb1GpREBNHON"
      },
      "execution_count": null,
      "outputs": []
    },
    {
      "cell_type": "markdown",
      "source": [
        "# PCCBP"
      ],
      "metadata": {
        "id": "bu9kPEmBNOpb"
      }
    },
    {
      "cell_type": "markdown",
      "source": [
        "Fostering the Relationship\n",
        "\n",
        "Assessed by Specialist"
      ],
      "metadata": {
        "id": "g0Bnx6VINV19"
      }
    },
    {
      "cell_type": "code",
      "source": [
        "\"\"\"How would you rate the doctor's behavior of FOSTERING A RELATIONSHIP with the patient? On the given criteria. \"\"\"\n",
        "dspy.InputField(desc=\"Conversation between patient and doctor\")"
      ],
      "metadata": {
        "id": "Y9ZxA4rZO9LK"
      },
      "execution_count": null,
      "outputs": []
    },
    {
      "cell_type": "code",
      "source": [
        "# Build rapport and connection\n",
        "\n",
        "# INPUT\n",
        "dspy.InputField(desc=\"Criteria: Build rapport and connection\")\n",
        "\n",
        "# OUTPUT\n",
        "dspy.OutputField(desc=\"\"\"Rating based on a 5 point scale for the given criteria:\n",
        "1: Very Poor - Minimal effort to build rapport and connection, lacks engagement with the patient.\n",
        "2: Poor - Shows some effort but falls short in establishing rapport and connection with the patient.\n",
        "3: Fair - Makes moderate attempts to build rapport and connection, with some success in engaging with the patient.\n",
        "4: Good - Demonstrates effective efforts in building rapport and connection, establishing a positive interaction with the patient.\n",
        "5: Excellent - Excels in building rapport and connection, establishing a strong and genuine connection with the patient, fostering a trusting relationship.\n",
        "\"\"\")"
      ],
      "metadata": {
        "id": "DIJpFINUNVac"
      },
      "execution_count": null,
      "outputs": []
    },
    {
      "cell_type": "code",
      "source": [
        "# Appear open and honest\n",
        "\n",
        "# INPUT\n",
        "dspy.InputField(desc=\"Criteria: Appear open and honest\")\n",
        "\n",
        "# OUTPUT\n",
        "dspy.OutputField(desc=\"\"\"Rating based on a 5 point scale for the given criteria:\n",
        "1: Very Poor - Appears closed off and dishonest, lacking transparency in communication.\n",
        "2: Poor - Shows some effort but lacks consistency in appearing open and honest.\n",
        "3: Fair - Makes moderate attempts to appear open and honest, with some sincerity in communication.\n",
        "4: Good - Demonstrates openness and honesty in communication, establishing trust with the patient.\n",
        "5: Excellent - Consistently appears open and honest, fostering a transparent and trustworthy relationship with the patient.\n",
        "\"\"\")\n"
      ],
      "metadata": {
        "id": "wHIK3BOKPHPz"
      },
      "execution_count": null,
      "outputs": []
    },
    {
      "cell_type": "code",
      "source": [
        "# Discuss mutual roles and responsibilities (1 to 5)\n",
        "\n",
        "# INPUT\n",
        "dspy.InputField(desc=\"Criteria: Discuss mutual roles and responsibilities\")\n",
        "\n",
        "# OUTPUT\n",
        "dspy.OutputField(desc=\"\"\"Rating based on a 5 point scale for the given criteria:\n",
        "1: Very Poor - Fails to discuss mutual roles and responsibilities, lacks clarity in defining respective roles.\n",
        "2: Poor - Shows limited effort in discussing mutual roles and responsibilities, with unclear expectations.\n",
        "3: Fair - Makes some attempt to discuss mutual roles and responsibilities, with moderate clarity in defining respective roles.\n",
        "4: Good - Demonstrates effective communication about mutual roles and responsibilities, establishing clear expectations.\n",
        "5: Excellent - Excels in discussing mutual roles and responsibilities, establishing a clear and mutually beneficial partnership.\n",
        "\"\"\")"
      ],
      "metadata": {
        "id": "FyQfIgz5PMpm"
      },
      "execution_count": null,
      "outputs": []
    },
    {
      "cell_type": "code",
      "source": [
        "# Respect patient statements, privacy, and autonomy (1 to 5)\n",
        "\n",
        "# INPUT\n",
        "dspy.InputField(desc=\"Criteria: Respect patient statements, privacy, and autonomy\")\n",
        "\n",
        "# OUTPUT\n",
        "dspy.OutputField(desc=\"\"\"Rating based on a 5 point scale for the given criteria:\n",
        "1: Very Poor - Disregards patient statements and autonomy, lacks respect for patient privacy.\n",
        "2: Poor - Shows some effort but falls short in respecting patient statements, privacy, and autonomy.\n",
        "3: Fair - Makes moderate attempts to respect patient statements, privacy, and autonomy, with occasional lapses.\n",
        "4: Good - Demonstrates consistent respect for patient statements, privacy, and autonomy, fostering trust and confidence.\n",
        "5: Excellent - Consistently respects patient statements, privacy, and autonomy, prioritizing patient dignity and autonomy.\n",
        "\"\"\")"
      ],
      "metadata": {
        "id": "ejzB4wC5PlvV"
      },
      "execution_count": null,
      "outputs": []
    },
    {
      "cell_type": "code",
      "source": [
        "# Engage in partnership building (1 to 5)\n",
        "\n",
        "# INPUT\n",
        "dspy.InputField(desc=\"Criteria: Engage in partnership building\")\n",
        "\n",
        "# OUTPUT\n",
        "dspy.OutputField(desc=\"\"\"Rating based on a 5 point scale for the given criteria:\n",
        "1: Very Poor - Fails to engage in partnership building, lacks collaboration with the patient.\n",
        "2: Poor - Shows limited effort in partnership building, with minimal collaboration with the patient.\n",
        "3: Fair - Makes some attempt to engage in partnership building, with moderate collaboration with the patient.\n",
        "4: Good - Demonstrates effective engagement in partnership building, fostering collaboration and shared decision-making.\n",
        "5: Excellent - Excels in partnership building, actively involving the patient in decision-making and treatment planning.\n",
        "\"\"\")"
      ],
      "metadata": {
        "id": "fruWMUQAPoUt"
      },
      "execution_count": null,
      "outputs": []
    },
    {
      "cell_type": "code",
      "source": [
        "# Express caring and commitment (1 to 5)\n",
        "\n",
        "# INPUT\n",
        "dspy.InputField(desc=\"Criteria: Express caring and commitment\")\n",
        "\n",
        "# OUTPUT\n",
        "dspy.OutputField(desc=\"\"\"Rating based on a 5 point scale for the given criteria:\n",
        "1: Very Poor - Fails to express caring and commitment, lacks empathy and dedication.\n",
        "2: Poor - Shows minimal effort in expressing caring and commitment, with limited empathy and dedication.\n",
        "3: Fair - Makes some attempt to express caring and commitment, with moderate empathy and dedication.\n",
        "4: Good - Demonstrates consistent expression of caring and commitment, fostering a supportive and compassionate relationship.\n",
        "5: Excellent - Consistently expresses genuine caring and commitment, fostering a strong bond of trust and support.\n",
        "\"\"\")"
      ],
      "metadata": {
        "id": "JS8K6pp9PxcI"
      },
      "execution_count": null,
      "outputs": []
    },
    {
      "cell_type": "code",
      "source": [
        "# Acknowledge and express sorrow for mistakes (1 to 5)\n",
        "\n",
        "# INPUT\n",
        "dspy.InputField(desc=\"Criteria: Acknowledge and express sorrow for mistakes\")\n",
        "\n",
        "# OUTPUT\n",
        "dspy.OutputField(desc=\"\"\"Rating based on a 5 point scale for the given criteria:\n",
        "1: Very Poor - Fails to acknowledge or express sorrow for mistakes, lacks accountability and humility.\n",
        "2: Poor - Shows minimal effort in acknowledging or expressing sorrow for mistakes, with limited accountability and humility.\n",
        "3: Fair - Makes some attempt to acknowledge or express sorrow for mistakes, with moderate accountability and humility.\n",
        "4: Good - Demonstrates consistent acknowledgment and expression of sorrow for mistakes, fostering trust and transparency.\n",
        "5: Excellent - Consistently acknowledges and expresses genuine sorrow for mistakes, demonstrating humility and commitment to improvement.\n",
        "\"\"\")"
      ],
      "metadata": {
        "id": "TqzBUckLPz2U"
      },
      "execution_count": null,
      "outputs": []
    },
    {
      "cell_type": "code",
      "source": [
        "# Greet patient appropriately (1 to 5)\n",
        "\n",
        "# INPUT\n",
        "dspy.InputField(desc=\"Criteria: Greet patient appropriately\")\n",
        "\n",
        "# OUTPUT\n",
        "dspy.OutputField(desc=\"\"\"Rating based on a 5 point scale for the given criteria:\n",
        "1: Very Poor - Fails to greet the patient appropriately, lacks professionalism and courtesy.\n",
        "2: Poor - Shows minimal effort in greeting the patient appropriately, with occasional lapses in professionalism.\n",
        "3: Fair - Makes some attempt to greet the patient appropriately, with moderate professionalism and courtesy.\n",
        "4: Good - Demonstrates consistent professionalism and courtesy in greeting the patient appropriately.\n",
        "5: Excellent - Consistently greets the patient appropriately with professionalism and warmth, setting a positive tone for interaction.\n",
        "\"\"\")"
      ],
      "metadata": {
        "id": "Pfcpf-YSP7aY"
      },
      "execution_count": null,
      "outputs": []
    },
    {
      "cell_type": "code",
      "source": [
        "# Use appropriate language (1 to 5)\n",
        "\n",
        "# INPUT\n",
        "dspy.InputField(desc=\"Criteria: Use appropriate language\")\n",
        "\n",
        "# OUTPUT\n",
        "dspy.OutputField(desc=\"\"\"Rating based on a 5 point scale for the given criteria:\n",
        "1: Very Poor - Uses inappropriate language, lacking sensitivity and professionalism.\n",
        "2: Poor - Shows some effort but occasionally uses inappropriate language, with minor lapses in professionalism.\n",
        "3: Fair - Makes moderate attempts to use appropriate language, with occasional lapses in sensitivity.\n",
        "4: Good - Demonstrates consistent use of appropriate language, maintaining professionalism and sensitivity.\n",
        "5: Excellent - Consistently uses appropriate language, demonstrating professionalism and respect for the patient.\n",
        "\"\"\")"
      ],
      "metadata": {
        "id": "z25sZetGP-C9"
      },
      "execution_count": null,
      "outputs": []
    },
    {
      "cell_type": "code",
      "source": [
        "# Encourage patient participation (1 to 5)\n",
        "\n",
        "# INPUT\n",
        "dspy.InputField(desc=\"Criteria: Encourage patient participation\")\n",
        "\n",
        "# OUTPUT\n",
        "dspy.OutputField(desc=\"\"\"Rating based on a 5 point scale for the given criteria:\n",
        "1: Very Poor - Fails to encourage patient participation, lacks engagement and involvement.\n",
        "2: Poor - Shows minimal effort in encouraging patient participation, with limited engagement and involvement.\n",
        "3: Fair - Makes some attempt to encourage patient participation, with moderate engagement and involvement.\n",
        "4: Good - Demonstrates consistent encouragement of patient participation, fostering collaboration and involvement.\n",
        "5: Excellent - Consistently encourages patient participation, actively involving the patient in decision-making and treatment planning.\n",
        "\"\"\")"
      ],
      "metadata": {
        "id": "qmOasnGfQAd1"
      },
      "execution_count": null,
      "outputs": []
    },
    {
      "cell_type": "code",
      "source": [
        "# Show interest in the patient as a person (1 to 5)\n",
        "\n",
        "# INPUT\n",
        "dspy.InputField(desc=\"Criteria: Show interest in the patient as a person\")\n",
        "\n",
        "# OUTPUT\n",
        "dspy.OutputField(desc=\"\"\"Rating based on a 5 point scale for the given criteria:\n",
        "1: Very Poor - Fails to show interest in the patient as a person, lacks empathy and connection.\n",
        "2: Poor - Shows minimal effort in showing interest in the patient as a person, with limited empathy and connection.\n",
        "3: Fair - Makes some attempt to show interest in the patient as a person, with moderate empathy and connection.\n",
        "4: Good - Demonstrates consistent interest in the patient as a person, fostering rapport and understanding.\n",
        "5: Excellent - Consistently shows genuine interest in the patient as a person, fostering a meaningful and supportive relationship.\n",
        "\"\"\")"
      ],
      "metadata": {
        "id": "Nl6ls0UkQCHS"
      },
      "execution_count": null,
      "outputs": []
    },
    {
      "cell_type": "markdown",
      "source": [
        "Gathering Information"
      ],
      "metadata": {
        "id": "Y9ELOir1QE2i"
      }
    },
    {
      "cell_type": "code",
      "source": [
        "\"\"\"How would you rate the doctor's behavior of GATHERING INFORMATION from the patient?\"\"\"\n",
        "dspy.InputField(desc=\"Conversation between patient and doctor\")"
      ],
      "metadata": {
        "id": "E3kcyXZAQEUJ"
      },
      "execution_count": null,
      "outputs": []
    },
    {
      "cell_type": "code",
      "source": [
        "# Attempt to understand the patient’s needs for the encounter (1 to 5)\n",
        "\n",
        "# INPUT\n",
        "dspy.InputField(desc=\"Criteria: Attempt to understand the patient’s needs for the encounter\")\n",
        "\n",
        "# OUTPUT\n",
        "dspy.OutputField(desc=\"\"\"Rating based on a 5 point scale for the given criteria:\n",
        "1: Very Poor - Fails to attempt understanding of the patient’s needs, lacking empathy and insight.\n",
        "2: Poor - Shows minimal effort in attempting to understand the patient’s needs, with limited empathy and insight.\n",
        "3: Fair - Makes some attempt to understand the patient’s needs, with moderate empathy and insight.\n",
        "4: Good - Demonstrates consistent effort in attempting to understand the patient’s needs, fostering empathy and insight.\n",
        "5: Excellent - Consistently shows genuine effort in understanding the patient’s needs, fostering empathy, insight, and patient-centered care.\n",
        "\"\"\")"
      ],
      "metadata": {
        "id": "EcmC9hC3REQ5"
      },
      "execution_count": null,
      "outputs": []
    },
    {
      "cell_type": "code",
      "source": [
        "# Elicit full description of major reason for visit from biologic and psychosocial perspectives (1 to 5)\n",
        "\n",
        "# INPUT\n",
        "dspy.InputField(desc=\"Criteria: Elicit full description of major reason for visit from biologic and psychosocial perspectives\")\n",
        "\n",
        "# OUTPUT\n",
        "dspy.OutputField(desc=\"\"\"Rating based on a 5 point scale for the given criteria:\n",
        "1: Very Poor - Fails to elicit a full description of the reason for visit from both biologic and psychosocial perspectives.\n",
        "2: Poor - Shows minimal effort in eliciting a full description of the reason for visit from both biologic and psychosocial perspectives, with limited insight.\n",
        "3: Fair - Makes some attempt to elicit a full description of the reason for visit from both biologic and psychosocial perspectives, with moderate insight.\n",
        "4: Good - Demonstrates consistent effort in eliciting a full description of the reason for visit from both biologic and psychosocial perspectives, fostering understanding and empathy.\n",
        "5: Excellent - Consistently shows genuine effort in eliciting a comprehensive description of the reason for visit from both biologic and psychosocial perspectives, fostering a patient-centered approach.\n",
        "\"\"\")"
      ],
      "metadata": {
        "id": "gMW28285RdB0"
      },
      "execution_count": null,
      "outputs": []
    },
    {
      "cell_type": "code",
      "source": [
        "# Ask open-ended questions (1 to 5)\n",
        "\n",
        "# INPUT\n",
        "dspy.InputField(desc=\"Criteria: Ask open-ended questions\")\n",
        "\n",
        "# OUTPUT\n",
        "dspy.OutputField(desc=\"\"\"Rating based on a 5 point scale for the given criteria:\n",
        "1: Very Poor - Fails to ask open-ended questions, relying on closed-ended inquiries.\n",
        "2: Poor - Shows minimal effort in asking open-ended questions, with limited exploration.\n",
        "3: Fair - Makes some attempt to ask open-ended questions, with moderate exploration.\n",
        "4: Good - Demonstrates consistent use of open-ended questions, fostering comprehensive exploration and understanding.\n",
        "5: Excellent - Consistently asks open-ended questions, facilitating thorough exploration and patient engagement.\n",
        "\"\"\")"
      ],
      "metadata": {
        "id": "ixMWrD1rRpsM"
      },
      "execution_count": null,
      "outputs": []
    },
    {
      "cell_type": "code",
      "source": [
        "# Allow patient to complete responses and listen actively (1 to 5)\n",
        "\n",
        "# INPUT\n",
        "dspy.InputField(desc=\"Criteria: Allow patient to complete responses and listen actively\")\n",
        "\n",
        "# OUTPUT\n",
        "dspy.OutputField(desc=\"\"\"Rating based on a 5 point scale for the given criteria:\n",
        "1: Very Poor - Interrupts or does not allow patient to complete responses, lacks active listening skills.\n",
        "2: Poor - Shows minimal effort in allowing patient to complete responses and listening actively, with occasional interruptions.\n",
        "3: Fair - Makes some attempt to allow patient to complete responses and listens actively, with moderate interruptions.\n",
        "4: Good - Demonstrates consistent practice of allowing patient to complete responses and actively listening, fostering patient-centered communication.\n",
        "5: Excellent - Consistently allows patient to complete responses and listens actively, demonstrating exceptional communication skills and empathy.\n",
        "\"\"\")\n"
      ],
      "metadata": {
        "id": "tohVk5P0RsSq"
      },
      "execution_count": null,
      "outputs": []
    },
    {
      "cell_type": "code",
      "source": [
        "# Elicit patient’s full set of concerns (1 to 5)\n",
        "\n",
        "# INPUT\n",
        "dspy.InputField(desc=\"Criteria: Elicit patient’s full set of concerns\")\n",
        "\n",
        "# OUTPUT\n",
        "dspy.OutputField(desc=\"\"\"Rating based on a 5 point scale for the given criteria:\n",
        "1: Very Poor - Fails to elicit patient’s full set of concerns, missing important aspects.\n",
        "2: Poor - Shows minimal effort in eliciting patient’s full set of concerns, with limited exploration.\n",
        "3: Fair - Makes some attempt to elicit patient’s full set of concerns, with moderate exploration.\n",
        "4: Good - Demonstrates consistent effort in eliciting patient’s full set of concerns, fostering understanding and empathy.\n",
        "5: Excellent - Consistently shows genuine effort in eliciting patient’s full set of concerns, facilitating comprehensive understanding and patient engagement.\n",
        "\"\"\")"
      ],
      "metadata": {
        "id": "w8Ga7u9HRub4"
      },
      "execution_count": null,
      "outputs": []
    },
    {
      "cell_type": "code",
      "source": [
        "# Elicit patient’s perspective on the problem/illness (1 to 5)\n",
        "\n",
        "# INPUT\n",
        "dspy.InputField(desc=\"Criteria: Elicit patient’s perspective on the problem/illness\")\n",
        "\n",
        "# OUTPUT\n",
        "dspy.OutputField(desc=\"\"\"Rating based on a 5 point scale for the given criteria:\n",
        "1: Very Poor - Fails to elicit patient’s perspective on the problem/illness, lacks empathy and insight.\n",
        "2: Poor - Shows minimal effort in eliciting patient’s perspective on the problem/illness, with limited exploration.\n",
        "3: Fair - Makes some attempt to elicit patient’s perspective on the problem/illness, with moderate exploration.\n",
        "4: Good - Demonstrates consistent effort in eliciting patient’s perspective on the problem/illness, fostering understanding and empathy.\n",
        "5: Excellent - Consistently shows genuine effort in eliciting patient’s perspective on the problem/illness, facilitating patient-centered care.\n",
        "\"\"\")"
      ],
      "metadata": {
        "id": "Kb3hhS3nRzR3"
      },
      "execution_count": null,
      "outputs": []
    },
    {
      "cell_type": "code",
      "source": [
        "# Explore full effect of the illness (1 to 5)\n",
        "\n",
        "# INPUT\n",
        "dspy.InputField(desc=\"Criteria: Explore full effect of the illness\")\n",
        "\n",
        "# OUTPUT\n",
        "dspy.OutputField(desc=\"\"\"Rating based on a 5 point scale for the given criteria:\n",
        "1: Very Poor - Fails to explore the full effect of the illness, lacks understanding of patient’s experience.\n",
        "2: Poor - Shows minimal effort in exploring the full effect of the illness, with limited insight into patient’s experience.\n",
        "3: Fair - Makes some attempt to explore the full effect of the illness, with moderate insight into patient’s experience.\n",
        "4: Good - Demonstrates consistent effort in exploring the full effect of the illness, fostering empathy and understanding.\n",
        "5: Excellent - Consistently explores the full effect of the illness, demonstrating exceptional empathy and patient-centered care.\n",
        "\"\"\")"
      ],
      "metadata": {
        "id": "O315fOKbR0KO"
      },
      "execution_count": null,
      "outputs": []
    },
    {
      "cell_type": "code",
      "source": [
        "# Clarify and summarize information (1 to 5)\n",
        "\n",
        "# INPUT\n",
        "dspy.InputField(desc=\"Criteria: Clarify and summarize information\")\n",
        "\n",
        "# OUTPUT\n",
        "dspy.OutputField(desc=\"\"\"Rating based on a 5 point scale for the given criteria:\n",
        "1: Very Poor - Fails to clarify and summarize information, lacks clarity and coherence in communication.\n",
        "2: Poor - Shows minimal effort in clarifying and summarizing information, with occasional confusion in communication.\n",
        "3: Fair - Makes some attempt to clarify and summarize information, with moderate clarity and coherence in communication.\n",
        "4: Good - Demonstrates consistent effort in clarifying and summarizing information, fostering understanding and patient engagement.\n",
        "5: Excellent - Consistently clarifies and summarizes information effectively, facilitating clear communication and patient comprehension.\n",
        "\"\"\")"
      ],
      "metadata": {
        "id": "FukSa0NZR88r"
      },
      "execution_count": null,
      "outputs": []
    },
    {
      "cell_type": "code",
      "source": [
        "# Enquire about additional concerns (1 to 5)\n",
        "\n",
        "# INPUT\n",
        "dspy.InputField(desc=\"Criteria: Enquire about additional concerns\")\n",
        "\n",
        "# OUTPUT\n",
        "dspy.OutputField(desc=\"\"\"Rating based on a 5 point scale for the given criteria:\n",
        "1: Very Poor - Fails to enquire about additional concerns, lacks thoroughness in addressing patient’s needs.\n",
        "2: Poor - Shows minimal effort in enquiring about additional concerns, with limited thoroughness in addressing patient’s needs.\n",
        "3: Fair - Makes some attempt to enquire about additional concerns, with moderate thoroughness in addressing patient’s needs.\n",
        "4: Good - Demonstrates consistent effort in enquiring about additional concerns, fostering thoroughness in addressing patient’s needs.\n",
        "5: Excellent - Consistently enquires about additional concerns, demonstrating exceptional thoroughness in addressing patient’s needs.\n",
        "\"\"\")"
      ],
      "metadata": {
        "id": "NEmAfKLqSD2o"
      },
      "execution_count": null,
      "outputs": []
    },
    {
      "cell_type": "markdown",
      "source": [
        "Providing Information"
      ],
      "metadata": {
        "id": "bGyW_3uKSFGQ"
      }
    },
    {
      "cell_type": "code",
      "source": [
        "\"\"\"How would you rate the doctor's behavior of PROVIDING INFORMATION to the patient?\"\"\"\n",
        "dspy.InputField(desc=\"Conversation between patient and doctor\")"
      ],
      "metadata": {
        "id": "sj898YaYSE24"
      },
      "execution_count": null,
      "outputs": []
    },
    {
      "cell_type": "code",
      "source": [
        "# Seek to understand patient’s informational needs (1 to 5)\n",
        "\n",
        "# INPUT\n",
        "dspy.InputField(desc=\"Criteria: Seek to understand patient’s informational needs\")\n",
        "\n",
        "# OUTPUT\n",
        "dspy.OutputField(desc=\"\"\"Rating based on a 5 point scale for the given criteria:\n",
        "1: Very Poor - Fails to seek understanding of patient’s informational needs, lacks insight into patient’s knowledge and concerns.\n",
        "2: Poor - Shows minimal effort in seeking to understand patient’s informational needs, with limited exploration of patient’s knowledge and concerns.\n",
        "3: Fair - Makes some attempt to seek understanding of patient’s informational needs, with moderate exploration of patient’s knowledge and concerns.\n",
        "4: Good - Demonstrates consistent effort in seeking to understand patient’s informational needs, fostering patient engagement and participation.\n",
        "5: Excellent - Consistently seeks to understand patient’s informational needs effectively, demonstrating exceptional empathy and patient-centered care.\n",
        "\"\"\")\n"
      ],
      "metadata": {
        "id": "cINKPIYwS11V"
      },
      "execution_count": null,
      "outputs": []
    },
    {
      "cell_type": "code",
      "source": [
        "# Share information (1 to 5)\n",
        "\n",
        "# INPUT\n",
        "dspy.InputField(desc=\"Criteria: Share information\")\n",
        "\n",
        "# OUTPUT\n",
        "dspy.OutputField(desc=\"\"\"Rating based on a 5 point scale for the given criteria:\n",
        "1: Very Poor - Fails to share information effectively, lacking clarity and coherence in communication.\n",
        "2: Poor - Shows minimal effort in sharing information, with occasional confusion in communication.\n",
        "3: Fair - Makes some attempt to share information, with moderate clarity and coherence in communication.\n",
        "4: Good - Demonstrates consistent effort in sharing information effectively, fostering understanding and patient engagement.\n",
        "5: Excellent - Consistently shares information effectively, facilitating clear communication and patient comprehension.\n",
        "\"\"\")\n"
      ],
      "metadata": {
        "id": "etX2aNxKS4K5"
      },
      "execution_count": null,
      "outputs": []
    },
    {
      "cell_type": "code",
      "source": [
        "# Overcome barriers to patient understanding (language, health literacy, hearing, numeracy) (1 to 5)\n",
        "\n",
        "# INPUT\n",
        "dspy.InputField(desc=\"Criteria: Overcome barriers to patient understanding (language, health literacy, hearing, numeracy)\")\n",
        "\n",
        "# OUTPUT\n",
        "dspy.OutputField(desc=\"\"\"Rating based on a 5 point scale for the given criteria:\n",
        "1: Very Poor - Fails to overcome barriers to patient understanding, lacking adaptation to patient needs and limitations.\n",
        "2: Poor - Shows minimal effort in overcoming barriers to patient understanding, with limited adaptation to patient needs and limitations.\n",
        "3: Fair - Makes some attempt to overcome barriers to patient understanding, with moderate adaptation to patient needs and limitations.\n",
        "4: Good - Demonstrates consistent effort in overcoming barriers to patient understanding, fostering inclusivity and accessibility.\n",
        "5: Excellent - Consistently overcomes barriers to patient understanding effectively, demonstrating exceptional adaptability and patient-centered care.\n",
        "\"\"\")\n"
      ],
      "metadata": {
        "id": "WZh1XUzcS7J8"
      },
      "execution_count": null,
      "outputs": []
    },
    {
      "cell_type": "code",
      "source": [
        "# Facilitate understanding (1 to 5)\n",
        "\n",
        "# INPUT\n",
        "dspy.InputField(desc=\"Criteria: Facilitate understanding\")\n",
        "\n",
        "# OUTPUT\n",
        "dspy.OutputField(desc=\"\"\"Rating based on a 5 point scale for the given criteria:\n",
        "1: Very Poor - Fails to facilitate understanding effectively, lacking clarity and coherence in communication.\n",
        "2: Poor - Shows minimal effort in facilitating understanding, with occasional confusion in communication.\n",
        "3: Fair - Makes some attempt to facilitate understanding, with moderate clarity and coherence in communication.\n",
        "4: Good - Demonstrates consistent effort in facilitating understanding, fostering patient engagement and comprehension.\n",
        "5: Excellent - Consistently facilitates understanding effectively, ensuring clear communication and patient comprehension.\n",
        "\"\"\")"
      ],
      "metadata": {
        "id": "OJuJ_q_qS_3r"
      },
      "execution_count": null,
      "outputs": []
    },
    {
      "cell_type": "code",
      "source": [
        "# Provide information resources and help patient evaluate and use them (1 to 5)\n",
        "\n",
        "# INPUT\n",
        "dspy.InputField(desc=\"Criteria: Provide information resources and help patient evaluate and use them\")\n",
        "\n",
        "# OUTPUT\n",
        "dspy.OutputField(desc=\"\"\"Rating based on a 5 point scale for the given criteria:\n",
        "1: Very Poor - Fails to provide information resources and help patient evaluate and use them, lacking support for patient self-education.\n",
        "2: Poor - Shows minimal effort in providing information resources and helping patient evaluate and use them, with limited support for patient self-education.\n",
        "3: Fair - Makes some attempt to provide information resources and help patient evaluate and use them, with moderate support for patient self-education.\n",
        "4: Good - Demonstrates consistent effort in providing information resources and helping patient evaluate and use them, fostering patient empowerment.\n",
        "5: Excellent - Consistently provides information resources and effectively helps patient evaluate and use them, facilitating patient self-education and empowerment.\n",
        "\"\"\")"
      ],
      "metadata": {
        "id": "F1-WEIb5TCHT"
      },
      "execution_count": null,
      "outputs": []
    },
    {
      "cell_type": "code",
      "source": [
        "# Explain nature of the problem and approach to diagnosis/treatment (1 to 5)\n",
        "\n",
        "# INPUT\n",
        "dspy.InputField(desc=\"Criteria: Explain nature of the problem and approach to diagnosis/treatment\")\n",
        "\n",
        "# OUTPUT\n",
        "dspy.OutputField(desc=\"\"\"Rating based on a 5 point scale for the given criteria:\n",
        "1: Very Poor - Fails to explain the nature of the problem and approach to diagnosis/treatment effectively, lacking clarity and coherence in communication.\n",
        "2: Poor - Shows minimal effort in explaining the nature of the problem and approach to diagnosis/treatment, with occasional confusion in communication.\n",
        "3: Fair - Makes some attempt to explain the nature of the problem and approach to diagnosis/treatment, with moderate clarity and coherence in communication.\n",
        "4: Good - Demonstrates consistent effort in explaining the nature of the problem and approach to diagnosis/treatment, fostering patient understanding and engagement.\n",
        "5: Excellent - Consistently explains the nature of the problem and approach to diagnosis/treatment effectively, ensuring clear communication and patient comprehension.\n",
        "\"\"\")"
      ],
      "metadata": {
        "id": "ippTv5SyTEjv"
      },
      "execution_count": null,
      "outputs": []
    },
    {
      "cell_type": "code",
      "source": [
        "# Give uncomplicated explanations and instructions (1 to 5)\n",
        "\n",
        "# INPUT\n",
        "dspy.InputField(desc=\"Criteria: Give uncomplicated explanations and instructions\")\n",
        "\n",
        "# OUTPUT\n",
        "dspy.OutputField(desc=\"\"\"Rating based on a 5 point scale for the given criteria:\n",
        "1: Very Poor - Fails to give uncomplicated explanations and instructions, using complex language and instructions.\n",
        "2: Poor - Shows minimal effort in giving uncomplicated explanations and instructions, with occasional use of complex language and instructions.\n",
        "3: Fair - Makes some attempt to give uncomplicated explanations and instructions, with moderate clarity and simplicity.\n",
        "4: Good - Demonstrates consistent effort in giving uncomplicated explanations and instructions, using clear and simple language and instructions.\n",
        "5: Excellent - Consistently gives uncomplicated explanations and instructions effectively, ensuring clarity and understanding.\n",
        "\"\"\")"
      ],
      "metadata": {
        "id": "qr4uL26xTGwE"
      },
      "execution_count": null,
      "outputs": []
    },
    {
      "cell_type": "code",
      "source": [
        "# Avoid jargon and complexity (1 to 5)\n",
        "\n",
        "# INPUT\n",
        "dspy.InputField(desc=\"Criteria: Avoid jargon and complexity\")\n",
        "\n",
        "# OUTPUT\n",
        "dspy.OutputField(desc=\"\"\"Rating based on a 5 point scale for the given criteria:\n",
        "1: Very Poor - Fails to avoid jargon and complexity, using language and terminology that is difficult for the patient to understand.\n",
        "2: Poor - Shows minimal effort in avoiding jargon and complexity, with occasional use of language and terminology that is difficult for the patient to understand.\n",
        "3: Fair - Makes some attempt to avoid jargon and complexity, with moderate clarity and simplicity in communication.\n",
        "4: Good - Demonstrates consistent effort in avoiding jargon and complexity, using language and terminology that is accessible and understandable for the patient.\n",
        "5: Excellent - Consistently avoids jargon and complexity effectively, ensuring clear and understandable communication.\n",
        "\"\"\")"
      ],
      "metadata": {
        "id": "9bOXLp5CTJHk"
      },
      "execution_count": null,
      "outputs": []
    },
    {
      "cell_type": "code",
      "source": [
        "# Encourage questions and check understanding (1 to 5)\n",
        "\n",
        "# INPUT\n",
        "dspy.InputField(desc=\"Criteria: Encourage questions and check understanding\")\n",
        "\n",
        "# OUTPUT\n",
        "dspy.OutputField(desc=\"\"\"Rating based on a 5 point scale for the given criteria:\n",
        "1: Very Poor - Fails to encourage questions and check understanding, lacking engagement and validation of patient comprehension.\n",
        "2: Poor - Shows minimal effort in encouraging questions and checking understanding, with limited validation of patient comprehension.\n",
        "3: Fair - Makes some attempt to encourage questions and check understanding, with moderate engagement and validation of patient comprehension.\n",
        "4: Good - Demonstrates consistent effort in encouraging questions and checking understanding, fostering patient engagement and comprehension.\n",
        "5: Excellent - Consistently encourages questions and effectively checks understanding, ensuring patient engagement and comprehension.\n",
        "\"\"\")"
      ],
      "metadata": {
        "id": "9ofvHrzATLhm"
      },
      "execution_count": null,
      "outputs": []
    },
    {
      "cell_type": "code",
      "source": [
        "# Encourage questions and check understanding (1 to 5)\n",
        "\n",
        "# INPUT\n",
        "dspy.InputField(desc=\"Criteria: Encourage questions and check understanding\")\n",
        "\n",
        "# OUTPUT\n",
        "dspy.OutputField(desc=\"\"\"Rating based on a 5 point scale for the given criteria:\n",
        "1: Very Poor - Fails to encourage questions and check understanding, lacking engagement and validation of patient comprehension.\n",
        "2: Poor - Shows minimal effort in encouraging questions and checking understanding, with limited validation of patient comprehension.\n",
        "3: Fair - Makes some attempt to encourage questions and check understanding, with moderate engagement and validation of patient comprehension.\n",
        "4: Good - Demonstrates consistent effort in encouraging questions and checking understanding, fostering patient engagement and comprehension.\n",
        "5: Excellent - Consistently encourages questions and effectively checks understanding, ensuring patient engagement and comprehension.\n",
        "\"\"\")"
      ],
      "metadata": {
        "id": "vGE2whiWTNHu"
      },
      "execution_count": null,
      "outputs": []
    },
    {
      "cell_type": "code",
      "source": [
        "# Encourage questions and check understanding (1 to 5)\n",
        "\n",
        "# INPUT\n",
        "dspy.InputField(desc=\"Criteria: Encourage questions and check understanding\")\n",
        "\n",
        "# OUTPUT\n",
        "dspy.OutputField(desc=\"\"\"Rating based on a 5 point scale for the given criteria:\n",
        "1: Very Poor - Fails to encourage questions and check understanding, lacking engagement and validation of patient comprehension.\n",
        "2: Poor - Shows minimal effort in encouraging questions and checking understanding, with limited validation of patient comprehension.\n",
        "3: Fair - Makes some attempt to encourage questions and check understanding, with moderate engagement and validation of patient comprehension.\n",
        "4: Good - Demonstrates consistent effort in encouraging questions and checking understanding, fostering patient engagement and comprehension.\n",
        "5: Excellent - Consistently encourages questions and effectively checks understanding, ensuring patient engagement and comprehension.\n",
        "\"\"\")\n"
      ],
      "metadata": {
        "id": "reP1ZY-RTSS0"
      },
      "execution_count": null,
      "outputs": []
    },
    {
      "cell_type": "code",
      "source": [
        "# Emphasize key messages (1 to 5)\n",
        "\n",
        "# INPUT\n",
        "dspy.InputField(desc=\"Criteria: Emphasize key messages\")\n",
        "\n",
        "# OUTPUT\n",
        "dspy.OutputField(desc=\"\"\"Rating based on a 5 point scale for the given criteria:\n",
        "1: Very Poor - Fails to emphasize key messages effectively, lacking clarity and emphasis.\n",
        "2: Poor - Shows minimal effort in emphasizing key messages, with occasional lack of clarity and emphasis.\n",
        "3: Fair - Makes some attempt to emphasize key messages, with moderate clarity and emphasis.\n",
        "4: Good - Demonstrates consistent effort in emphasizing key messages, ensuring clarity and importance.\n",
        "5: Excellent - Consistently emphasizes key messages effectively, ensuring clear communication and understanding.\n",
        "\"\"\")"
      ],
      "metadata": {
        "id": "NWVkEmznTVWE"
      },
      "execution_count": null,
      "outputs": []
    },
    {
      "cell_type": "markdown",
      "source": [
        "Decision Making"
      ],
      "metadata": {
        "id": "hSOl2qetTXRy"
      }
    },
    {
      "cell_type": "code",
      "source": [
        "\"\"\"How would you rate the doctor's behavior of MAKING DECISIONS with the patient?\"\"\""
      ],
      "metadata": {
        "id": "G0GNZijrTZ28"
      },
      "execution_count": null,
      "outputs": []
    },
    {
      "cell_type": "code",
      "source": [
        "# Prepare patient for deliberation and enable decision-making (1 to 5)\n",
        "\n",
        "# INPUT\n",
        "dspy.InputField(desc=\"Criteria: Prepare patient for deliberation and enable decision-making\")\n",
        "\n",
        "# OUTPUT\n",
        "dspy.OutputField(desc=\"\"\"Rating based on a 5 point scale for the given criteria:\n",
        "1: Very Poor - Fails to prepare patient for deliberation and enable decision-making, lacking involvement and empowerment.\n",
        "2: Poor - Shows minimal effort in preparing patient for deliberation and enabling decision-making, with limited involvement and empowerment.\n",
        "3: Fair - Makes some attempt to prepare patient for deliberation and enable decision-making, with moderate involvement and empowerment.\n",
        "4: Good - Demonstrates consistent effort in preparing patient for deliberation and enabling decision-making, fostering involvement and empowerment.\n",
        "5: Excellent - Consistently prepares patient for deliberation and enables decision-making effectively, ensuring active involvement and empowerment.\n",
        "\"\"\")\n"
      ],
      "metadata": {
        "id": "HBhjpqGnTjJ3"
      },
      "execution_count": null,
      "outputs": []
    },
    {
      "cell_type": "code",
      "source": [
        "# Outline collaborative action plan (1 to 5)\n",
        "\n",
        "# INPUT\n",
        "dspy.InputField(desc=\"Criteria: Outline collaborative action plan\")\n",
        "\n",
        "# OUTPUT\n",
        "dspy.OutputField(desc=\"\"\"Rating based on a 5 point scale for the given criteria:\n",
        "1: Very Poor - Fails to outline collaborative action plan effectively, lacking clarity and coherence.\n",
        "2: Poor - Shows minimal effort in outlining collaborative action plan, with occasional lack of clarity and coherence.\n",
        "3: Fair - Makes some attempt to outline collaborative action plan, with moderate clarity and coherence.\n",
        "4: Good - Demonstrates consistent effort in outlining collaborative action plan, ensuring clarity and coherence.\n",
        "5: Excellent - Consistently outlines collaborative action plan effectively, ensuring clear communication and understanding.\n",
        "\"\"\")\n"
      ],
      "metadata": {
        "id": "-t0n2OS9TpOh"
      },
      "execution_count": null,
      "outputs": []
    },
    {
      "cell_type": "code",
      "source": [
        "# Encourage patient to participate in decision-making (1 to 5)\n",
        "\n",
        "# INPUT\n",
        "dspy.InputField(desc=\"Criteria: Encourage patient to participate in decision-making\")\n",
        "\n",
        "# OUTPUT\n",
        "dspy.OutputField(desc=\"\"\"Rating based on a 5 point scale for the given criteria:\n",
        "1: Very Poor - Fails to encourage patient to participate in decision-making, lacking engagement and empowerment.\n",
        "2: Poor - Shows minimal effort in encouraging patient to participate in decision-making, with limited engagement and empowerment.\n",
        "3: Fair - Makes some attempt to encourage patient to participate in decision-making, with moderate engagement and empowerment.\n",
        "4: Good - Demonstrates consistent effort in encouraging patient to participate in decision-making, fostering involvement and empowerment.\n",
        "5: Excellent - Consistently encourages patient to participate in decision-making effectively, ensuring active involvement and empowerment.\n",
        "\"\"\")\n"
      ],
      "metadata": {
        "id": "k6PBrKalTt4D"
      },
      "execution_count": null,
      "outputs": []
    },
    {
      "cell_type": "code",
      "source": [
        "# Outline choices (1 to 5)\n",
        "\n",
        "# INPUT\n",
        "dspy.InputField(desc=\"Criteria: Outline choices\")\n",
        "\n",
        "# OUTPUT\n",
        "dspy.OutputField(desc=\"\"\"Rating based on a 5 point scale for the given criteria:\n",
        "1: Very Poor - Fails to outline choices effectively, lacking clarity and coherence.\n",
        "2: Poor - Shows minimal effort in outlining choices, with occasional lack of clarity and coherence.\n",
        "3: Fair - Makes some attempt to outline choices, with moderate clarity and coherence.\n",
        "4: Good - Demonstrates consistent effort in outlining choices, ensuring clarity and coherence.\n",
        "5: Excellent - Consistently outlines choices effectively, ensuring clear communication and understanding.\n",
        "\"\"\")\n"
      ],
      "metadata": {
        "id": "rYHS0fiaTvrs"
      },
      "execution_count": null,
      "outputs": []
    },
    {
      "cell_type": "code",
      "source": [
        "# Explore patient’s preferences and understanding (1 to 5)\n",
        "\n",
        "# INPUT\n",
        "dspy.InputField(desc=\"Criteria: Explore patient’s preferences and understanding\")\n",
        "\n",
        "# OUTPUT\n",
        "dspy.OutputField(desc=\"\"\"Rating based on a 5 point scale for the given criteria:\n",
        "1: Very Poor - Fails to explore patient’s preferences and understanding effectively, lacking engagement and empathy.\n",
        "2: Poor - Shows minimal effort in exploring patient’s preferences and understanding, with limited engagement and empathy.\n",
        "3: Fair - Makes some attempt to explore patient’s preferences and understanding, with moderate engagement and empathy.\n",
        "4: Good - Demonstrates consistent effort in exploring patient’s preferences and understanding, fostering empathy and involvement.\n",
        "5: Excellent - Consistently explores patient’s preferences and understanding effectively, ensuring active engagement and empathy.\n",
        "\"\"\")\n"
      ],
      "metadata": {
        "id": "8d3f3cOHTyGi"
      },
      "execution_count": null,
      "outputs": []
    },
    {
      "cell_type": "code",
      "source": [
        "# Reach agreement (1 to 5)\n",
        "\n",
        "# INPUT\n",
        "dspy.InputField(desc=\"Criteria: Reach agreement\")\n",
        "\n",
        "# OUTPUT\n",
        "dspy.OutputField(desc=\"\"\"Rating based on a 5 point scale for the given criteria:\n",
        "1: Very Poor - Fails to reach agreement effectively, lacking collaboration and mutual understanding.\n",
        "2: Poor - Shows minimal effort in reaching agreement, with limited collaboration and mutual understanding.\n",
        "3: Fair - Makes some attempt to reach agreement, with moderate collaboration and mutual understanding.\n",
        "4: Good - Demonstrates consistent effort in reaching agreement, ensuring collaboration and mutual understanding.\n",
        "5: Excellent - Consistently reaches agreement effectively, ensuring clear communication and mutual satisfaction.\n",
        "\"\"\")\n"
      ],
      "metadata": {
        "id": "kXwYyTkKT0e4"
      },
      "execution_count": null,
      "outputs": []
    },
    {
      "cell_type": "code",
      "source": [
        "# Identify and enlist resources and support (1 to 5)\n",
        "\n",
        "# INPUT\n",
        "dspy.InputField(desc=\"Criteria: Identify and enlist resources and support\")\n",
        "\n",
        "# OUTPUT\n",
        "dspy.OutputField(desc=\"\"\"Rating based on a 5 point scale for the given criteria:\n",
        "1: Very Poor - Fails to identify and enlist resources and support effectively, lacking assistance and guidance.\n",
        "2: Poor - Shows minimal effort in identifying and enlisting resources and support, with limited assistance and guidance.\n",
        "3: Fair - Makes some attempt to identify and enlist resources and support, with moderate assistance and guidance.\n",
        "4: Good - Demonstrates consistent effort in identifying and enlisting resources and support, ensuring assistance and guidance.\n",
        "5: Excellent - Consistently identifies and enlists resources and support effectively, ensuring comprehensive assistance and guidance.\n",
        "\"\"\")\n"
      ],
      "metadata": {
        "id": "BYLQOOVpT2sK"
      },
      "execution_count": null,
      "outputs": []
    },
    {
      "cell_type": "code",
      "source": [
        "# Discuss follow-up and plan for unexpected outcomes (1 to 5)\n",
        "\n",
        "# INPUT\n",
        "dspy.InputField(desc=\"Criteria: Discuss follow-up and plan for unexpected outcomes\")\n",
        "\n",
        "# OUTPUT\n",
        "dspy.OutputField(desc=\"\"\"Rating based on a 5 point scale for the given criteria:\n",
        "1: Very Poor - Fails to discuss follow-up and plan for unexpected outcomes effectively, lacking preparation and foresight.\n",
        "2: Poor - Shows minimal effort in discussing follow-up and plan for unexpected outcomes, with limited preparation and foresight.\n",
        "3: Fair - Makes some attempt to discuss follow-up and plan for unexpected outcomes, with moderate preparation and foresight.\n",
        "4: Good - Demonstrates consistent effort in discussing follow-up and plan for unexpected outcomes, ensuring preparation and foresight.\n",
        "5: Excellent - Consistently discusses follow-up and plan for unexpected outcomes effectively, ensuring comprehensive preparation and foresight.\n",
        "\"\"\")\n"
      ],
      "metadata": {
        "id": "As8P2aamUBO0"
      },
      "execution_count": null,
      "outputs": []
    },
    {
      "cell_type": "markdown",
      "source": [
        "Enabling Disease and Treatment-Related Behavior"
      ],
      "metadata": {
        "id": "5VlyOuOMUcx-"
      }
    },
    {
      "cell_type": "code",
      "source": [
        "\"\"\"How would you rate the doctor's behavior of ENABLING DISEASE AND TREATMENTRELATED BEHAVIOR in the patient?\"\"\""
      ],
      "metadata": {
        "id": "97B1GInDUf07"
      },
      "execution_count": null,
      "outputs": []
    },
    {
      "cell_type": "code",
      "source": [
        "# Assess patient’s interest in and capacity for self-management (1 to 5)\n",
        "\n",
        "# INPUT\n",
        "dspy.InputField(desc=\"Criteria: Assess patient’s interest in and capacity for self-management\")\n",
        "\n",
        "# OUTPUT\n",
        "dspy.OutputField(desc=\"\"\"Rating based on a 5 point scale for the given criteria:\n",
        "1: Very Poor - Fails to assess patient's interest in and capacity for self-management, showing no effort to understand patient's willingness or ability to participate in managing their own health.\n",
        "2: Poor - Shows minimal effort in assessing patient's interest in and capacity for self-management, with limited exploration of patient's willingness or ability to participate in managing their own health.\n",
        "3: Fair - Makes some attempt to assess patient's interest in and capacity for self-management, with moderate exploration of patient's willingness or ability to participate in managing their own health.\n",
        "4: Good - Demonstrates consistent effort in assessing patient's interest in and capacity for self-management, showing understanding of patient's willingness and ability to participate in managing their own health.\n",
        "5: Excellent - Consistently assesses patient's interest in and capacity for self-management effectively, demonstrating thorough understanding of patient's willingness and ability to actively engage in managing their own health.\n",
        "\"\"\")\n"
      ],
      "metadata": {
        "id": "b0HLYPBwUcRe"
      },
      "execution_count": null,
      "outputs": []
    },
    {
      "cell_type": "code",
      "source": [
        "# Provide advice (information needs, coping skills, strategies for success) (1 to 5)\n",
        "\n",
        "# INPUT\n",
        "dspy.InputField(desc=\"Criteria: Provide advice (information needs, coping skills, strategies for success)\")\n",
        "\n",
        "# OUTPUT\n",
        "dspy.OutputField(desc=\"\"\"Rating based on a 5 point scale for the given criteria:\n",
        "1: Very Poor - Fails to provide effective advice on information needs, coping skills, and strategies for success, lacking clarity and relevance.\n",
        "2: Poor - Shows minimal effort in providing advice on information needs, coping skills, and strategies for success, with limited relevance and effectiveness.\n",
        "3: Fair - Makes some attempt to provide advice on information needs, coping skills, and strategies for success, with moderate relevance and effectiveness.\n",
        "4: Good - Demonstrates consistent effort in providing effective advice on information needs, coping skills, and strategies for success, showing relevance and helpfulness.\n",
        "5: Excellent - Consistently provides excellent advice on information needs, coping skills, and strategies for success, demonstrating exceptional relevance and effectiveness in empowering the patient.\n",
        "\"\"\")\n"
      ],
      "metadata": {
        "id": "UHN-f_wwUy4D"
      },
      "execution_count": null,
      "outputs": []
    },
    {
      "cell_type": "code",
      "source": [
        "# Agree on next steps (1 to 5)\n",
        "\n",
        "# INPUT\n",
        "dspy.InputField(desc=\"Criteria: Agree on next steps\")\n",
        "\n",
        "# OUTPUT\n",
        "dspy.OutputField(desc=\"\"\"Rating based on a 5 point scale for the given criteria:\n",
        "1: Very Poor - Fails to agree on next steps effectively, lacking collaboration and mutual understanding.\n",
        "2: Poor - Shows minimal effort in agreeing on next steps, with limited collaboration and mutual understanding.\n",
        "3: Fair - Makes some attempt to agree on next steps, with moderate collaboration and mutual understanding.\n",
        "4: Good - Demonstrates consistent effort in agreeing on next steps, ensuring collaboration and mutual understanding.\n",
        "5: Excellent - Consistently agrees on next steps effectively, ensuring clear communication and mutual satisfaction.\n",
        "\"\"\")\n"
      ],
      "metadata": {
        "id": "uDiV2G1uU1qs"
      },
      "execution_count": null,
      "outputs": []
    },
    {
      "cell_type": "code",
      "source": [
        "# Agree on next steps (1 to 5)\n",
        "\n",
        "# INPUT\n",
        "dspy.InputField(desc=\"Criteria: Agree on next steps\")\n",
        "\n",
        "# OUTPUT\n",
        "dspy.OutputField(desc=\"\"\"Rating based on a 5 point scale for the given criteria:\n",
        "1: Very Poor - Fails to agree on next steps effectively, lacking collaboration and mutual understanding.\n",
        "2: Poor - Shows minimal effort in agreeing on next steps, with limited collaboration and mutual understanding.\n",
        "3: Fair - Makes some attempt to agree on next steps, with moderate collaboration and mutual understanding.\n",
        "4: Good - Demonstrates consistent effort in agreeing on next steps, ensuring collaboration and mutual understanding.\n",
        "5: Excellent - Consistently agrees on next steps effectively, ensuring clear communication and mutual satisfaction.\n",
        "\"\"\")"
      ],
      "metadata": {
        "id": "eRTvyCtAU3gz"
      },
      "execution_count": null,
      "outputs": []
    },
    {
      "cell_type": "code",
      "source": [
        "# Assist patient to optimize autonomy and self-management of their problem (1 to 5)\n",
        "\n",
        "# INPUT\n",
        "dspy.InputField(desc=\"Criteria: Assist patient to optimize autonomy and self-management of their problem\")\n",
        "\n",
        "# OUTPUT\n",
        "dspy.OutputField(desc=\"\"\"Rating based on a 5 point scale for the given criteria:\n",
        "1: Very Poor - Fails to assist patient in optimizing autonomy and self-management of their problem, lacking support and guidance.\n",
        "2: Poor - Shows minimal effort in assisting patient to optimize autonomy and self-management of their problem, with limited support and guidance.\n",
        "3: Fair - Makes some attempt to assist patient in optimizing autonomy and self-management of their problem, with moderate support and guidance.\n",
        "4: Good - Demonstrates consistent effort in assisting patient to optimize autonomy and self-management of their problem, ensuring support and guidance.\n",
        "5: Excellent - Assists patient effectively in optimizing autonomy and self-management of their problem, providing comprehensive support and guidance.\n",
        "\"\"\")\n"
      ],
      "metadata": {
        "id": "R0kpqw66U7qn"
      },
      "execution_count": null,
      "outputs": []
    },
    {
      "cell_type": "code",
      "source": [
        "# Arrange for needed support (1 to 5)\n",
        "\n",
        "# INPUT\n",
        "dspy.InputField(desc=\"Criteria: Arrange for needed support\")\n",
        "\n",
        "# OUTPUT\n",
        "dspy.OutputField(desc=\"\"\"Rating based on a 5 point scale for the given criteria:\n",
        "1: Very Poor - Fails to arrange for needed support effectively, lacking assistance and follow-through.\n",
        "2: Poor - Shows minimal effort in arranging for needed support, with limited assistance and follow-through.\n",
        "3: Fair - Makes some attempt to arrange for needed support, with moderate assistance and follow-through.\n",
        "4: Good - Demonstrates consistent effort in arranging for needed support, ensuring assistance and follow-through.\n",
        "5: Excellent - Arranges for needed support effectively, providing comprehensive assistance and follow-through.\n",
        "\"\"\")\n"
      ],
      "metadata": {
        "id": "1svNel6zU9pT"
      },
      "execution_count": null,
      "outputs": []
    },
    {
      "cell_type": "code",
      "source": [
        "# Arrange for needed support (1 to 5)\n",
        "\n",
        "# INPUT\n",
        "dspy.InputField(desc=\"Criteria: Arrange for needed support\")\n",
        "\n",
        "# OUTPUT\n",
        "dspy.OutputField(desc=\"\"\"Rating based on a 5 point scale for the given criteria:\n",
        "1: Very Poor - Fails to arrange for needed support effectively, lacking assistance and follow-through.\n",
        "2: Poor - Shows minimal effort in arranging for needed support, with limited assistance and follow-through.\n",
        "3: Fair - Makes some attempt to arrange for needed support, with moderate assistance and follow-through.\n",
        "4: Good - Demonstrates consistent effort in arranging for needed support, ensuring assistance and follow-through.\n",
        "5: Excellent - Arranges for needed support effectively, providing comprehensive assistance and follow-through.\n",
        "\"\"\")\n"
      ],
      "metadata": {
        "id": "BOxXMo4_U_7Z"
      },
      "execution_count": null,
      "outputs": []
    },
    {
      "cell_type": "code",
      "source": [
        "# Advocate for and assist patient with health system (1 to 5)\n",
        "\n",
        "# INPUT\n",
        "dspy.InputField(desc=\"Criteria: Advocate for and assist patient with health system\")\n",
        "\n",
        "# OUTPUT\n",
        "dspy.OutputField(desc=\"\"\"Rating based on a 5 point scale for the given criteria:\n",
        "1: Very Poor - Fails to advocate for and assist patient with health system effectively, lacking advocacy and support.\n",
        "2: Poor - Shows minimal effort in advocating for and assisting patient with health system, with limited advocacy and support.\n",
        "3: Fair - Makes some attempt to advocate for and assist patient with health system, with moderate advocacy and support.\n",
        "4: Good - Demonstrates consistent effort in advocating for and assisting patient with health system, ensuring advocacy and support.\n",
        "5: Excellent - Advocates for and assists patient with health system effectively, providing comprehensive advocacy and support.\n",
        "\"\"\")\n"
      ],
      "metadata": {
        "id": "UK4l2CiGVCGa"
      },
      "execution_count": null,
      "outputs": []
    },
    {
      "cell_type": "code",
      "source": [
        "# Assess patient’s readiness to change health behaviours (1 to 5)\n",
        "\n",
        "# INPUT\n",
        "dspy.InputField(desc=\"Criteria: Assess patient’s readiness to change health behaviours\")\n",
        "\n",
        "# OUTPUT\n",
        "dspy.OutputField(desc=\"\"\"Rating based on a 5 point scale for the given criteria:\n",
        "1: Very Poor - Fails to assess patient’s readiness to change health behaviours effectively, lacking understanding and insight.\n",
        "2: Poor - Shows minimal effort in assessing patient’s readiness to change health behaviours, with limited understanding and insight.\n",
        "3: Fair - Makes some attempt to assess patient’s readiness to change health behaviours, with moderate understanding and insight.\n",
        "4: Good - Demonstrates consistent effort in assessing patient’s readiness to change health behaviours, showing understanding and insight.\n",
        "5: Excellent - Successfully assesses patient’s readiness to change health behaviours effectively, demonstrating exceptional understanding and insight.\n",
        "\"\"\")\n"
      ],
      "metadata": {
        "id": "-SJah_UyVbMs"
      },
      "execution_count": null,
      "outputs": []
    },
    {
      "cell_type": "code",
      "source": [
        "# Elicit patient’s goals, ideas and decisions (1 to 5)\n",
        "\n",
        "# INPUT\n",
        "dspy.InputField(desc=\"Criteria: Elicit patient’s goals, ideas and decisions\")\n",
        "\n",
        "# OUTPUT\n",
        "dspy.OutputField(desc=\"\"\"Rating based on a 5 point scale for the given criteria:\n",
        "1: Very Poor - Fails to elicit patient’s goals, ideas, and decisions effectively, lacking engagement and exploration.\n",
        "2: Poor - Shows minimal effort in eliciting patient’s goals, ideas, and decisions, with limited engagement and exploration.\n",
        "3: Fair - Makes some attempt to elicit patient’s goals, ideas, and decisions, with moderate engagement and exploration.\n",
        "4: Good - Demonstrates consistent effort in eliciting patient’s goals, ideas, and decisions, fostering engagement and exploration.\n",
        "5: Excellent - Consistently elicits patient’s goals, ideas, and decisions effectively, ensuring active engagement and comprehensive exploration.\n",
        "\"\"\")\n"
      ],
      "metadata": {
        "id": "Jfx8r47gVeML"
      },
      "execution_count": null,
      "outputs": []
    },
    {
      "cell_type": "markdown",
      "source": [
        "Responding to Emotions"
      ],
      "metadata": {
        "id": "HHNOQwNRVwjN"
      }
    },
    {
      "cell_type": "code",
      "source": [
        "\"\"\"How would you rate the doctor's behavior of RESPONDING TO EMOTIONS expressed by the patient?\"\"\""
      ],
      "metadata": {
        "id": "fUi0kWqnVx1F"
      },
      "execution_count": null,
      "outputs": []
    },
    {
      "cell_type": "code",
      "source": [
        "# Facilitate patient expression of emotional consequences of illness (1 to 5)\n",
        "\n",
        "# INPUT\n",
        "dspy.InputField(desc=\"Criteria: Facilitate patient expression of emotional consequences of illness\")\n",
        "\n",
        "# OUTPUT\n",
        "dspy.OutputField(desc=\"\"\"Rating based on a 5 point scale for the given criteria:\n",
        "1: Struggles to create an environment conducive to discussing emotional impacts, resulting in limited patient engagement.\n",
        "2: Attempts to encourage patient expression of emotions, but with limited success in fully eliciting emotional responses.\n",
        "3: Moderately succeeds in fostering patient expression of emotional consequences, leading to some meaningful discussion about feelings.\n",
        "4: Effectively creates an open atmosphere for patients to share emotional experiences, resulting in substantial discussion and expression of feelings.\n",
        "5: Excellently facilitates patient expression of emotional impacts, resulting in a deep exploration of emotions and experiences, fostering therapeutic communication.\n",
        "\"\"\")"
      ],
      "metadata": {
        "id": "kr2qXPCtV6kD"
      },
      "execution_count": null,
      "outputs": []
    },
    {
      "cell_type": "code",
      "source": [
        "# Acknowledge and explore emotions (1 to 5)\n",
        "\n",
        "# INPUT\n",
        "dspy.InputField(desc=\"Criteria: Acknowledge and explore emotions\")\n",
        "\n",
        "# OUTPUT\n",
        "dspy.OutputField(desc=\"\"\"Rating based on a 5 point scale for the given criteria:\n",
        "1: Rarely acknowledges or explores patient emotions, lacking in empathy and depth of understanding.\n",
        "2: Makes occasional attempts to acknowledge and explore emotions, but often lacks depth and may miss important emotional cues.\n",
        "3: Shows moderate skill in acknowledging and exploring emotions, demonstrating some empathy and understanding.\n",
        "4: Consistently acknowledges and explores patient emotions, showing empathy and fostering a deeper understanding of emotional experiences.\n",
        "5: Expertly acknowledges and explores emotions, demonstrating exceptional empathy and skill in navigating and validating patient feelings.\n",
        "\"\"\")\n"
      ],
      "metadata": {
        "id": "G4xkxe6tWHSI"
      },
      "execution_count": null,
      "outputs": []
    },
    {
      "cell_type": "code",
      "source": [
        "# Express empathy, sympathy, reassurance (1 to 5)\n",
        "\n",
        "# INPUT\n",
        "dspy.InputField(desc=\"Criteria: Express empathy, sympathy, reassurance\")\n",
        "\n",
        "# OUTPUT\n",
        "dspy.OutputField(desc=\"\"\"Rating based on a 5 point scale for the given criteria:\n",
        "1: Rarely expresses empathy, sympathy, or reassurance, leaving patients feeling unsupported and misunderstood.\n",
        "2: Occasionally expresses empathy, sympathy, or reassurance, but may lack sincerity or effectiveness in providing comfort.\n",
        "3: Demonstrates moderate skill in expressing empathy, sympathy, or reassurance, offering some level of comfort and support.\n",
        "4: Consistently expresses empathy, sympathy, and reassurance, providing meaningful comfort and reassurance to patients.\n",
        "5: Expertly expresses empathy, sympathy, and reassurance, offering unwavering support and comfort, significantly easing patient distress.\n",
        "\"\"\")\n"
      ],
      "metadata": {
        "id": "WmbGH2ZgWLGy"
      },
      "execution_count": null,
      "outputs": []
    },
    {
      "cell_type": "code",
      "source": [
        "# Provide help in dealing with emotions (1 to 5)\n",
        "\n",
        "# INPUT\n",
        "dspy.InputField(desc=\"Criteria: Provide help in dealing with emotions\")\n",
        "\n",
        "# OUTPUT\n",
        "dspy.OutputField(desc=\"\"\"Rating based on a 5 point scale for the given criteria:\n",
        "1: Offers minimal assistance in helping patients deal with emotions, providing little guidance or support.\n",
        "2: Attempts to provide help in dealing with emotions, but often lacks effectiveness or relevance in the assistance offered.\n",
        "3: Provides moderate assistance in helping patients deal with emotions, offering some guidance and support.\n",
        "4: Consistently offers helpful assistance in dealing with emotions, providing relevant guidance and support to patients.\n",
        "5: Provides exceptional help in dealing with emotions, offering comprehensive guidance and support that significantly aids patients in managing their emotional well-being.\n",
        "\"\"\")\n"
      ],
      "metadata": {
        "id": "XDec47czWRGt"
      },
      "execution_count": null,
      "outputs": []
    },
    {
      "cell_type": "code",
      "source": [
        "# Assess psychological distress (1 to 5)\n",
        "\n",
        "# INPUT\n",
        "dspy.InputField(desc=\"Criteria: Assess psychological distress\")\n",
        "\n",
        "# OUTPUT\n",
        "dspy.OutputField(desc=\"\"\"Rating based on a 5 point scale for the given criteria:\n",
        "1: Fails to effectively assess psychological distress, overlooking important emotional aspects of patient well-being.\n",
        "2: Makes limited attempts to assess psychological distress, but often misses key emotional indicators.\n",
        "3: Moderately assesses psychological distress, recognizing some emotional aspects but may overlook others.\n",
        "4: Consistently assesses psychological distress, recognizing and addressing important emotional indicators of patient well-being.\n",
        "5: Expertly assesses psychological distress, demonstrating exceptional skill in recognizing and addressing a wide range of emotional indicators, leading to a comprehensive understanding of patient emotional well-being.\n",
        "\"\"\")\n"
      ],
      "metadata": {
        "id": "__Juhls3WUdD"
      },
      "execution_count": null,
      "outputs": []
    },
    {
      "cell_type": "markdown",
      "source": [
        "# Diagnosis and Management"
      ],
      "metadata": {
        "id": "1N2lIPj2WsDm"
      }
    },
    {
      "cell_type": "code",
      "source": [],
      "metadata": {
        "id": "5yPHEd8zWwTk"
      },
      "execution_count": null,
      "outputs": []
    }
  ]
}